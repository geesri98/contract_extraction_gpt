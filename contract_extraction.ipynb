{
 "cells": [
  {
   "cell_type": "raw",
   "id": "dabc521f",
   "metadata": {},
   "source": [
    "!pip install textract\n",
    "!pip install tiktoken\n",
    "!pip install pdfminer.six"
   ]
  },
  {
   "cell_type": "code",
   "execution_count": 1,
   "id": "c51d8905",
   "metadata": {},
   "outputs": [],
   "source": [
    "import textract\n",
    "import os\n",
    "import openai\n",
    "import tiktoken"
   ]
  },
  {
   "cell_type": "code",
   "execution_count": 2,
   "id": "2680eeee",
   "metadata": {},
   "outputs": [
    {
     "name": "stderr",
     "output_type": "stream",
     "text": [
      "xref found: pos=b'978991'\n",
      "read_xref_from: start=978991, token=/b'xref'\n",
      "xref objects: {1: (None, 17, 0), 2: (None, 66, 0), 3: (None, 660, 0), 4: (None, 747, 0), 5: (None, 1132, 0), 6: (None, 1232, 0), 7: (None, 1332, 0), 8: (None, 1431, 0), 9: (None, 1530, 0), 10: (None, 1630, 0), 11: (None, 1731, 0), 12: (None, 1832, 0), 13: (None, 1933, 0), 14: (None, 2034, 0), 15: (None, 2136, 0), 16: (None, 2238, 0), 17: (None, 2340, 0), 18: (None, 3059, 0), 19: (None, 3745, 0), 20: (None, 4315, 0), 21: (None, 4759, 0), 22: (None, 5248, 0), 23: (None, 5740, 0), 24: (None, 6250, 0), 25: (None, 6822, 0), 26: (None, 6876, 0), 27: (None, 6930, 0), 28: (None, 7106, 0), 29: (None, 7351, 0), 30: (None, 27063, 0), 31: (None, 27089, 0), 32: (None, 27261, 0), 33: (None, 27501, 0), 34: (None, 259563, 0), 35: (None, 260131, 0), 36: (None, 260265, 0), 37: (None, 260295, 0), 38: (None, 260458, 0), 39: (None, 260530, 0), 40: (None, 260770, 0), 41: (None, 261458, 0), 42: (None, 262086, 0), 43: (None, 262257, 0), 44: (None, 262497, 0), 45: (None, 288541, 0), 46: (None, 288635, 0), 47: (None, 288812, 0), 48: (None, 289057, 0), 49: (None, 508343, 0), 50: (None, 508679, 0), 51: (None, 509072, 0), 52: (None, 514970, 0), 53: (None, 515139, 0), 54: (None, 515370, 0), 55: (None, 515396, 0), 56: (None, 515560, 0), 57: (None, 515786, 0), 58: (None, 515812, 0), 59: (None, 515991, 0), 60: (None, 516240, 0), 61: (None, 622629, 0), 62: (None, 622839, 0), 63: (None, 623221, 0), 64: (None, 628229, 0), 65: (None, 628638, 0), 66: (None, 628769, 0), 67: (None, 628900, 0), 68: (None, 629031, 0), 69: (None, 635199, 0), 70: (None, 635338, 0), 71: (None, 635368, 0), 72: (None, 635536, 0), 73: (None, 635608, 0), 74: (None, 635853, 0), 75: (None, 636420, 0), 76: (None, 636893, 0), 77: (None, 637302, 0), 78: (None, 637433, 0), 79: (None, 637564, 0), 80: (None, 642489, 0), 81: (None, 642849, 0), 82: (None, 648257, 0), 83: (None, 648617, 0), 84: (None, 652239, 0), 85: (None, 652648, 0), 86: (None, 652779, 0), 87: (None, 657687, 0), 88: (None, 658074, 0), 89: (None, 658205, 0), 90: (None, 658336, 0), 91: (None, 663235, 0), 92: (None, 663595, 0), 93: (None, 668537, 0), 94: (None, 668924, 0), 95: (None, 669055, 0), 96: (None, 674026, 0), 97: (None, 674408, 0), 98: (None, 679202, 0), 99: (None, 679584, 0), 100: (None, 684915, 0), 101: (None, 685325, 0), 102: (None, 685458, 0), 103: (None, 691305, 0), 104: (None, 691704, 0), 105: (None, 691805, 0), 106: (None, 691938, 0), 107: (None, 692070, 0), 108: (None, 697610, 0), 109: (None, 697983, 0), 110: (None, 703054, 0), 111: (None, 703442, 0), 112: (None, 703573, 0), 113: (None, 708845, 0), 114: (None, 709244, 0), 115: (None, 709375, 0), 116: (None, 709508, 0), 117: (None, 709641, 0), 118: (None, 709744, 0), 119: (None, 715174, 0), 120: (None, 715584, 0), 121: (None, 715688, 0), 122: (None, 715819, 0), 123: (None, 720139, 0), 124: (None, 720512, 0), 125: (None, 726333, 0), 126: (None, 726732, 0), 127: (None, 726865, 0), 128: (None, 726998, 0), 129: (None, 727102, 0), 130: (None, 727204, 0), 131: (None, 727307, 0), 132: (None, 733055, 0), 133: (None, 733428, 0), 134: (None, 738194, 0), 135: (None, 738604, 0), 136: (None, 738708, 0), 137: (None, 738811, 0), 138: (None, 744054, 0), 139: (None, 744453, 0), 140: (None, 744584, 0), 141: (None, 744714, 0), 142: (None, 744845, 0), 143: (None, 744977, 0), 144: (None, 750364, 0), 145: (None, 750737, 0), 146: (None, 755604, 0), 147: (None, 756014, 0), 148: (None, 756147, 0), 149: (None, 760465, 0), 150: (None, 760838, 0), 151: (None, 764852, 0), 152: (None, 765251, 0), 153: (None, 765384, 0), 154: (None, 770345, 0), 155: (None, 770744, 0), 156: (None, 770877, 0), 157: (None, 771009, 0), 158: (None, 771186, 0), 159: (None, 776639, 0), 160: (None, 777012, 0), 161: (None, 781094, 0), 162: (None, 781456, 0), 163: (None, 785865, 0), 164: (None, 786238, 0), 165: (None, 790584, 0), 166: (None, 790994, 0), 167: (None, 791127, 0), 168: (None, 797043, 0), 169: (None, 797442, 0), 170: (None, 797575, 0), 171: (None, 802484, 0), 172: (None, 802883, 0), 173: (None, 803014, 0), 174: (None, 803146, 0), 175: (None, 803278, 0), 176: (None, 808420, 0), 177: (None, 808793, 0), 178: (None, 814778, 0), 179: (None, 815177, 0), 180: (None, 815309, 0), 181: (None, 815442, 0), 182: (None, 820590, 0), 183: (None, 820963, 0), 184: (None, 825662, 0), 185: (None, 826061, 0), 186: (None, 826194, 0), 187: (None, 831796, 0), 188: (None, 832195, 0), 189: (None, 832327, 0), 190: (None, 836981, 0), 191: (None, 837380, 0), 192: (None, 837513, 0), 193: (None, 837659, 0), 194: (None, 842906, 0), 195: (None, 843306, 0), 196: (None, 843438, 0), 197: (None, 843571, 0), 198: (None, 849013, 0), 199: (None, 849413, 0), 200: (None, 849546, 0), 201: (None, 849679, 0), 202: (None, 849810, 0), 203: (None, 849943, 0), 204: (None, 850077, 0), 205: (None, 850211, 0), 206: (None, 855617, 0), 207: (None, 856041, 0), 208: (None, 856175, 0), 209: (None, 856309, 0), 210: (None, 856441, 0), 211: (None, 856574, 0), 212: (None, 862686, 0), 213: (None, 862830, 0), 214: (None, 862862, 0), 215: (None, 863036, 0), 216: (None, 863109, 0), 217: (None, 863359, 0), 218: (None, 863524, 0), 219: (None, 863902, 0), 220: (None, 864302, 0), 221: (None, 864436, 0), 222: (None, 864570, 0), 223: (None, 870066, 0), 224: (None, 870440, 0), 225: (None, 875025, 0), 226: (None, 875425, 0), 227: (None, 875558, 0), 228: (None, 880928, 0), 229: (None, 881328, 0), 230: (None, 881461, 0), 231: (None, 881594, 0), 232: (None, 886988, 0), 233: (None, 887362, 0), 234: (None, 891594, 0), 235: (None, 891994, 0), 236: (None, 892126, 0), 237: (None, 892259, 0), 238: (None, 898217, 0), 239: (None, 898580, 0), 240: (None, 902775, 0), 241: (None, 903127, 0), 242: (None, 906927, 0), 243: (None, 907279, 0), 244: (None, 912338, 0), 245: (None, 912690, 0), 246: (None, 917078, 0), 247: (None, 917430, 0), 248: (None, 918865, 0), 249: (None, 919228, 0), 250: (None, 926447, 0), 251: (None, 926810, 0), 252: (None, 934231, 0), 253: (None, 934594, 0), 254: (None, 942545, 0), 255: (None, 942908, 0), 256: (None, 949776, 0), 257: (None, 950139, 0), 258: (None, 957529, 0), 259: (None, 957892, 0), 260: (None, 965710, 0), 261: (None, 966073, 0), 262: (None, 969492, 0), 263: (None, 969648, 0), 264: (None, 969762, 0), 265: (None, 969843, 0), 266: (None, 969924, 0), 267: (None, 970026, 0), 268: (None, 970182, 0), 269: (None, 970222, 0), 270: (None, 970324, 0), 271: (None, 970480, 0), 272: (None, 970520, 0), 273: (None, 970622, 0), 274: (None, 970778, 0), 275: (None, 970818, 0), 276: (None, 970920, 0), 277: (None, 971076, 0), 278: (None, 971116, 0), 279: (None, 971218, 0), 280: (None, 971374, 0), 281: (None, 971414, 0), 282: (None, 971516, 0), 283: (None, 971672, 0), 284: (None, 971713, 0), 285: (None, 971815, 0), 286: (None, 971971, 0), 287: (None, 972012, 0), 288: (None, 972114, 0), 289: (None, 972270, 0), 290: (None, 972311, 0), 291: (None, 972413, 0), 292: (None, 972569, 0), 293: (None, 972610, 0), 294: (None, 972712, 0), 295: (None, 972868, 0), 296: (None, 972909, 0), 297: (None, 973011, 0), 298: (None, 973167, 0), 299: (None, 973208, 0), 300: (None, 973310, 0), 301: (None, 973466, 0), 302: (None, 973507, 0), 303: (None, 973609, 0), 304: (None, 973765, 0), 305: (None, 973806, 0), 306: (None, 973908, 0), 307: (None, 974064, 0), 308: (None, 974105, 0), 309: (None, 974207, 0), 310: (None, 974363, 0), 311: (None, 974404, 0), 312: (None, 974506, 0), 313: (None, 974662, 0), 314: (None, 974703, 0), 315: (None, 974805, 0), 316: (None, 974961, 0), 317: (None, 975002, 0), 318: (None, 975104, 0), 319: (None, 975260, 0), 320: (None, 975301, 0), 321: (None, 975403, 0), 322: (None, 975559, 0), 323: (None, 975600, 0), 324: (None, 975702, 0), 325: (None, 975858, 0), 326: (None, 975899, 0), 327: (None, 976001, 0), 328: (None, 976157, 0), 329: (None, 976198, 0), 330: (None, 976300, 0), 331: (None, 976456, 0), 332: (None, 976497, 0), 333: (None, 976599, 0), 334: (None, 976755, 0), 335: (None, 976796, 0), 336: (None, 976898, 0), 337: (None, 977054, 0), 338: (None, 977095, 0), 339: (None, 977197, 0), 340: (None, 977353, 0), 341: (None, 977394, 0), 342: (None, 977496, 0), 343: (None, 977652, 0), 344: (None, 977693, 0), 345: (None, 977795, 0), 346: (None, 977951, 0), 347: (None, 977992, 0), 348: (None, 978094, 0), 349: (None, 978250, 0), 350: (None, 978291, 0), 351: (None, 978393, 0), 352: (None, 978549, 0), 353: (None, 978590, 0), 354: (None, 978692, 0), 355: (None, 978848, 0), 356: (None, 978889, 0)}\n"
     ]
    },
    {
     "name": "stderr",
     "output_type": "stream",
     "text": [
      "trailer: {'Root': <PDFObjRef:1>, 'Info': <PDFObjRef:3>, 'Size': 357, 'ID': [b'\\xd3\\t-\\x9fEF>-5s\\xbb\\xa5\\x9bCU\\x8d', b'\\xd3\\t-\\x9fEF>-5s\\xbb\\xa5\\x9bCU\\x8d']}\n",
      "trailer: {'Root': <PDFObjRef:1>, 'Info': <PDFObjRef:3>, 'Size': 357, 'ID': [b'\\xd3\\t-\\x9fEF>-5s\\xbb\\xa5\\x9bCU\\x8d', b'\\xd3\\t-\\x9fEF>-5s\\xbb\\xa5\\x9bCU\\x8d']}\n",
      "Pages: Kids=[<PDFObjRef:4>, <PDFObjRef:50>, <PDFObjRef:62>, <PDFObjRef:64>, <PDFObjRef:76>, <PDFObjRef:80>, <PDFObjRef:82>, <PDFObjRef:84>, <PDFObjRef:87>, <PDFObjRef:91>, <PDFObjRef:93>, <PDFObjRef:96>, <PDFObjRef:98>, <PDFObjRef:100>, <PDFObjRef:103>, <PDFObjRef:108>, <PDFObjRef:110>, <PDFObjRef:113>, <PDFObjRef:119>, <PDFObjRef:123>, <PDFObjRef:125>, <PDFObjRef:132>, <PDFObjRef:134>, <PDFObjRef:138>, <PDFObjRef:144>, <PDFObjRef:146>, <PDFObjRef:149>, <PDFObjRef:151>, <PDFObjRef:154>, <PDFObjRef:159>, <PDFObjRef:161>, <PDFObjRef:163>, <PDFObjRef:165>, <PDFObjRef:168>, <PDFObjRef:171>, <PDFObjRef:176>, <PDFObjRef:178>, <PDFObjRef:182>, <PDFObjRef:184>, <PDFObjRef:187>, <PDFObjRef:190>, <PDFObjRef:194>, <PDFObjRef:198>, <PDFObjRef:206>, <PDFObjRef:219>, <PDFObjRef:223>, <PDFObjRef:225>, <PDFObjRef:228>, <PDFObjRef:232>, <PDFObjRef:234>, <PDFObjRef:238>, <PDFObjRef:240>, <PDFObjRef:242>, <PDFObjRef:244>, <PDFObjRef:246>, <PDFObjRef:248>, <PDFObjRef:250>, <PDFObjRef:252>, <PDFObjRef:254>, <PDFObjRef:256>, <PDFObjRef:258>, <PDFObjRef:260>]\n",
      "Page: {'Contents': <PDFObjRef:263>, 'CropBox': [0, 0, 595.32, 841.92], 'Group': {'CS': /'DeviceRGB', 'S': /'Transparency', 'Type': /'Group'}, 'MediaBox': [0, 0, 595.32, 841.92], 'Parent': <PDFObjRef:2>, 'Resources': {'ExtGState': {'GS7': <PDFObjRef:25>, 'GS8': <PDFObjRef:26>}, 'Font': {'F1': <PDFObjRef:27>, 'F2': <PDFObjRef:31>, 'F3': <PDFObjRef:35>, 'F4': <PDFObjRef:42>, 'F5': <PDFObjRef:46>}, 'ProcSet': [/'PDF', /'Text', /'ImageB', /'ImageC', /'ImageI'], 'XObject': {'FFT0': <PDFObjRef:262>}}, 'Rotate': 0, 'StructParents': 0, 'Tabs': /'S', 'Type': /'Page'}\n",
      "Processing page: <PDFPage: Resources={'ExtGState': {'GS7': <PDFObjRef:25>, 'GS8': <PDFObjRef:26>}, 'Font': {'F1': <PDFObjRef:27>, 'F2': <PDFObjRef:31>, 'F3': <PDFObjRef:35>, 'F4': <PDFObjRef:42>, 'F5': <PDFObjRef:46>}, 'ProcSet': [/'PDF', /'Text', /'ImageB', /'ImageC', /'ImageI'], 'XObject': {'FFT0': <PDFObjRef:262>}}, MediaBox=[0, 0, 595.32, 841.92]>\n",
      "render_contents: resources={'ExtGState': {'GS7': <PDFObjRef:25>, 'GS8': <PDFObjRef:26>}, 'Font': {'F1': <PDFObjRef:27>, 'F2': <PDFObjRef:31>, 'F3': <PDFObjRef:35>, 'F4': <PDFObjRef:42>, 'F5': <PDFObjRef:46>}, 'ProcSet': [/'PDF', /'Text', /'ImageB', /'ImageC', /'ImageI'], 'XObject': {'FFT0': <PDFObjRef:262>}}, streams=[<PDFObjRef:264>, <PDFObjRef:17>, <PDFObjRef:18>, <PDFObjRef:19>, <PDFObjRef:20>, <PDFObjRef:21>, <PDFObjRef:22>, <PDFObjRef:23>, <PDFObjRef:24>, <PDFObjRef:265>, <PDFObjRef:266>], ctm=(1, 0, 0, 1, 0, 0)\n",
      "get_font: create: objid=27, spec={'BaseFont': /'ABCDEE+Georgia-Bold', 'Encoding': /'WinAnsiEncoding', 'FirstChar': 32, 'FontDescriptor': <PDFObjRef:28>, 'LastChar': 32, 'Name': /'F1', 'Subtype': /'TrueType', 'Type': /'Font', 'Widths': <PDFObjRef:30>}\n",
      "get_font: create: objid=31, spec={'BaseFont': /'ABCDEE+Calibri', 'Encoding': /'WinAnsiEncoding', 'FirstChar': 32, 'FontDescriptor': <PDFObjRef:32>, 'LastChar': 224, 'Name': /'F2', 'Subtype': /'TrueType', 'Type': /'Font', 'Widths': <PDFObjRef:34>}\n",
      "get_font: create: objid=35, spec={'BaseFont': /'ABCDEE+Calibri', 'DescendantFonts': <PDFObjRef:36>, 'Encoding': /'Identity-H', 'Subtype': /'Type0', 'ToUnicode': <PDFObjRef:41>, 'Type': /'Font'}\n",
      "get_font: create: objid=None, spec={'BaseFont': /'ABCDEE+Calibri', 'CIDSystemInfo': <PDFObjRef:38>, 'CIDToGIDMap': /'Identity', 'DW': 1000, 'FontDescriptor': <PDFObjRef:39>, 'Subtype': /'CIDFontType2', 'Type': /'Font', 'W': <PDFObjRef:40>, 'Encoding': /'Identity-H', 'ToUnicode': <PDFStream(41): raw=557, {'Filter': /'FlateDecode', 'Length': 555}>}\n",
      "get_font: create: objid=42, spec={'BaseFont': /'ABCDEE+Georgia', 'Encoding': /'WinAnsiEncoding', 'FirstChar': 32, 'FontDescriptor': <PDFObjRef:43>, 'LastChar': 57, 'Name': /'F4', 'Subtype': /'TrueType', 'Type': /'Font', 'Widths': <PDFObjRef:45>}\n",
      "get_font: create: objid=46, spec={'BaseFont': /'ABCDEE+Calibri-Bold', 'Encoding': /'WinAnsiEncoding', 'FirstChar': 32, 'FontDescriptor': <PDFObjRef:47>, 'LastChar': 121, 'Name': /'F5', 'Subtype': /'TrueType', 'Type': /'Font', 'Widths': <PDFObjRef:49>}\n",
      "Processing xobj: <PDFStream(262): raw=10, {'BBox': [0, 0, 595.32, 841.92], 'Filter': /'FlateDecode', 'FormType': 1, 'Length': 8, 'Resources': {}, 'Subtype': /'Form', 'Type': /'XObject'}>\n",
      "render_contents: resources={'ExtGState': {'GS7': <PDFObjRef:25>, 'GS8': <PDFObjRef:26>}, 'Font': {'F1': <PDFObjRef:27>, 'F2': <PDFObjRef:31>, 'F3': <PDFObjRef:35>, 'F4': <PDFObjRef:42>, 'F5': <PDFObjRef:46>}, 'ProcSet': [/'PDF', /'Text', /'ImageB', /'ImageC', /'ImageI'], 'XObject': {'FFT0': <PDFObjRef:262>}}, streams=[<PDFStream(262): raw=10, {'BBox': [0, 0, 595.32, 841.92], 'Filter': /'FlateDecode', 'FormType': 1, 'Length': 8, 'Resources': {}, 'Subtype': /'Form', 'Type': /'XObject'}>], ctm=(1, 0, 0, 1, 0, 0)\n",
      "Page: {'Contents': <PDFObjRef:51>, 'CropBox': [0, 0, 595.32, 841.92], 'Group': {'CS': /'DeviceRGB', 'S': /'Transparency', 'Type': /'Group'}, 'MediaBox': [0, 0, 595.32, 841.92], 'Parent': <PDFObjRef:2>, 'Resources': {'ExtGState': {'GS7': <PDFObjRef:25>, 'GS8': <PDFObjRef:26>}, 'Font': {'F1': <PDFObjRef:27>, 'F2': <PDFObjRef:31>, 'F3': <PDFObjRef:35>, 'F4': <PDFObjRef:42>, 'F5': <PDFObjRef:46>, 'F6': <PDFObjRef:52>, 'F7': <PDFObjRef:55>, 'F8': <PDFObjRef:58>}, 'ProcSet': [/'PDF', /'Text', /'ImageB', /'ImageC', /'ImageI']}, 'Rotate': 0, 'StructParents': 13, 'Tabs': /'S', 'Type': /'Page'}\n",
      "Processing page: <PDFPage: Resources={'ExtGState': {'GS7': <PDFObjRef:25>, 'GS8': <PDFObjRef:26>}, 'Font': {'F1': <PDFObjRef:27>, 'F2': <PDFObjRef:31>, 'F3': <PDFObjRef:35>, 'F4': <PDFObjRef:42>, 'F5': <PDFObjRef:46>, 'F6': <PDFObjRef:52>, 'F7': <PDFObjRef:55>, 'F8': <PDFObjRef:58>}, 'ProcSet': [/'PDF', /'Text', /'ImageB', /'ImageC', /'ImageI']}, MediaBox=[0, 0, 595.32, 841.92]>\n",
      "render_contents: resources={'ExtGState': {'GS7': <PDFObjRef:25>, 'GS8': <PDFObjRef:26>}, 'Font': {'F1': <PDFObjRef:27>, 'F2': <PDFObjRef:31>, 'F3': <PDFObjRef:35>, 'F4': <PDFObjRef:42>, 'F5': <PDFObjRef:46>, 'F6': <PDFObjRef:52>, 'F7': <PDFObjRef:55>, 'F8': <PDFObjRef:58>}, 'ProcSet': [/'PDF', /'Text', /'ImageB', /'ImageC', /'ImageI']}, streams=[<PDFStream(51): raw=5826, {'Filter': /'FlateDecode', 'Length': 5824}>], ctm=(1, 0, 0, 1, 0, 0)\n",
      "get_font: create: objid=52, spec={'BaseFont': /'Arial-BoldMT', 'Encoding': /'WinAnsiEncoding', 'FirstChar': 32, 'FontDescriptor': <PDFObjRef:53>, 'LastChar': 32, 'Name': /'F6', 'Subtype': /'TrueType', 'Type': /'Font', 'Widths': <PDFObjRef:54>}\n",
      "get_font: create: objid=55, spec={'BaseFont': /'ArialMT', 'Encoding': /'WinAnsiEncoding', 'FirstChar': 32, 'FontDescriptor': <PDFObjRef:56>, 'LastChar': 32, 'Name': /'F7', 'Subtype': /'TrueType', 'Type': /'Font', 'Widths': <PDFObjRef:57>}\n",
      "get_font: create: objid=58, spec={'BaseFont': /'ABCDEE+Calibri-Italic', 'Encoding': /'WinAnsiEncoding', 'FirstChar': 32, 'FontDescriptor': <PDFObjRef:59>, 'LastChar': 116, 'Name': /'F8', 'Subtype': /'TrueType', 'Type': /'Font', 'Widths': <PDFObjRef:61>}\n",
      "Page: {'Contents': <PDFObjRef:63>, 'CropBox': [0, 0, 595.32, 841.92], 'Group': {'CS': /'DeviceRGB', 'S': /'Transparency', 'Type': /'Group'}, 'MediaBox': [0, 0, 595.32, 841.92], 'Parent': <PDFObjRef:2>, 'Resources': {'ExtGState': {'GS7': <PDFObjRef:25>, 'GS8': <PDFObjRef:26>}, 'Font': {'F1': <PDFObjRef:27>, 'F2': <PDFObjRef:31>, 'F3': <PDFObjRef:35>, 'F4': <PDFObjRef:42>, 'F5': <PDFObjRef:46>, 'F6': <PDFObjRef:52>, 'F7': <PDFObjRef:55>}, 'ProcSet': [/'PDF', /'Text', /'ImageB', /'ImageC', /'ImageI']}, 'Rotate': 0, 'StructParents': 14, 'Tabs': /'S', 'Type': /'Page'}\n",
      "Processing page: <PDFPage: Resources={'ExtGState': {'GS7': <PDFObjRef:25>, 'GS8': <PDFObjRef:26>}, 'Font': {'F1': <PDFObjRef:27>, 'F2': <PDFObjRef:31>, 'F3': <PDFObjRef:35>, 'F4': <PDFObjRef:42>, 'F5': <PDFObjRef:46>, 'F6': <PDFObjRef:52>, 'F7': <PDFObjRef:55>}, 'ProcSet': [/'PDF', /'Text', /'ImageB', /'ImageC', /'ImageI']}, MediaBox=[0, 0, 595.32, 841.92]>\n",
      "render_contents: resources={'ExtGState': {'GS7': <PDFObjRef:25>, 'GS8': <PDFObjRef:26>}, 'Font': {'F1': <PDFObjRef:27>, 'F2': <PDFObjRef:31>, 'F3': <PDFObjRef:35>, 'F4': <PDFObjRef:42>, 'F5': <PDFObjRef:46>, 'F6': <PDFObjRef:52>, 'F7': <PDFObjRef:55>}, 'ProcSet': [/'PDF', /'Text', /'ImageB', /'ImageC', /'ImageI']}, streams=[<PDFStream(63): raw=4936, {'Filter': /'FlateDecode', 'Length': 4934}>], ctm=(1, 0, 0, 1, 0, 0)\n"
     ]
    },
    {
     "name": "stderr",
     "output_type": "stream",
     "text": [
      "Page: {'Contents': <PDFObjRef:268>, 'CropBox': [0, 0, 595.32, 841.92], 'Group': {'CS': /'DeviceRGB', 'S': /'Transparency', 'Type': /'Group'}, 'MediaBox': [0, 0, 595.32, 841.92], 'Parent': <PDFObjRef:2>, 'Resources': {'ExtGState': {'GS7': <PDFObjRef:25>, 'GS8': <PDFObjRef:26>}, 'Font': {'F1': <PDFObjRef:27>, 'F2': <PDFObjRef:31>, 'F3': <PDFObjRef:35>, 'F4': <PDFObjRef:42>, 'F5': <PDFObjRef:46>, 'F7': <PDFObjRef:55>, 'F9': <PDFObjRef:69>}, 'ProcSet': [/'PDF', /'Text', /'ImageB', /'ImageC', /'ImageI'], 'XObject': {'FFT0': <PDFObjRef:267>}}, 'Rotate': 0, 'StructParents': 15, 'Tabs': /'S', 'Type': /'Page'}\n",
      "Processing page: <PDFPage: Resources={'ExtGState': {'GS7': <PDFObjRef:25>, 'GS8': <PDFObjRef:26>}, 'Font': {'F1': <PDFObjRef:27>, 'F2': <PDFObjRef:31>, 'F3': <PDFObjRef:35>, 'F4': <PDFObjRef:42>, 'F5': <PDFObjRef:46>, 'F7': <PDFObjRef:55>, 'F9': <PDFObjRef:69>}, 'ProcSet': [/'PDF', /'Text', /'ImageB', /'ImageC', /'ImageI'], 'XObject': {'FFT0': <PDFObjRef:267>}}, MediaBox=[0, 0, 595.32, 841.92]>\n",
      "render_contents: resources={'ExtGState': {'GS7': <PDFObjRef:25>, 'GS8': <PDFObjRef:26>}, 'Font': {'F1': <PDFObjRef:27>, 'F2': <PDFObjRef:31>, 'F3': <PDFObjRef:35>, 'F4': <PDFObjRef:42>, 'F5': <PDFObjRef:46>, 'F7': <PDFObjRef:55>, 'F9': <PDFObjRef:69>}, 'ProcSet': [/'PDF', /'Text', /'ImageB', /'ImageC', /'ImageI'], 'XObject': {'FFT0': <PDFObjRef:267>}}, streams=[<PDFObjRef:68>, <PDFObjRef:269>], ctm=(1, 0, 0, 1, 0, 0)\n",
      "get_font: create: objid=69, spec={'BaseFont': /'ABCDEE+Calibri-Bold', 'DescendantFonts': <PDFObjRef:70>, 'Encoding': /'Identity-H', 'Subtype': /'Type0', 'ToUnicode': <PDFObjRef:75>, 'Type': /'Font'}\n",
      "get_font: create: objid=None, spec={'BaseFont': /'ABCDEE+Calibri-Bold', 'CIDSystemInfo': <PDFObjRef:72>, 'CIDToGIDMap': /'Identity', 'DW': 1000, 'FontDescriptor': <PDFObjRef:73>, 'Subtype': /'CIDFontType2', 'Type': /'Font', 'W': <PDFObjRef:74>, 'Encoding': /'Identity-H', 'ToUnicode': <PDFStream(75): raw=402, {'Filter': /'FlateDecode', 'Length': 400}>}\n",
      "Processing xobj: <PDFStream(267): raw=10, {'BBox': [0, 0, 595.32, 841.92], 'Filter': /'FlateDecode', 'FormType': 1, 'Length': 8, 'Resources': {}, 'Subtype': /'Form', 'Type': /'XObject'}>\n",
      "render_contents: resources={'ExtGState': {'GS7': <PDFObjRef:25>, 'GS8': <PDFObjRef:26>}, 'Font': {'F1': <PDFObjRef:27>, 'F2': <PDFObjRef:31>, 'F3': <PDFObjRef:35>, 'F4': <PDFObjRef:42>, 'F5': <PDFObjRef:46>, 'F7': <PDFObjRef:55>, 'F9': <PDFObjRef:69>}, 'ProcSet': [/'PDF', /'Text', /'ImageB', /'ImageC', /'ImageI'], 'XObject': {'FFT0': <PDFObjRef:267>}}, streams=[<PDFStream(267): raw=10, {'BBox': [0, 0, 595.32, 841.92], 'Filter': /'FlateDecode', 'FormType': 1, 'Length': 8, 'Resources': {}, 'Subtype': /'Form', 'Type': /'XObject'}>], ctm=(1, 0, 0, 1, 0, 0)\n",
      "Page: {'Contents': <PDFObjRef:271>, 'CropBox': [0, 0, 595.32, 841.92], 'Group': {'CS': /'DeviceRGB', 'S': /'Transparency', 'Type': /'Group'}, 'MediaBox': [0, 0, 595.32, 841.92], 'Parent': <PDFObjRef:2>, 'Resources': {'ExtGState': {'GS7': <PDFObjRef:25>, 'GS8': <PDFObjRef:26>}, 'Font': {'F1': <PDFObjRef:27>, 'F2': <PDFObjRef:31>, 'F3': <PDFObjRef:35>, 'F4': <PDFObjRef:42>, 'F5': <PDFObjRef:46>, 'F6': <PDFObjRef:52>, 'F7': <PDFObjRef:55>}, 'ProcSet': [/'PDF', /'Text', /'ImageB', /'ImageC', /'ImageI'], 'XObject': {'FFT0': <PDFObjRef:270>}}, 'Rotate': 0, 'StructParents': 19, 'Tabs': /'S', 'Type': /'Page'}\n",
      "Processing page: <PDFPage: Resources={'ExtGState': {'GS7': <PDFObjRef:25>, 'GS8': <PDFObjRef:26>}, 'Font': {'F1': <PDFObjRef:27>, 'F2': <PDFObjRef:31>, 'F3': <PDFObjRef:35>, 'F4': <PDFObjRef:42>, 'F5': <PDFObjRef:46>, 'F6': <PDFObjRef:52>, 'F7': <PDFObjRef:55>}, 'ProcSet': [/'PDF', /'Text', /'ImageB', /'ImageC', /'ImageI'], 'XObject': {'FFT0': <PDFObjRef:270>}}, MediaBox=[0, 0, 595.32, 841.92]>\n",
      "render_contents: resources={'ExtGState': {'GS7': <PDFObjRef:25>, 'GS8': <PDFObjRef:26>}, 'Font': {'F1': <PDFObjRef:27>, 'F2': <PDFObjRef:31>, 'F3': <PDFObjRef:35>, 'F4': <PDFObjRef:42>, 'F5': <PDFObjRef:46>, 'F6': <PDFObjRef:52>, 'F7': <PDFObjRef:55>}, 'ProcSet': [/'PDF', /'Text', /'ImageB', /'ImageC', /'ImageI'], 'XObject': {'FFT0': <PDFObjRef:270>}}, streams=[<PDFObjRef:79>, <PDFObjRef:272>], ctm=(1, 0, 0, 1, 0, 0)\n",
      "Processing xobj: <PDFStream(270): raw=10, {'BBox': [0, 0, 595.32, 841.92], 'Filter': /'FlateDecode', 'FormType': 1, 'Length': 8, 'Resources': {}, 'Subtype': /'Form', 'Type': /'XObject'}>\n",
      "render_contents: resources={'ExtGState': {'GS7': <PDFObjRef:25>, 'GS8': <PDFObjRef:26>}, 'Font': {'F1': <PDFObjRef:27>, 'F2': <PDFObjRef:31>, 'F3': <PDFObjRef:35>, 'F4': <PDFObjRef:42>, 'F5': <PDFObjRef:46>, 'F6': <PDFObjRef:52>, 'F7': <PDFObjRef:55>}, 'ProcSet': [/'PDF', /'Text', /'ImageB', /'ImageC', /'ImageI'], 'XObject': {'FFT0': <PDFObjRef:270>}}, streams=[<PDFStream(270): raw=10, {'BBox': [0, 0, 595.32, 841.92], 'Filter': /'FlateDecode', 'FormType': 1, 'Length': 8, 'Resources': {}, 'Subtype': /'Form', 'Type': /'XObject'}>], ctm=(1, 0, 0, 1, 0, 0)\n",
      "Page: {'Contents': <PDFObjRef:81>, 'CropBox': [0, 0, 595.32, 841.92], 'Group': {'CS': /'DeviceRGB', 'S': /'Transparency', 'Type': /'Group'}, 'MediaBox': [0, 0, 595.32, 841.92], 'Parent': <PDFObjRef:2>, 'Resources': {'ExtGState': {'GS7': <PDFObjRef:25>, 'GS8': <PDFObjRef:26>}, 'Font': {'F1': <PDFObjRef:27>, 'F2': <PDFObjRef:31>, 'F3': <PDFObjRef:35>, 'F4': <PDFObjRef:42>, 'F7': <PDFObjRef:55>}, 'ProcSet': [/'PDF', /'Text', /'ImageB', /'ImageC', /'ImageI']}, 'Rotate': 0, 'StructParents': 22, 'Tabs': /'S', 'Type': /'Page'}\n",
      "Processing page: <PDFPage: Resources={'ExtGState': {'GS7': <PDFObjRef:25>, 'GS8': <PDFObjRef:26>}, 'Font': {'F1': <PDFObjRef:27>, 'F2': <PDFObjRef:31>, 'F3': <PDFObjRef:35>, 'F4': <PDFObjRef:42>, 'F7': <PDFObjRef:55>}, 'ProcSet': [/'PDF', /'Text', /'ImageB', /'ImageC', /'ImageI']}, MediaBox=[0, 0, 595.32, 841.92]>\n",
      "render_contents: resources={'ExtGState': {'GS7': <PDFObjRef:25>, 'GS8': <PDFObjRef:26>}, 'Font': {'F1': <PDFObjRef:27>, 'F2': <PDFObjRef:31>, 'F3': <PDFObjRef:35>, 'F4': <PDFObjRef:42>, 'F7': <PDFObjRef:55>}, 'ProcSet': [/'PDF', /'Text', /'ImageB', /'ImageC', /'ImageI']}, streams=[<PDFStream(81): raw=5336, {'Filter': /'FlateDecode', 'Length': 5334}>], ctm=(1, 0, 0, 1, 0, 0)\n",
      "Page: {'Contents': <PDFObjRef:83>, 'CropBox': [0, 0, 595.32, 841.92], 'Group': {'CS': /'DeviceRGB', 'S': /'Transparency', 'Type': /'Group'}, 'MediaBox': [0, 0, 595.32, 841.92], 'Parent': <PDFObjRef:2>, 'Resources': {'ExtGState': {'GS7': <PDFObjRef:25>, 'GS8': <PDFObjRef:26>}, 'Font': {'F1': <PDFObjRef:27>, 'F2': <PDFObjRef:31>, 'F3': <PDFObjRef:35>, 'F4': <PDFObjRef:42>, 'F7': <PDFObjRef:55>}, 'ProcSet': [/'PDF', /'Text', /'ImageB', /'ImageC', /'ImageI']}, 'Rotate': 0, 'StructParents': 23, 'Tabs': /'S', 'Type': /'Page'}\n",
      "Processing page: <PDFPage: Resources={'ExtGState': {'GS7': <PDFObjRef:25>, 'GS8': <PDFObjRef:26>}, 'Font': {'F1': <PDFObjRef:27>, 'F2': <PDFObjRef:31>, 'F3': <PDFObjRef:35>, 'F4': <PDFObjRef:42>, 'F7': <PDFObjRef:55>}, 'ProcSet': [/'PDF', /'Text', /'ImageB', /'ImageC', /'ImageI']}, MediaBox=[0, 0, 595.32, 841.92]>\n",
      "render_contents: resources={'ExtGState': {'GS7': <PDFObjRef:25>, 'GS8': <PDFObjRef:26>}, 'Font': {'F1': <PDFObjRef:27>, 'F2': <PDFObjRef:31>, 'F3': <PDFObjRef:35>, 'F4': <PDFObjRef:42>, 'F7': <PDFObjRef:55>}, 'ProcSet': [/'PDF', /'Text', /'ImageB', /'ImageC', /'ImageI']}, streams=[<PDFStream(83): raw=3550, {'Filter': /'FlateDecode', 'Length': 3548}>], ctm=(1, 0, 0, 1, 0, 0)\n",
      "Page: {'Contents': <PDFObjRef:274>, 'CropBox': [0, 0, 595.32, 841.92], 'Group': {'CS': /'DeviceRGB', 'S': /'Transparency', 'Type': /'Group'}, 'MediaBox': [0, 0, 595.32, 841.92], 'Parent': <PDFObjRef:2>, 'Resources': {'ExtGState': {'GS7': <PDFObjRef:25>, 'GS8': <PDFObjRef:26>}, 'Font': {'F1': <PDFObjRef:27>, 'F2': <PDFObjRef:31>, 'F3': <PDFObjRef:35>, 'F4': <PDFObjRef:42>, 'F5': <PDFObjRef:46>, 'F6': <PDFObjRef:52>, 'F7': <PDFObjRef:55>}, 'ProcSet': [/'PDF', /'Text', /'ImageB', /'ImageC', /'ImageI'], 'XObject': {'FFT0': <PDFObjRef:273>}}, 'Rotate': 0, 'StructParents': 24, 'Tabs': /'S', 'Type': /'Page'}\n",
      "Processing page: <PDFPage: Resources={'ExtGState': {'GS7': <PDFObjRef:25>, 'GS8': <PDFObjRef:26>}, 'Font': {'F1': <PDFObjRef:27>, 'F2': <PDFObjRef:31>, 'F3': <PDFObjRef:35>, 'F4': <PDFObjRef:42>, 'F5': <PDFObjRef:46>, 'F6': <PDFObjRef:52>, 'F7': <PDFObjRef:55>}, 'ProcSet': [/'PDF', /'Text', /'ImageB', /'ImageC', /'ImageI'], 'XObject': {'FFT0': <PDFObjRef:273>}}, MediaBox=[0, 0, 595.32, 841.92]>\n"
     ]
    },
    {
     "name": "stderr",
     "output_type": "stream",
     "text": [
      "render_contents: resources={'ExtGState': {'GS7': <PDFObjRef:25>, 'GS8': <PDFObjRef:26>}, 'Font': {'F1': <PDFObjRef:27>, 'F2': <PDFObjRef:31>, 'F3': <PDFObjRef:35>, 'F4': <PDFObjRef:42>, 'F5': <PDFObjRef:46>, 'F6': <PDFObjRef:52>, 'F7': <PDFObjRef:55>}, 'ProcSet': [/'PDF', /'Text', /'ImageB', /'ImageC', /'ImageI'], 'XObject': {'FFT0': <PDFObjRef:273>}}, streams=[<PDFObjRef:86>, <PDFObjRef:275>], ctm=(1, 0, 0, 1, 0, 0)\n",
      "Processing xobj: <PDFStream(273): raw=10, {'BBox': [0, 0, 595.32, 841.92], 'Filter': /'FlateDecode', 'FormType': 1, 'Length': 8, 'Resources': {}, 'Subtype': /'Form', 'Type': /'XObject'}>\n",
      "render_contents: resources={'ExtGState': {'GS7': <PDFObjRef:25>, 'GS8': <PDFObjRef:26>}, 'Font': {'F1': <PDFObjRef:27>, 'F2': <PDFObjRef:31>, 'F3': <PDFObjRef:35>, 'F4': <PDFObjRef:42>, 'F5': <PDFObjRef:46>, 'F6': <PDFObjRef:52>, 'F7': <PDFObjRef:55>}, 'ProcSet': [/'PDF', /'Text', /'ImageB', /'ImageC', /'ImageI'], 'XObject': {'FFT0': <PDFObjRef:273>}}, streams=[<PDFStream(273): raw=10, {'BBox': [0, 0, 595.32, 841.92], 'Filter': /'FlateDecode', 'FormType': 1, 'Length': 8, 'Resources': {}, 'Subtype': /'Form', 'Type': /'XObject'}>], ctm=(1, 0, 0, 1, 0, 0)\n",
      "Page: {'Contents': <PDFObjRef:277>, 'CropBox': [0, 0, 595.32, 841.92], 'Group': {'CS': /'DeviceRGB', 'S': /'Transparency', 'Type': /'Group'}, 'MediaBox': [0, 0, 595.32, 841.92], 'Parent': <PDFObjRef:2>, 'Resources': {'ExtGState': {'GS7': <PDFObjRef:25>, 'GS8': <PDFObjRef:26>}, 'Font': {'F1': <PDFObjRef:27>, 'F2': <PDFObjRef:31>, 'F3': <PDFObjRef:35>, 'F4': <PDFObjRef:42>, 'F7': <PDFObjRef:55>}, 'ProcSet': [/'PDF', /'Text', /'ImageB', /'ImageC', /'ImageI'], 'XObject': {'FFT0': <PDFObjRef:276>}}, 'Rotate': 0, 'StructParents': 26, 'Tabs': /'S', 'Type': /'Page'}\n",
      "Processing page: <PDFPage: Resources={'ExtGState': {'GS7': <PDFObjRef:25>, 'GS8': <PDFObjRef:26>}, 'Font': {'F1': <PDFObjRef:27>, 'F2': <PDFObjRef:31>, 'F3': <PDFObjRef:35>, 'F4': <PDFObjRef:42>, 'F7': <PDFObjRef:55>}, 'ProcSet': [/'PDF', /'Text', /'ImageB', /'ImageC', /'ImageI'], 'XObject': {'FFT0': <PDFObjRef:276>}}, MediaBox=[0, 0, 595.32, 841.92]>\n",
      "render_contents: resources={'ExtGState': {'GS7': <PDFObjRef:25>, 'GS8': <PDFObjRef:26>}, 'Font': {'F1': <PDFObjRef:27>, 'F2': <PDFObjRef:31>, 'F3': <PDFObjRef:35>, 'F4': <PDFObjRef:42>, 'F7': <PDFObjRef:55>}, 'ProcSet': [/'PDF', /'Text', /'ImageB', /'ImageC', /'ImageI'], 'XObject': {'FFT0': <PDFObjRef:276>}}, streams=[<PDFObjRef:90>, <PDFObjRef:278>], ctm=(1, 0, 0, 1, 0, 0)\n",
      "Processing xobj: <PDFStream(276): raw=10, {'BBox': [0, 0, 595.32, 841.92], 'Filter': /'FlateDecode', 'FormType': 1, 'Length': 8, 'Resources': {}, 'Subtype': /'Form', 'Type': /'XObject'}>\n",
      "render_contents: resources={'ExtGState': {'GS7': <PDFObjRef:25>, 'GS8': <PDFObjRef:26>}, 'Font': {'F1': <PDFObjRef:27>, 'F2': <PDFObjRef:31>, 'F3': <PDFObjRef:35>, 'F4': <PDFObjRef:42>, 'F7': <PDFObjRef:55>}, 'ProcSet': [/'PDF', /'Text', /'ImageB', /'ImageC', /'ImageI'], 'XObject': {'FFT0': <PDFObjRef:276>}}, streams=[<PDFStream(276): raw=10, {'BBox': [0, 0, 595.32, 841.92], 'Filter': /'FlateDecode', 'FormType': 1, 'Length': 8, 'Resources': {}, 'Subtype': /'Form', 'Type': /'XObject'}>], ctm=(1, 0, 0, 1, 0, 0)\n",
      "Page: {'Contents': <PDFObjRef:92>, 'CropBox': [0, 0, 595.32, 841.92], 'Group': {'CS': /'DeviceRGB', 'S': /'Transparency', 'Type': /'Group'}, 'MediaBox': [0, 0, 595.32, 841.92], 'Parent': <PDFObjRef:2>, 'Resources': {'ExtGState': {'GS7': <PDFObjRef:25>, 'GS8': <PDFObjRef:26>}, 'Font': {'F1': <PDFObjRef:27>, 'F2': <PDFObjRef:31>, 'F3': <PDFObjRef:35>, 'F4': <PDFObjRef:42>, 'F7': <PDFObjRef:55>}, 'ProcSet': [/'PDF', /'Text', /'ImageB', /'ImageC', /'ImageI']}, 'Rotate': 0, 'StructParents': 29, 'Tabs': /'S', 'Type': /'Page'}\n",
      "Processing page: <PDFPage: Resources={'ExtGState': {'GS7': <PDFObjRef:25>, 'GS8': <PDFObjRef:26>}, 'Font': {'F1': <PDFObjRef:27>, 'F2': <PDFObjRef:31>, 'F3': <PDFObjRef:35>, 'F4': <PDFObjRef:42>, 'F7': <PDFObjRef:55>}, 'ProcSet': [/'PDF', /'Text', /'ImageB', /'ImageC', /'ImageI']}, MediaBox=[0, 0, 595.32, 841.92]>\n",
      "render_contents: resources={'ExtGState': {'GS7': <PDFObjRef:25>, 'GS8': <PDFObjRef:26>}, 'Font': {'F1': <PDFObjRef:27>, 'F2': <PDFObjRef:31>, 'F3': <PDFObjRef:35>, 'F4': <PDFObjRef:42>, 'F7': <PDFObjRef:55>}, 'ProcSet': [/'PDF', /'Text', /'ImageB', /'ImageC', /'ImageI']}, streams=[<PDFStream(92): raw=4870, {'Filter': /'FlateDecode', 'Length': 4868}>], ctm=(1, 0, 0, 1, 0, 0)\n",
      "Page: {'Contents': <PDFObjRef:280>, 'CropBox': [0, 0, 595.32, 841.92], 'Group': {'CS': /'DeviceRGB', 'S': /'Transparency', 'Type': /'Group'}, 'MediaBox': [0, 0, 595.32, 841.92], 'Parent': <PDFObjRef:2>, 'Resources': {'ExtGState': {'GS7': <PDFObjRef:25>, 'GS8': <PDFObjRef:26>}, 'Font': {'F1': <PDFObjRef:27>, 'F2': <PDFObjRef:31>, 'F3': <PDFObjRef:35>, 'F4': <PDFObjRef:42>, 'F7': <PDFObjRef:55>}, 'ProcSet': [/'PDF', /'Text', /'ImageB', /'ImageC', /'ImageI'], 'XObject': {'FFT0': <PDFObjRef:279>}}, 'Rotate': 0, 'StructParents': 30, 'Tabs': /'S', 'Type': /'Page'}\n",
      "Processing page: <PDFPage: Resources={'ExtGState': {'GS7': <PDFObjRef:25>, 'GS8': <PDFObjRef:26>}, 'Font': {'F1': <PDFObjRef:27>, 'F2': <PDFObjRef:31>, 'F3': <PDFObjRef:35>, 'F4': <PDFObjRef:42>, 'F7': <PDFObjRef:55>}, 'ProcSet': [/'PDF', /'Text', /'ImageB', /'ImageC', /'ImageI'], 'XObject': {'FFT0': <PDFObjRef:279>}}, MediaBox=[0, 0, 595.32, 841.92]>\n",
      "render_contents: resources={'ExtGState': {'GS7': <PDFObjRef:25>, 'GS8': <PDFObjRef:26>}, 'Font': {'F1': <PDFObjRef:27>, 'F2': <PDFObjRef:31>, 'F3': <PDFObjRef:35>, 'F4': <PDFObjRef:42>, 'F7': <PDFObjRef:55>}, 'ProcSet': [/'PDF', /'Text', /'ImageB', /'ImageC', /'ImageI'], 'XObject': {'FFT0': <PDFObjRef:279>}}, streams=[<PDFObjRef:95>, <PDFObjRef:281>], ctm=(1, 0, 0, 1, 0, 0)\n",
      "Processing xobj: <PDFStream(279): raw=10, {'BBox': [0, 0, 595.32, 841.92], 'Filter': /'FlateDecode', 'FormType': 1, 'Length': 8, 'Resources': {}, 'Subtype': /'Form', 'Type': /'XObject'}>\n",
      "render_contents: resources={'ExtGState': {'GS7': <PDFObjRef:25>, 'GS8': <PDFObjRef:26>}, 'Font': {'F1': <PDFObjRef:27>, 'F2': <PDFObjRef:31>, 'F3': <PDFObjRef:35>, 'F4': <PDFObjRef:42>, 'F7': <PDFObjRef:55>}, 'ProcSet': [/'PDF', /'Text', /'ImageB', /'ImageC', /'ImageI'], 'XObject': {'FFT0': <PDFObjRef:279>}}, streams=[<PDFStream(279): raw=10, {'BBox': [0, 0, 595.32, 841.92], 'Filter': /'FlateDecode', 'FormType': 1, 'Length': 8, 'Resources': {}, 'Subtype': /'Form', 'Type': /'XObject'}>], ctm=(1, 0, 0, 1, 0, 0)\n",
      "Page: {'Contents': <PDFObjRef:97>, 'CropBox': [0, 0, 595.32, 841.92], 'Group': {'CS': /'DeviceRGB', 'S': /'Transparency', 'Type': /'Group'}, 'MediaBox': [0, 0, 595.32, 841.92], 'Parent': <PDFObjRef:2>, 'Resources': {'ExtGState': {'GS7': <PDFObjRef:25>, 'GS8': <PDFObjRef:26>}, 'Font': {'F1': <PDFObjRef:27>, 'F2': <PDFObjRef:31>, 'F3': <PDFObjRef:35>, 'F4': <PDFObjRef:42>, 'F5': <PDFObjRef:46>, 'F6': <PDFObjRef:52>, 'F7': <PDFObjRef:55>}, 'ProcSet': [/'PDF', /'Text', /'ImageB', /'ImageC', /'ImageI']}, 'Rotate': 0, 'StructParents': 32, 'Tabs': /'S', 'Type': /'Page'}\n",
      "Processing page: <PDFPage: Resources={'ExtGState': {'GS7': <PDFObjRef:25>, 'GS8': <PDFObjRef:26>}, 'Font': {'F1': <PDFObjRef:27>, 'F2': <PDFObjRef:31>, 'F3': <PDFObjRef:35>, 'F4': <PDFObjRef:42>, 'F5': <PDFObjRef:46>, 'F6': <PDFObjRef:52>, 'F7': <PDFObjRef:55>}, 'ProcSet': [/'PDF', /'Text', /'ImageB', /'ImageC', /'ImageI']}, MediaBox=[0, 0, 595.32, 841.92]>\n",
      "render_contents: resources={'ExtGState': {'GS7': <PDFObjRef:25>, 'GS8': <PDFObjRef:26>}, 'Font': {'F1': <PDFObjRef:27>, 'F2': <PDFObjRef:31>, 'F3': <PDFObjRef:35>, 'F4': <PDFObjRef:42>, 'F5': <PDFObjRef:46>, 'F6': <PDFObjRef:52>, 'F7': <PDFObjRef:55>}, 'ProcSet': [/'PDF', /'Text', /'ImageB', /'ImageC', /'ImageI']}, streams=[<PDFStream(97): raw=4722, {'Filter': /'FlateDecode', 'Length': 4720}>], ctm=(1, 0, 0, 1, 0, 0)\n",
      "Page: {'Contents': <PDFObjRef:99>, 'CropBox': [0, 0, 595.32, 841.92], 'Group': {'CS': /'DeviceRGB', 'S': /'Transparency', 'Type': /'Group'}, 'MediaBox': [0, 0, 595.32, 841.92], 'Parent': <PDFObjRef:2>, 'Resources': {'ExtGState': {'GS7': <PDFObjRef:25>, 'GS8': <PDFObjRef:26>}, 'Font': {'F1': <PDFObjRef:27>, 'F2': <PDFObjRef:31>, 'F3': <PDFObjRef:35>, 'F4': <PDFObjRef:42>, 'F5': <PDFObjRef:46>, 'F7': <PDFObjRef:55>, 'F9': <PDFObjRef:69>}, 'ProcSet': [/'PDF', /'Text', /'ImageB', /'ImageC', /'ImageI']}, 'Rotate': 0, 'StructParents': 33, 'Tabs': /'S', 'Type': /'Page'}\n"
     ]
    },
    {
     "name": "stderr",
     "output_type": "stream",
     "text": [
      "Processing page: <PDFPage: Resources={'ExtGState': {'GS7': <PDFObjRef:25>, 'GS8': <PDFObjRef:26>}, 'Font': {'F1': <PDFObjRef:27>, 'F2': <PDFObjRef:31>, 'F3': <PDFObjRef:35>, 'F4': <PDFObjRef:42>, 'F5': <PDFObjRef:46>, 'F7': <PDFObjRef:55>, 'F9': <PDFObjRef:69>}, 'ProcSet': [/'PDF', /'Text', /'ImageB', /'ImageC', /'ImageI']}, MediaBox=[0, 0, 595.32, 841.92]>\n",
      "render_contents: resources={'ExtGState': {'GS7': <PDFObjRef:25>, 'GS8': <PDFObjRef:26>}, 'Font': {'F1': <PDFObjRef:27>, 'F2': <PDFObjRef:31>, 'F3': <PDFObjRef:35>, 'F4': <PDFObjRef:42>, 'F5': <PDFObjRef:46>, 'F7': <PDFObjRef:55>, 'F9': <PDFObjRef:69>}, 'ProcSet': [/'PDF', /'Text', /'ImageB', /'ImageC', /'ImageI']}, streams=[<PDFStream(99): raw=5259, {'Filter': /'FlateDecode', 'Length': 5257}>], ctm=(1, 0, 0, 1, 0, 0)\n",
      "Page: {'Contents': <PDFObjRef:283>, 'CropBox': [0, 0, 595.32, 841.92], 'Group': {'CS': /'DeviceRGB', 'S': /'Transparency', 'Type': /'Group'}, 'MediaBox': [0, 0, 595.32, 841.92], 'Parent': <PDFObjRef:2>, 'Resources': {'ExtGState': {'GS7': <PDFObjRef:25>, 'GS8': <PDFObjRef:26>}, 'Font': {'F1': <PDFObjRef:27>, 'F2': <PDFObjRef:31>, 'F3': <PDFObjRef:35>, 'F4': <PDFObjRef:42>, 'F5': <PDFObjRef:46>, 'F6': <PDFObjRef:52>, 'F7': <PDFObjRef:55>}, 'ProcSet': [/'PDF', /'Text', /'ImageB', /'ImageC', /'ImageI'], 'XObject': {'FFT0': <PDFObjRef:282>}}, 'Rotate': 0, 'StructParents': 34, 'Tabs': /'S', 'Type': /'Page'}\n",
      "Processing page: <PDFPage: Resources={'ExtGState': {'GS7': <PDFObjRef:25>, 'GS8': <PDFObjRef:26>}, 'Font': {'F1': <PDFObjRef:27>, 'F2': <PDFObjRef:31>, 'F3': <PDFObjRef:35>, 'F4': <PDFObjRef:42>, 'F5': <PDFObjRef:46>, 'F6': <PDFObjRef:52>, 'F7': <PDFObjRef:55>}, 'ProcSet': [/'PDF', /'Text', /'ImageB', /'ImageC', /'ImageI'], 'XObject': {'FFT0': <PDFObjRef:282>}}, MediaBox=[0, 0, 595.32, 841.92]>\n",
      "render_contents: resources={'ExtGState': {'GS7': <PDFObjRef:25>, 'GS8': <PDFObjRef:26>}, 'Font': {'F1': <PDFObjRef:27>, 'F2': <PDFObjRef:31>, 'F3': <PDFObjRef:35>, 'F4': <PDFObjRef:42>, 'F5': <PDFObjRef:46>, 'F6': <PDFObjRef:52>, 'F7': <PDFObjRef:55>}, 'ProcSet': [/'PDF', /'Text', /'ImageB', /'ImageC', /'ImageI'], 'XObject': {'FFT0': <PDFObjRef:282>}}, streams=[<PDFObjRef:102>, <PDFObjRef:284>], ctm=(1, 0, 0, 1, 0, 0)\n",
      "Processing xobj: <PDFStream(282): raw=10, {'BBox': [0, 0, 595.32, 841.92], 'Filter': /'FlateDecode', 'FormType': 1, 'Length': 8, 'Resources': {}, 'Subtype': /'Form', 'Type': /'XObject'}>\n",
      "render_contents: resources={'ExtGState': {'GS7': <PDFObjRef:25>, 'GS8': <PDFObjRef:26>}, 'Font': {'F1': <PDFObjRef:27>, 'F2': <PDFObjRef:31>, 'F3': <PDFObjRef:35>, 'F4': <PDFObjRef:42>, 'F5': <PDFObjRef:46>, 'F6': <PDFObjRef:52>, 'F7': <PDFObjRef:55>}, 'ProcSet': [/'PDF', /'Text', /'ImageB', /'ImageC', /'ImageI'], 'XObject': {'FFT0': <PDFObjRef:282>}}, streams=[<PDFStream(282): raw=10, {'BBox': [0, 0, 595.32, 841.92], 'Filter': /'FlateDecode', 'FormType': 1, 'Length': 8, 'Resources': {}, 'Subtype': /'Form', 'Type': /'XObject'}>], ctm=(1, 0, 0, 1, 0, 0)\n",
      "Page: {'Contents': <PDFObjRef:286>, 'CropBox': [0, 0, 595.32, 841.92], 'Group': {'CS': /'DeviceRGB', 'S': /'Transparency', 'Type': /'Group'}, 'MediaBox': [0, 0, 595.32, 841.92], 'Parent': <PDFObjRef:2>, 'Resources': {'ExtGState': {'GS7': <PDFObjRef:25>, 'GS8': <PDFObjRef:26>}, 'Font': {'F1': <PDFObjRef:27>, 'F2': <PDFObjRef:31>, 'F3': <PDFObjRef:35>, 'F4': <PDFObjRef:42>, 'F5': <PDFObjRef:46>, 'F7': <PDFObjRef:55>}, 'ProcSet': [/'PDF', /'Text', /'ImageB', /'ImageC', /'ImageI'], 'XObject': {'FFT0': <PDFObjRef:285>}}, 'Rotate': 0, 'StructParents': 36, 'Tabs': /'S', 'Type': /'Page'}\n",
      "Processing page: <PDFPage: Resources={'ExtGState': {'GS7': <PDFObjRef:25>, 'GS8': <PDFObjRef:26>}, 'Font': {'F1': <PDFObjRef:27>, 'F2': <PDFObjRef:31>, 'F3': <PDFObjRef:35>, 'F4': <PDFObjRef:42>, 'F5': <PDFObjRef:46>, 'F7': <PDFObjRef:55>}, 'ProcSet': [/'PDF', /'Text', /'ImageB', /'ImageC', /'ImageI'], 'XObject': {'FFT0': <PDFObjRef:285>}}, MediaBox=[0, 0, 595.32, 841.92]>\n",
      "render_contents: resources={'ExtGState': {'GS7': <PDFObjRef:25>, 'GS8': <PDFObjRef:26>}, 'Font': {'F1': <PDFObjRef:27>, 'F2': <PDFObjRef:31>, 'F3': <PDFObjRef:35>, 'F4': <PDFObjRef:42>, 'F5': <PDFObjRef:46>, 'F7': <PDFObjRef:55>}, 'ProcSet': [/'PDF', /'Text', /'ImageB', /'ImageC', /'ImageI'], 'XObject': {'FFT0': <PDFObjRef:285>}}, streams=[<PDFObjRef:107>, <PDFObjRef:287>], ctm=(1, 0, 0, 1, 0, 0)\n",
      "Processing xobj: <PDFStream(285): raw=10, {'BBox': [0, 0, 595.32, 841.92], 'Filter': /'FlateDecode', 'FormType': 1, 'Length': 8, 'Resources': {}, 'Subtype': /'Form', 'Type': /'XObject'}>\n",
      "render_contents: resources={'ExtGState': {'GS7': <PDFObjRef:25>, 'GS8': <PDFObjRef:26>}, 'Font': {'F1': <PDFObjRef:27>, 'F2': <PDFObjRef:31>, 'F3': <PDFObjRef:35>, 'F4': <PDFObjRef:42>, 'F5': <PDFObjRef:46>, 'F7': <PDFObjRef:55>}, 'ProcSet': [/'PDF', /'Text', /'ImageB', /'ImageC', /'ImageI'], 'XObject': {'FFT0': <PDFObjRef:285>}}, streams=[<PDFStream(285): raw=10, {'BBox': [0, 0, 595.32, 841.92], 'Filter': /'FlateDecode', 'FormType': 1, 'Length': 8, 'Resources': {}, 'Subtype': /'Form', 'Type': /'XObject'}>], ctm=(1, 0, 0, 1, 0, 0)\n",
      "Page: {'Contents': <PDFObjRef:109>, 'CropBox': [0, 0, 595.32, 841.92], 'Group': {'CS': /'DeviceRGB', 'S': /'Transparency', 'Type': /'Group'}, 'MediaBox': [0, 0, 595.32, 841.92], 'Parent': <PDFObjRef:2>, 'Resources': {'ExtGState': {'GS7': <PDFObjRef:25>, 'GS8': <PDFObjRef:26>}, 'Font': {'F1': <PDFObjRef:27>, 'F2': <PDFObjRef:31>, 'F3': <PDFObjRef:35>, 'F4': <PDFObjRef:42>, 'F5': <PDFObjRef:46>, 'F7': <PDFObjRef:55>}, 'ProcSet': [/'PDF', /'Text', /'ImageB', /'ImageC', /'ImageI']}, 'Rotate': 0, 'StructParents': 40, 'Tabs': /'S', 'Type': /'Page'}\n",
      "Processing page: <PDFPage: Resources={'ExtGState': {'GS7': <PDFObjRef:25>, 'GS8': <PDFObjRef:26>}, 'Font': {'F1': <PDFObjRef:27>, 'F2': <PDFObjRef:31>, 'F3': <PDFObjRef:35>, 'F4': <PDFObjRef:42>, 'F5': <PDFObjRef:46>, 'F7': <PDFObjRef:55>}, 'ProcSet': [/'PDF', /'Text', /'ImageB', /'ImageC', /'ImageI']}, MediaBox=[0, 0, 595.32, 841.92]>\n",
      "render_contents: resources={'ExtGState': {'GS7': <PDFObjRef:25>, 'GS8': <PDFObjRef:26>}, 'Font': {'F1': <PDFObjRef:27>, 'F2': <PDFObjRef:31>, 'F3': <PDFObjRef:35>, 'F4': <PDFObjRef:42>, 'F5': <PDFObjRef:46>, 'F7': <PDFObjRef:55>}, 'ProcSet': [/'PDF', /'Text', /'ImageB', /'ImageC', /'ImageI']}, streams=[<PDFStream(109): raw=4998, {'Filter': /'FlateDecode', 'Length': 4996}>], ctm=(1, 0, 0, 1, 0, 0)\n",
      "Page: {'Contents': <PDFObjRef:289>, 'CropBox': [0, 0, 595.32, 841.92], 'Group': {'CS': /'DeviceRGB', 'S': /'Transparency', 'Type': /'Group'}, 'MediaBox': [0, 0, 595.32, 841.92], 'Parent': <PDFObjRef:2>, 'Resources': {'ExtGState': {'GS7': <PDFObjRef:25>, 'GS8': <PDFObjRef:26>}, 'Font': {'F1': <PDFObjRef:27>, 'F2': <PDFObjRef:31>, 'F3': <PDFObjRef:35>, 'F4': <PDFObjRef:42>, 'F7': <PDFObjRef:55>}, 'ProcSet': [/'PDF', /'Text', /'ImageB', /'ImageC', /'ImageI'], 'XObject': {'FFT0': <PDFObjRef:288>}}, 'Rotate': 0, 'StructParents': 41, 'Tabs': /'S', 'Type': /'Page'}\n",
      "Processing page: <PDFPage: Resources={'ExtGState': {'GS7': <PDFObjRef:25>, 'GS8': <PDFObjRef:26>}, 'Font': {'F1': <PDFObjRef:27>, 'F2': <PDFObjRef:31>, 'F3': <PDFObjRef:35>, 'F4': <PDFObjRef:42>, 'F7': <PDFObjRef:55>}, 'ProcSet': [/'PDF', /'Text', /'ImageB', /'ImageC', /'ImageI'], 'XObject': {'FFT0': <PDFObjRef:288>}}, MediaBox=[0, 0, 595.32, 841.92]>\n",
      "render_contents: resources={'ExtGState': {'GS7': <PDFObjRef:25>, 'GS8': <PDFObjRef:26>}, 'Font': {'F1': <PDFObjRef:27>, 'F2': <PDFObjRef:31>, 'F3': <PDFObjRef:35>, 'F4': <PDFObjRef:42>, 'F7': <PDFObjRef:55>}, 'ProcSet': [/'PDF', /'Text', /'ImageB', /'ImageC', /'ImageI'], 'XObject': {'FFT0': <PDFObjRef:288>}}, streams=[<PDFObjRef:112>, <PDFObjRef:290>], ctm=(1, 0, 0, 1, 0, 0)\n",
      "Processing xobj: <PDFStream(288): raw=10, {'BBox': [0, 0, 595.32, 841.92], 'Filter': /'FlateDecode', 'FormType': 1, 'Length': 8, 'Resources': {}, 'Subtype': /'Form', 'Type': /'XObject'}>\n",
      "render_contents: resources={'ExtGState': {'GS7': <PDFObjRef:25>, 'GS8': <PDFObjRef:26>}, 'Font': {'F1': <PDFObjRef:27>, 'F2': <PDFObjRef:31>, 'F3': <PDFObjRef:35>, 'F4': <PDFObjRef:42>, 'F7': <PDFObjRef:55>}, 'ProcSet': [/'PDF', /'Text', /'ImageB', /'ImageC', /'ImageI'], 'XObject': {'FFT0': <PDFObjRef:288>}}, streams=[<PDFStream(288): raw=10, {'BBox': [0, 0, 595.32, 841.92], 'Filter': /'FlateDecode', 'FormType': 1, 'Length': 8, 'Resources': {}, 'Subtype': /'Form', 'Type': /'XObject'}>], ctm=(1, 0, 0, 1, 0, 0)\n"
     ]
    },
    {
     "name": "stderr",
     "output_type": "stream",
     "text": [
      "Page: {'Contents': <PDFObjRef:292>, 'CropBox': [0, 0, 595.32, 841.92], 'Group': {'CS': /'DeviceRGB', 'S': /'Transparency', 'Type': /'Group'}, 'MediaBox': [0, 0, 595.32, 841.92], 'Parent': <PDFObjRef:2>, 'Resources': {'ExtGState': {'GS7': <PDFObjRef:25>, 'GS8': <PDFObjRef:26>}, 'Font': {'F1': <PDFObjRef:27>, 'F2': <PDFObjRef:31>, 'F3': <PDFObjRef:35>, 'F4': <PDFObjRef:42>, 'F5': <PDFObjRef:46>, 'F7': <PDFObjRef:55>}, 'ProcSet': [/'PDF', /'Text', /'ImageB', /'ImageC', /'ImageI'], 'XObject': {'FFT0': <PDFObjRef:291>}}, 'Rotate': 0, 'StructParents': 43, 'Tabs': /'S', 'Type': /'Page'}\n",
      "Processing page: <PDFPage: Resources={'ExtGState': {'GS7': <PDFObjRef:25>, 'GS8': <PDFObjRef:26>}, 'Font': {'F1': <PDFObjRef:27>, 'F2': <PDFObjRef:31>, 'F3': <PDFObjRef:35>, 'F4': <PDFObjRef:42>, 'F5': <PDFObjRef:46>, 'F7': <PDFObjRef:55>}, 'ProcSet': [/'PDF', /'Text', /'ImageB', /'ImageC', /'ImageI'], 'XObject': {'FFT0': <PDFObjRef:291>}}, MediaBox=[0, 0, 595.32, 841.92]>\n",
      "render_contents: resources={'ExtGState': {'GS7': <PDFObjRef:25>, 'GS8': <PDFObjRef:26>}, 'Font': {'F1': <PDFObjRef:27>, 'F2': <PDFObjRef:31>, 'F3': <PDFObjRef:35>, 'F4': <PDFObjRef:42>, 'F5': <PDFObjRef:46>, 'F7': <PDFObjRef:55>}, 'ProcSet': [/'PDF', /'Text', /'ImageB', /'ImageC', /'ImageI'], 'XObject': {'FFT0': <PDFObjRef:291>}}, streams=[<PDFObjRef:118>, <PDFObjRef:293>], ctm=(1, 0, 0, 1, 0, 0)\n",
      "Processing xobj: <PDFStream(291): raw=10, {'BBox': [0, 0, 595.32, 841.92], 'Filter': /'FlateDecode', 'FormType': 1, 'Length': 8, 'Resources': {}, 'Subtype': /'Form', 'Type': /'XObject'}>\n",
      "render_contents: resources={'ExtGState': {'GS7': <PDFObjRef:25>, 'GS8': <PDFObjRef:26>}, 'Font': {'F1': <PDFObjRef:27>, 'F2': <PDFObjRef:31>, 'F3': <PDFObjRef:35>, 'F4': <PDFObjRef:42>, 'F5': <PDFObjRef:46>, 'F7': <PDFObjRef:55>}, 'ProcSet': [/'PDF', /'Text', /'ImageB', /'ImageC', /'ImageI'], 'XObject': {'FFT0': <PDFObjRef:291>}}, streams=[<PDFStream(291): raw=10, {'BBox': [0, 0, 595.32, 841.92], 'Filter': /'FlateDecode', 'FormType': 1, 'Length': 8, 'Resources': {}, 'Subtype': /'Form', 'Type': /'XObject'}>], ctm=(1, 0, 0, 1, 0, 0)\n",
      "Page: {'Contents': <PDFObjRef:295>, 'CropBox': [0, 0, 595.32, 841.92], 'Group': {'CS': /'DeviceRGB', 'S': /'Transparency', 'Type': /'Group'}, 'MediaBox': [0, 0, 595.32, 841.92], 'Parent': <PDFObjRef:2>, 'Resources': {'ExtGState': {'GS7': <PDFObjRef:25>, 'GS8': <PDFObjRef:26>}, 'Font': {'F1': <PDFObjRef:27>, 'F2': <PDFObjRef:31>, 'F3': <PDFObjRef:35>, 'F4': <PDFObjRef:42>, 'F5': <PDFObjRef:46>, 'F6': <PDFObjRef:52>, 'F7': <PDFObjRef:55>}, 'ProcSet': [/'PDF', /'Text', /'ImageB', /'ImageC', /'ImageI'], 'XObject': {'FFT0': <PDFObjRef:294>}}, 'Rotate': 0, 'StructParents': 48, 'Tabs': /'S', 'Type': /'Page'}\n",
      "Processing page: <PDFPage: Resources={'ExtGState': {'GS7': <PDFObjRef:25>, 'GS8': <PDFObjRef:26>}, 'Font': {'F1': <PDFObjRef:27>, 'F2': <PDFObjRef:31>, 'F3': <PDFObjRef:35>, 'F4': <PDFObjRef:42>, 'F5': <PDFObjRef:46>, 'F6': <PDFObjRef:52>, 'F7': <PDFObjRef:55>}, 'ProcSet': [/'PDF', /'Text', /'ImageB', /'ImageC', /'ImageI'], 'XObject': {'FFT0': <PDFObjRef:294>}}, MediaBox=[0, 0, 595.32, 841.92]>\n",
      "render_contents: resources={'ExtGState': {'GS7': <PDFObjRef:25>, 'GS8': <PDFObjRef:26>}, 'Font': {'F1': <PDFObjRef:27>, 'F2': <PDFObjRef:31>, 'F3': <PDFObjRef:35>, 'F4': <PDFObjRef:42>, 'F5': <PDFObjRef:46>, 'F6': <PDFObjRef:52>, 'F7': <PDFObjRef:55>}, 'ProcSet': [/'PDF', /'Text', /'ImageB', /'ImageC', /'ImageI'], 'XObject': {'FFT0': <PDFObjRef:294>}}, streams=[<PDFObjRef:122>, <PDFObjRef:296>], ctm=(1, 0, 0, 1, 0, 0)\n",
      "Processing xobj: <PDFStream(294): raw=10, {'BBox': [0, 0, 595.32, 841.92], 'Filter': /'FlateDecode', 'FormType': 1, 'Length': 8, 'Resources': {}, 'Subtype': /'Form', 'Type': /'XObject'}>\n",
      "render_contents: resources={'ExtGState': {'GS7': <PDFObjRef:25>, 'GS8': <PDFObjRef:26>}, 'Font': {'F1': <PDFObjRef:27>, 'F2': <PDFObjRef:31>, 'F3': <PDFObjRef:35>, 'F4': <PDFObjRef:42>, 'F5': <PDFObjRef:46>, 'F6': <PDFObjRef:52>, 'F7': <PDFObjRef:55>}, 'ProcSet': [/'PDF', /'Text', /'ImageB', /'ImageC', /'ImageI'], 'XObject': {'FFT0': <PDFObjRef:294>}}, streams=[<PDFStream(294): raw=10, {'BBox': [0, 0, 595.32, 841.92], 'Filter': /'FlateDecode', 'FormType': 1, 'Length': 8, 'Resources': {}, 'Subtype': /'Form', 'Type': /'XObject'}>], ctm=(1, 0, 0, 1, 0, 0)\n",
      "Page: {'Contents': <PDFObjRef:124>, 'CropBox': [0, 0, 595.32, 841.92], 'Group': {'CS': /'DeviceRGB', 'S': /'Transparency', 'Type': /'Group'}, 'MediaBox': [0, 0, 595.32, 841.92], 'Parent': <PDFObjRef:2>, 'Resources': {'ExtGState': {'GS7': <PDFObjRef:25>, 'GS8': <PDFObjRef:26>}, 'Font': {'F1': <PDFObjRef:27>, 'F2': <PDFObjRef:31>, 'F3': <PDFObjRef:35>, 'F4': <PDFObjRef:42>, 'F5': <PDFObjRef:46>, 'F7': <PDFObjRef:55>}, 'ProcSet': [/'PDF', /'Text', /'ImageB', /'ImageC', /'ImageI']}, 'Rotate': 0, 'StructParents': 51, 'Tabs': /'S', 'Type': /'Page'}\n",
      "Processing page: <PDFPage: Resources={'ExtGState': {'GS7': <PDFObjRef:25>, 'GS8': <PDFObjRef:26>}, 'Font': {'F1': <PDFObjRef:27>, 'F2': <PDFObjRef:31>, 'F3': <PDFObjRef:35>, 'F4': <PDFObjRef:42>, 'F5': <PDFObjRef:46>, 'F7': <PDFObjRef:55>}, 'ProcSet': [/'PDF', /'Text', /'ImageB', /'ImageC', /'ImageI']}, MediaBox=[0, 0, 595.32, 841.92]>\n",
      "render_contents: resources={'ExtGState': {'GS7': <PDFObjRef:25>, 'GS8': <PDFObjRef:26>}, 'Font': {'F1': <PDFObjRef:27>, 'F2': <PDFObjRef:31>, 'F3': <PDFObjRef:35>, 'F4': <PDFObjRef:42>, 'F5': <PDFObjRef:46>, 'F7': <PDFObjRef:55>}, 'ProcSet': [/'PDF', /'Text', /'ImageB', /'ImageC', /'ImageI']}, streams=[<PDFStream(124): raw=5748, {'Filter': /'FlateDecode', 'Length': 5746}>], ctm=(1, 0, 0, 1, 0, 0)\n",
      "Page: {'Contents': <PDFObjRef:298>, 'CropBox': [0, 0, 595.32, 841.92], 'Group': {'CS': /'DeviceRGB', 'S': /'Transparency', 'Type': /'Group'}, 'MediaBox': [0, 0, 595.32, 841.92], 'Parent': <PDFObjRef:2>, 'Resources': {'ExtGState': {'GS7': <PDFObjRef:25>, 'GS8': <PDFObjRef:26>}, 'Font': {'F1': <PDFObjRef:27>, 'F2': <PDFObjRef:31>, 'F3': <PDFObjRef:35>, 'F4': <PDFObjRef:42>, 'F5': <PDFObjRef:46>, 'F7': <PDFObjRef:55>}, 'ProcSet': [/'PDF', /'Text', /'ImageB', /'ImageC', /'ImageI'], 'XObject': {'FFT0': <PDFObjRef:297>}}, 'Rotate': 0, 'StructParents': 52, 'Tabs': /'S', 'Type': /'Page'}\n",
      "Processing page: <PDFPage: Resources={'ExtGState': {'GS7': <PDFObjRef:25>, 'GS8': <PDFObjRef:26>}, 'Font': {'F1': <PDFObjRef:27>, 'F2': <PDFObjRef:31>, 'F3': <PDFObjRef:35>, 'F4': <PDFObjRef:42>, 'F5': <PDFObjRef:46>, 'F7': <PDFObjRef:55>}, 'ProcSet': [/'PDF', /'Text', /'ImageB', /'ImageC', /'ImageI'], 'XObject': {'FFT0': <PDFObjRef:297>}}, MediaBox=[0, 0, 595.32, 841.92]>\n",
      "render_contents: resources={'ExtGState': {'GS7': <PDFObjRef:25>, 'GS8': <PDFObjRef:26>}, 'Font': {'F1': <PDFObjRef:27>, 'F2': <PDFObjRef:31>, 'F3': <PDFObjRef:35>, 'F4': <PDFObjRef:42>, 'F5': <PDFObjRef:46>, 'F7': <PDFObjRef:55>}, 'ProcSet': [/'PDF', /'Text', /'ImageB', /'ImageC', /'ImageI'], 'XObject': {'FFT0': <PDFObjRef:297>}}, streams=[<PDFObjRef:131>, <PDFObjRef:299>], ctm=(1, 0, 0, 1, 0, 0)\n",
      "Processing xobj: <PDFStream(297): raw=10, {'BBox': [0, 0, 595.32, 841.92], 'Filter': /'FlateDecode', 'FormType': 1, 'Length': 8, 'Resources': {}, 'Subtype': /'Form', 'Type': /'XObject'}>\n",
      "render_contents: resources={'ExtGState': {'GS7': <PDFObjRef:25>, 'GS8': <PDFObjRef:26>}, 'Font': {'F1': <PDFObjRef:27>, 'F2': <PDFObjRef:31>, 'F3': <PDFObjRef:35>, 'F4': <PDFObjRef:42>, 'F5': <PDFObjRef:46>, 'F7': <PDFObjRef:55>}, 'ProcSet': [/'PDF', /'Text', /'ImageB', /'ImageC', /'ImageI'], 'XObject': {'FFT0': <PDFObjRef:297>}}, streams=[<PDFStream(297): raw=10, {'BBox': [0, 0, 595.32, 841.92], 'Filter': /'FlateDecode', 'FormType': 1, 'Length': 8, 'Resources': {}, 'Subtype': /'Form', 'Type': /'XObject'}>], ctm=(1, 0, 0, 1, 0, 0)\n",
      "Page: {'Contents': <PDFObjRef:133>, 'CropBox': [0, 0, 595.32, 841.92], 'Group': {'CS': /'DeviceRGB', 'S': /'Transparency', 'Type': /'Group'}, 'MediaBox': [0, 0, 595.32, 841.92], 'Parent': <PDFObjRef:2>, 'Resources': {'ExtGState': {'GS7': <PDFObjRef:25>, 'GS8': <PDFObjRef:26>}, 'Font': {'F1': <PDFObjRef:27>, 'F2': <PDFObjRef:31>, 'F3': <PDFObjRef:35>, 'F4': <PDFObjRef:42>, 'F5': <PDFObjRef:46>, 'F7': <PDFObjRef:55>}, 'ProcSet': [/'PDF', /'Text', /'ImageB', /'ImageC', /'ImageI']}, 'Rotate': 0, 'StructParents': 58, 'Tabs': /'S', 'Type': /'Page'}\n",
      "Processing page: <PDFPage: Resources={'ExtGState': {'GS7': <PDFObjRef:25>, 'GS8': <PDFObjRef:26>}, 'Font': {'F1': <PDFObjRef:27>, 'F2': <PDFObjRef:31>, 'F3': <PDFObjRef:35>, 'F4': <PDFObjRef:42>, 'F5': <PDFObjRef:46>, 'F7': <PDFObjRef:55>}, 'ProcSet': [/'PDF', /'Text', /'ImageB', /'ImageC', /'ImageI']}, MediaBox=[0, 0, 595.32, 841.92]>\n"
     ]
    },
    {
     "name": "stderr",
     "output_type": "stream",
     "text": [
      "render_contents: resources={'ExtGState': {'GS7': <PDFObjRef:25>, 'GS8': <PDFObjRef:26>}, 'Font': {'F1': <PDFObjRef:27>, 'F2': <PDFObjRef:31>, 'F3': <PDFObjRef:35>, 'F4': <PDFObjRef:42>, 'F5': <PDFObjRef:46>, 'F7': <PDFObjRef:55>}, 'ProcSet': [/'PDF', /'Text', /'ImageB', /'ImageC', /'ImageI']}, streams=[<PDFStream(133): raw=4693, {'Filter': /'FlateDecode', 'Length': 4691}>], ctm=(1, 0, 0, 1, 0, 0)\n",
      "Page: {'Contents': <PDFObjRef:301>, 'CropBox': [0, 0, 595.32, 841.92], 'Group': {'CS': /'DeviceRGB', 'S': /'Transparency', 'Type': /'Group'}, 'MediaBox': [0, 0, 595.32, 841.92], 'Parent': <PDFObjRef:2>, 'Resources': {'ExtGState': {'GS7': <PDFObjRef:25>, 'GS8': <PDFObjRef:26>}, 'Font': {'F1': <PDFObjRef:27>, 'F2': <PDFObjRef:31>, 'F3': <PDFObjRef:35>, 'F4': <PDFObjRef:42>, 'F5': <PDFObjRef:46>, 'F6': <PDFObjRef:52>, 'F7': <PDFObjRef:55>}, 'ProcSet': [/'PDF', /'Text', /'ImageB', /'ImageC', /'ImageI'], 'XObject': {'FFT0': <PDFObjRef:300>}}, 'Rotate': 0, 'StructParents': 59, 'Tabs': /'S', 'Type': /'Page'}\n",
      "Processing page: <PDFPage: Resources={'ExtGState': {'GS7': <PDFObjRef:25>, 'GS8': <PDFObjRef:26>}, 'Font': {'F1': <PDFObjRef:27>, 'F2': <PDFObjRef:31>, 'F3': <PDFObjRef:35>, 'F4': <PDFObjRef:42>, 'F5': <PDFObjRef:46>, 'F6': <PDFObjRef:52>, 'F7': <PDFObjRef:55>}, 'ProcSet': [/'PDF', /'Text', /'ImageB', /'ImageC', /'ImageI'], 'XObject': {'FFT0': <PDFObjRef:300>}}, MediaBox=[0, 0, 595.32, 841.92]>\n",
      "render_contents: resources={'ExtGState': {'GS7': <PDFObjRef:25>, 'GS8': <PDFObjRef:26>}, 'Font': {'F1': <PDFObjRef:27>, 'F2': <PDFObjRef:31>, 'F3': <PDFObjRef:35>, 'F4': <PDFObjRef:42>, 'F5': <PDFObjRef:46>, 'F6': <PDFObjRef:52>, 'F7': <PDFObjRef:55>}, 'ProcSet': [/'PDF', /'Text', /'ImageB', /'ImageC', /'ImageI'], 'XObject': {'FFT0': <PDFObjRef:300>}}, streams=[<PDFObjRef:137>, <PDFObjRef:302>], ctm=(1, 0, 0, 1, 0, 0)\n",
      "Processing xobj: <PDFStream(300): raw=10, {'BBox': [0, 0, 595.32, 841.92], 'Filter': /'FlateDecode', 'FormType': 1, 'Length': 8, 'Resources': {}, 'Subtype': /'Form', 'Type': /'XObject'}>\n",
      "render_contents: resources={'ExtGState': {'GS7': <PDFObjRef:25>, 'GS8': <PDFObjRef:26>}, 'Font': {'F1': <PDFObjRef:27>, 'F2': <PDFObjRef:31>, 'F3': <PDFObjRef:35>, 'F4': <PDFObjRef:42>, 'F5': <PDFObjRef:46>, 'F6': <PDFObjRef:52>, 'F7': <PDFObjRef:55>}, 'ProcSet': [/'PDF', /'Text', /'ImageB', /'ImageC', /'ImageI'], 'XObject': {'FFT0': <PDFObjRef:300>}}, streams=[<PDFStream(300): raw=10, {'BBox': [0, 0, 595.32, 841.92], 'Filter': /'FlateDecode', 'FormType': 1, 'Length': 8, 'Resources': {}, 'Subtype': /'Form', 'Type': /'XObject'}>], ctm=(1, 0, 0, 1, 0, 0)\n",
      "Page: {'Contents': <PDFObjRef:304>, 'CropBox': [0, 0, 595.32, 841.92], 'Group': {'CS': /'DeviceRGB', 'S': /'Transparency', 'Type': /'Group'}, 'MediaBox': [0, 0, 595.32, 841.92], 'Parent': <PDFObjRef:2>, 'Resources': {'ExtGState': {'GS7': <PDFObjRef:25>, 'GS8': <PDFObjRef:26>}, 'Font': {'F1': <PDFObjRef:27>, 'F2': <PDFObjRef:31>, 'F3': <PDFObjRef:35>, 'F4': <PDFObjRef:42>, 'F5': <PDFObjRef:46>, 'F7': <PDFObjRef:55>}, 'ProcSet': [/'PDF', /'Text', /'ImageB', /'ImageC', /'ImageI'], 'XObject': {'FFT0': <PDFObjRef:303>}}, 'Rotate': 0, 'StructParents': 62, 'Tabs': /'S', 'Type': /'Page'}\n",
      "Processing page: <PDFPage: Resources={'ExtGState': {'GS7': <PDFObjRef:25>, 'GS8': <PDFObjRef:26>}, 'Font': {'F1': <PDFObjRef:27>, 'F2': <PDFObjRef:31>, 'F3': <PDFObjRef:35>, 'F4': <PDFObjRef:42>, 'F5': <PDFObjRef:46>, 'F7': <PDFObjRef:55>}, 'ProcSet': [/'PDF', /'Text', /'ImageB', /'ImageC', /'ImageI'], 'XObject': {'FFT0': <PDFObjRef:303>}}, MediaBox=[0, 0, 595.32, 841.92]>\n",
      "render_contents: resources={'ExtGState': {'GS7': <PDFObjRef:25>, 'GS8': <PDFObjRef:26>}, 'Font': {'F1': <PDFObjRef:27>, 'F2': <PDFObjRef:31>, 'F3': <PDFObjRef:35>, 'F4': <PDFObjRef:42>, 'F5': <PDFObjRef:46>, 'F7': <PDFObjRef:55>}, 'ProcSet': [/'PDF', /'Text', /'ImageB', /'ImageC', /'ImageI'], 'XObject': {'FFT0': <PDFObjRef:303>}}, streams=[<PDFObjRef:143>, <PDFObjRef:305>], ctm=(1, 0, 0, 1, 0, 0)\n",
      "Processing xobj: <PDFStream(303): raw=10, {'BBox': [0, 0, 595.32, 841.92], 'Filter': /'FlateDecode', 'FormType': 1, 'Length': 8, 'Resources': {}, 'Subtype': /'Form', 'Type': /'XObject'}>\n",
      "render_contents: resources={'ExtGState': {'GS7': <PDFObjRef:25>, 'GS8': <PDFObjRef:26>}, 'Font': {'F1': <PDFObjRef:27>, 'F2': <PDFObjRef:31>, 'F3': <PDFObjRef:35>, 'F4': <PDFObjRef:42>, 'F5': <PDFObjRef:46>, 'F7': <PDFObjRef:55>}, 'ProcSet': [/'PDF', /'Text', /'ImageB', /'ImageC', /'ImageI'], 'XObject': {'FFT0': <PDFObjRef:303>}}, streams=[<PDFStream(303): raw=10, {'BBox': [0, 0, 595.32, 841.92], 'Filter': /'FlateDecode', 'FormType': 1, 'Length': 8, 'Resources': {}, 'Subtype': /'Form', 'Type': /'XObject'}>], ctm=(1, 0, 0, 1, 0, 0)\n",
      "Page: {'Contents': <PDFObjRef:145>, 'CropBox': [0, 0, 595.32, 841.92], 'Group': {'CS': /'DeviceRGB', 'S': /'Transparency', 'Type': /'Group'}, 'MediaBox': [0, 0, 595.32, 841.92], 'Parent': <PDFObjRef:2>, 'Resources': {'ExtGState': {'GS7': <PDFObjRef:25>, 'GS8': <PDFObjRef:26>}, 'Font': {'F1': <PDFObjRef:27>, 'F2': <PDFObjRef:31>, 'F3': <PDFObjRef:35>, 'F4': <PDFObjRef:42>, 'F5': <PDFObjRef:46>, 'F7': <PDFObjRef:55>}, 'ProcSet': [/'PDF', /'Text', /'ImageB', /'ImageC', /'ImageI']}, 'Rotate': 0, 'StructParents': 67, 'Tabs': /'S', 'Type': /'Page'}\n",
      "Processing page: <PDFPage: Resources={'ExtGState': {'GS7': <PDFObjRef:25>, 'GS8': <PDFObjRef:26>}, 'Font': {'F1': <PDFObjRef:27>, 'F2': <PDFObjRef:31>, 'F3': <PDFObjRef:35>, 'F4': <PDFObjRef:42>, 'F5': <PDFObjRef:46>, 'F7': <PDFObjRef:55>}, 'ProcSet': [/'PDF', /'Text', /'ImageB', /'ImageC', /'ImageI']}, MediaBox=[0, 0, 595.32, 841.92]>\n",
      "render_contents: resources={'ExtGState': {'GS7': <PDFObjRef:25>, 'GS8': <PDFObjRef:26>}, 'Font': {'F1': <PDFObjRef:27>, 'F2': <PDFObjRef:31>, 'F3': <PDFObjRef:35>, 'F4': <PDFObjRef:42>, 'F5': <PDFObjRef:46>, 'F7': <PDFObjRef:55>}, 'ProcSet': [/'PDF', /'Text', /'ImageB', /'ImageC', /'ImageI']}, streams=[<PDFStream(145): raw=4794, {'Filter': /'FlateDecode', 'Length': 4792}>], ctm=(1, 0, 0, 1, 0, 0)\n",
      "Page: {'Contents': <PDFObjRef:307>, 'CropBox': [0, 0, 595.32, 841.92], 'Group': {'CS': /'DeviceRGB', 'S': /'Transparency', 'Type': /'Group'}, 'MediaBox': [0, 0, 595.32, 841.92], 'Parent': <PDFObjRef:2>, 'Resources': {'ExtGState': {'GS7': <PDFObjRef:25>, 'GS8': <PDFObjRef:26>}, 'Font': {'F1': <PDFObjRef:27>, 'F2': <PDFObjRef:31>, 'F3': <PDFObjRef:35>, 'F4': <PDFObjRef:42>, 'F5': <PDFObjRef:46>, 'F6': <PDFObjRef:52>, 'F7': <PDFObjRef:55>}, 'ProcSet': [/'PDF', /'Text', /'ImageB', /'ImageC', /'ImageI'], 'XObject': {'FFT0': <PDFObjRef:306>}}, 'Rotate': 0, 'StructParents': 68, 'Tabs': /'S', 'Type': /'Page'}\n",
      "Processing page: <PDFPage: Resources={'ExtGState': {'GS7': <PDFObjRef:25>, 'GS8': <PDFObjRef:26>}, 'Font': {'F1': <PDFObjRef:27>, 'F2': <PDFObjRef:31>, 'F3': <PDFObjRef:35>, 'F4': <PDFObjRef:42>, 'F5': <PDFObjRef:46>, 'F6': <PDFObjRef:52>, 'F7': <PDFObjRef:55>}, 'ProcSet': [/'PDF', /'Text', /'ImageB', /'ImageC', /'ImageI'], 'XObject': {'FFT0': <PDFObjRef:306>}}, MediaBox=[0, 0, 595.32, 841.92]>\n",
      "render_contents: resources={'ExtGState': {'GS7': <PDFObjRef:25>, 'GS8': <PDFObjRef:26>}, 'Font': {'F1': <PDFObjRef:27>, 'F2': <PDFObjRef:31>, 'F3': <PDFObjRef:35>, 'F4': <PDFObjRef:42>, 'F5': <PDFObjRef:46>, 'F6': <PDFObjRef:52>, 'F7': <PDFObjRef:55>}, 'ProcSet': [/'PDF', /'Text', /'ImageB', /'ImageC', /'ImageI'], 'XObject': {'FFT0': <PDFObjRef:306>}}, streams=[<PDFObjRef:148>, <PDFObjRef:308>], ctm=(1, 0, 0, 1, 0, 0)\n",
      "Processing xobj: <PDFStream(306): raw=10, {'BBox': [0, 0, 595.32, 841.92], 'Filter': /'FlateDecode', 'FormType': 1, 'Length': 8, 'Resources': {}, 'Subtype': /'Form', 'Type': /'XObject'}>\n",
      "render_contents: resources={'ExtGState': {'GS7': <PDFObjRef:25>, 'GS8': <PDFObjRef:26>}, 'Font': {'F1': <PDFObjRef:27>, 'F2': <PDFObjRef:31>, 'F3': <PDFObjRef:35>, 'F4': <PDFObjRef:42>, 'F5': <PDFObjRef:46>, 'F6': <PDFObjRef:52>, 'F7': <PDFObjRef:55>}, 'ProcSet': [/'PDF', /'Text', /'ImageB', /'ImageC', /'ImageI'], 'XObject': {'FFT0': <PDFObjRef:306>}}, streams=[<PDFStream(306): raw=10, {'BBox': [0, 0, 595.32, 841.92], 'Filter': /'FlateDecode', 'FormType': 1, 'Length': 8, 'Resources': {}, 'Subtype': /'Form', 'Type': /'XObject'}>], ctm=(1, 0, 0, 1, 0, 0)\n",
      "Page: {'Contents': <PDFObjRef:150>, 'CropBox': [0, 0, 595.32, 841.92], 'Group': {'CS': /'DeviceRGB', 'S': /'Transparency', 'Type': /'Group'}, 'MediaBox': [0, 0, 595.32, 841.92], 'Parent': <PDFObjRef:2>, 'Resources': {'ExtGState': {'GS7': <PDFObjRef:25>, 'GS8': <PDFObjRef:26>}, 'Font': {'F1': <PDFObjRef:27>, 'F2': <PDFObjRef:31>, 'F3': <PDFObjRef:35>, 'F4': <PDFObjRef:42>, 'F5': <PDFObjRef:46>, 'F7': <PDFObjRef:55>}, 'ProcSet': [/'PDF', /'Text', /'ImageB', /'ImageC', /'ImageI']}, 'Rotate': 0, 'StructParents': 70, 'Tabs': /'S', 'Type': /'Page'}\n"
     ]
    },
    {
     "name": "stderr",
     "output_type": "stream",
     "text": [
      "Processing page: <PDFPage: Resources={'ExtGState': {'GS7': <PDFObjRef:25>, 'GS8': <PDFObjRef:26>}, 'Font': {'F1': <PDFObjRef:27>, 'F2': <PDFObjRef:31>, 'F3': <PDFObjRef:35>, 'F4': <PDFObjRef:42>, 'F5': <PDFObjRef:46>, 'F7': <PDFObjRef:55>}, 'ProcSet': [/'PDF', /'Text', /'ImageB', /'ImageC', /'ImageI']}, MediaBox=[0, 0, 595.32, 841.92]>\n",
      "render_contents: resources={'ExtGState': {'GS7': <PDFObjRef:25>, 'GS8': <PDFObjRef:26>}, 'Font': {'F1': <PDFObjRef:27>, 'F2': <PDFObjRef:31>, 'F3': <PDFObjRef:35>, 'F4': <PDFObjRef:42>, 'F5': <PDFObjRef:46>, 'F7': <PDFObjRef:55>}, 'ProcSet': [/'PDF', /'Text', /'ImageB', /'ImageC', /'ImageI']}, streams=[<PDFStream(150): raw=3941, {'Filter': /'FlateDecode', 'Length': 3939}>], ctm=(1, 0, 0, 1, 0, 0)\n",
      "Page: {'Contents': <PDFObjRef:310>, 'CropBox': [0, 0, 595.32, 841.92], 'Group': {'CS': /'DeviceRGB', 'S': /'Transparency', 'Type': /'Group'}, 'MediaBox': [0, 0, 595.32, 841.92], 'Parent': <PDFObjRef:2>, 'Resources': {'ExtGState': {'GS7': <PDFObjRef:25>, 'GS8': <PDFObjRef:26>}, 'Font': {'F1': <PDFObjRef:27>, 'F2': <PDFObjRef:31>, 'F3': <PDFObjRef:35>, 'F4': <PDFObjRef:42>, 'F5': <PDFObjRef:46>, 'F7': <PDFObjRef:55>}, 'ProcSet': [/'PDF', /'Text', /'ImageB', /'ImageC', /'ImageI'], 'XObject': {'FFT0': <PDFObjRef:309>}}, 'Rotate': 0, 'StructParents': 71, 'Tabs': /'S', 'Type': /'Page'}\n",
      "Processing page: <PDFPage: Resources={'ExtGState': {'GS7': <PDFObjRef:25>, 'GS8': <PDFObjRef:26>}, 'Font': {'F1': <PDFObjRef:27>, 'F2': <PDFObjRef:31>, 'F3': <PDFObjRef:35>, 'F4': <PDFObjRef:42>, 'F5': <PDFObjRef:46>, 'F7': <PDFObjRef:55>}, 'ProcSet': [/'PDF', /'Text', /'ImageB', /'ImageC', /'ImageI'], 'XObject': {'FFT0': <PDFObjRef:309>}}, MediaBox=[0, 0, 595.32, 841.92]>\n",
      "render_contents: resources={'ExtGState': {'GS7': <PDFObjRef:25>, 'GS8': <PDFObjRef:26>}, 'Font': {'F1': <PDFObjRef:27>, 'F2': <PDFObjRef:31>, 'F3': <PDFObjRef:35>, 'F4': <PDFObjRef:42>, 'F5': <PDFObjRef:46>, 'F7': <PDFObjRef:55>}, 'ProcSet': [/'PDF', /'Text', /'ImageB', /'ImageC', /'ImageI'], 'XObject': {'FFT0': <PDFObjRef:309>}}, streams=[<PDFObjRef:153>, <PDFObjRef:311>], ctm=(1, 0, 0, 1, 0, 0)\n",
      "Processing xobj: <PDFStream(309): raw=10, {'BBox': [0, 0, 595.32, 841.92], 'Filter': /'FlateDecode', 'FormType': 1, 'Length': 8, 'Resources': {}, 'Subtype': /'Form', 'Type': /'XObject'}>\n",
      "render_contents: resources={'ExtGState': {'GS7': <PDFObjRef:25>, 'GS8': <PDFObjRef:26>}, 'Font': {'F1': <PDFObjRef:27>, 'F2': <PDFObjRef:31>, 'F3': <PDFObjRef:35>, 'F4': <PDFObjRef:42>, 'F5': <PDFObjRef:46>, 'F7': <PDFObjRef:55>}, 'ProcSet': [/'PDF', /'Text', /'ImageB', /'ImageC', /'ImageI'], 'XObject': {'FFT0': <PDFObjRef:309>}}, streams=[<PDFStream(309): raw=10, {'BBox': [0, 0, 595.32, 841.92], 'Filter': /'FlateDecode', 'FormType': 1, 'Length': 8, 'Resources': {}, 'Subtype': /'Form', 'Type': /'XObject'}>], ctm=(1, 0, 0, 1, 0, 0)\n",
      "Page: {'Contents': <PDFObjRef:313>, 'CropBox': [0, 0, 595.32, 841.92], 'Group': {'CS': /'DeviceRGB', 'S': /'Transparency', 'Type': /'Group'}, 'MediaBox': [0, 0, 595.32, 841.92], 'Parent': <PDFObjRef:2>, 'Resources': {'ExtGState': {'GS7': <PDFObjRef:25>, 'GS8': <PDFObjRef:26>}, 'Font': {'F1': <PDFObjRef:27>, 'F2': <PDFObjRef:31>, 'F3': <PDFObjRef:35>, 'F4': <PDFObjRef:42>, 'F5': <PDFObjRef:46>, 'F7': <PDFObjRef:55>}, 'ProcSet': [/'PDF', /'Text', /'ImageB', /'ImageC', /'ImageI'], 'XObject': {'FFT0': <PDFObjRef:312>}}, 'Rotate': 0, 'StructParents': 73, 'Tabs': /'S', 'Type': /'Page'}\n",
      "Processing page: <PDFPage: Resources={'ExtGState': {'GS7': <PDFObjRef:25>, 'GS8': <PDFObjRef:26>}, 'Font': {'F1': <PDFObjRef:27>, 'F2': <PDFObjRef:31>, 'F3': <PDFObjRef:35>, 'F4': <PDFObjRef:42>, 'F5': <PDFObjRef:46>, 'F7': <PDFObjRef:55>}, 'ProcSet': [/'PDF', /'Text', /'ImageB', /'ImageC', /'ImageI'], 'XObject': {'FFT0': <PDFObjRef:312>}}, MediaBox=[0, 0, 595.32, 841.92]>\n",
      "render_contents: resources={'ExtGState': {'GS7': <PDFObjRef:25>, 'GS8': <PDFObjRef:26>}, 'Font': {'F1': <PDFObjRef:27>, 'F2': <PDFObjRef:31>, 'F3': <PDFObjRef:35>, 'F4': <PDFObjRef:42>, 'F5': <PDFObjRef:46>, 'F7': <PDFObjRef:55>}, 'ProcSet': [/'PDF', /'Text', /'ImageB', /'ImageC', /'ImageI'], 'XObject': {'FFT0': <PDFObjRef:312>}}, streams=[<PDFObjRef:158>, <PDFObjRef:314>], ctm=(1, 0, 0, 1, 0, 0)\n",
      "Processing xobj: <PDFStream(312): raw=10, {'BBox': [0, 0, 595.32, 841.92], 'Filter': /'FlateDecode', 'FormType': 1, 'Length': 8, 'Resources': {}, 'Subtype': /'Form', 'Type': /'XObject'}>\n",
      "render_contents: resources={'ExtGState': {'GS7': <PDFObjRef:25>, 'GS8': <PDFObjRef:26>}, 'Font': {'F1': <PDFObjRef:27>, 'F2': <PDFObjRef:31>, 'F3': <PDFObjRef:35>, 'F4': <PDFObjRef:42>, 'F5': <PDFObjRef:46>, 'F7': <PDFObjRef:55>}, 'ProcSet': [/'PDF', /'Text', /'ImageB', /'ImageC', /'ImageI'], 'XObject': {'FFT0': <PDFObjRef:312>}}, streams=[<PDFStream(312): raw=10, {'BBox': [0, 0, 595.32, 841.92], 'Filter': /'FlateDecode', 'FormType': 1, 'Length': 8, 'Resources': {}, 'Subtype': /'Form', 'Type': /'XObject'}>], ctm=(1, 0, 0, 1, 0, 0)\n",
      "Page: {'Contents': <PDFObjRef:160>, 'CropBox': [0, 0, 595.32, 841.92], 'Group': {'CS': /'DeviceRGB', 'S': /'Transparency', 'Type': /'Group'}, 'MediaBox': [0, 0, 595.32, 841.92], 'Parent': <PDFObjRef:2>, 'Resources': {'ExtGState': {'GS7': <PDFObjRef:25>, 'GS8': <PDFObjRef:26>}, 'Font': {'F1': <PDFObjRef:27>, 'F2': <PDFObjRef:31>, 'F3': <PDFObjRef:35>, 'F4': <PDFObjRef:42>, 'F5': <PDFObjRef:46>, 'F7': <PDFObjRef:55>}, 'ProcSet': [/'PDF', /'Text', /'ImageB', /'ImageC', /'ImageI']}, 'Rotate': 0, 'StructParents': 77, 'Tabs': /'S', 'Type': /'Page'}\n",
      "Processing page: <PDFPage: Resources={'ExtGState': {'GS7': <PDFObjRef:25>, 'GS8': <PDFObjRef:26>}, 'Font': {'F1': <PDFObjRef:27>, 'F2': <PDFObjRef:31>, 'F3': <PDFObjRef:35>, 'F4': <PDFObjRef:42>, 'F5': <PDFObjRef:46>, 'F7': <PDFObjRef:55>}, 'ProcSet': [/'PDF', /'Text', /'ImageB', /'ImageC', /'ImageI']}, MediaBox=[0, 0, 595.32, 841.92]>\n",
      "render_contents: resources={'ExtGState': {'GS7': <PDFObjRef:25>, 'GS8': <PDFObjRef:26>}, 'Font': {'F1': <PDFObjRef:27>, 'F2': <PDFObjRef:31>, 'F3': <PDFObjRef:35>, 'F4': <PDFObjRef:42>, 'F5': <PDFObjRef:46>, 'F7': <PDFObjRef:55>}, 'ProcSet': [/'PDF', /'Text', /'ImageB', /'ImageC', /'ImageI']}, streams=[<PDFStream(160): raw=4009, {'Filter': /'FlateDecode', 'Length': 4007}>], ctm=(1, 0, 0, 1, 0, 0)\n",
      "Page: {'Contents': <PDFObjRef:162>, 'CropBox': [0, 0, 595.32, 841.92], 'Group': {'CS': /'DeviceRGB', 'S': /'Transparency', 'Type': /'Group'}, 'MediaBox': [0, 0, 595.32, 841.92], 'Parent': <PDFObjRef:2>, 'Resources': {'ExtGState': {'GS7': <PDFObjRef:25>, 'GS8': <PDFObjRef:26>}, 'Font': {'F1': <PDFObjRef:27>, 'F2': <PDFObjRef:31>, 'F3': <PDFObjRef:35>, 'F4': <PDFObjRef:42>, 'F7': <PDFObjRef:55>}, 'ProcSet': [/'PDF', /'Text', /'ImageB', /'ImageC', /'ImageI']}, 'Rotate': 0, 'StructParents': 78, 'Tabs': /'S', 'Type': /'Page'}\n",
      "Processing page: <PDFPage: Resources={'ExtGState': {'GS7': <PDFObjRef:25>, 'GS8': <PDFObjRef:26>}, 'Font': {'F1': <PDFObjRef:27>, 'F2': <PDFObjRef:31>, 'F3': <PDFObjRef:35>, 'F4': <PDFObjRef:42>, 'F7': <PDFObjRef:55>}, 'ProcSet': [/'PDF', /'Text', /'ImageB', /'ImageC', /'ImageI']}, MediaBox=[0, 0, 595.32, 841.92]>\n",
      "render_contents: resources={'ExtGState': {'GS7': <PDFObjRef:25>, 'GS8': <PDFObjRef:26>}, 'Font': {'F1': <PDFObjRef:27>, 'F2': <PDFObjRef:31>, 'F3': <PDFObjRef:35>, 'F4': <PDFObjRef:42>, 'F7': <PDFObjRef:55>}, 'ProcSet': [/'PDF', /'Text', /'ImageB', /'ImageC', /'ImageI']}, streams=[<PDFStream(162): raw=4336, {'Filter': /'FlateDecode', 'Length': 4334}>], ctm=(1, 0, 0, 1, 0, 0)\n",
      "Page: {'Contents': <PDFObjRef:164>, 'CropBox': [0, 0, 595.32, 841.92], 'Group': {'CS': /'DeviceRGB', 'S': /'Transparency', 'Type': /'Group'}, 'MediaBox': [0, 0, 595.32, 841.92], 'Parent': <PDFObjRef:2>, 'Resources': {'ExtGState': {'GS7': <PDFObjRef:25>, 'GS8': <PDFObjRef:26>}, 'Font': {'F1': <PDFObjRef:27>, 'F2': <PDFObjRef:31>, 'F3': <PDFObjRef:35>, 'F4': <PDFObjRef:42>, 'F5': <PDFObjRef:46>, 'F7': <PDFObjRef:55>}, 'ProcSet': [/'PDF', /'Text', /'ImageB', /'ImageC', /'ImageI']}, 'Rotate': 0, 'StructParents': 79, 'Tabs': /'S', 'Type': /'Page'}\n",
      "Processing page: <PDFPage: Resources={'ExtGState': {'GS7': <PDFObjRef:25>, 'GS8': <PDFObjRef:26>}, 'Font': {'F1': <PDFObjRef:27>, 'F2': <PDFObjRef:31>, 'F3': <PDFObjRef:35>, 'F4': <PDFObjRef:42>, 'F5': <PDFObjRef:46>, 'F7': <PDFObjRef:55>}, 'ProcSet': [/'PDF', /'Text', /'ImageB', /'ImageC', /'ImageI']}, MediaBox=[0, 0, 595.32, 841.92]>\n"
     ]
    },
    {
     "name": "stderr",
     "output_type": "stream",
     "text": [
      "render_contents: resources={'ExtGState': {'GS7': <PDFObjRef:25>, 'GS8': <PDFObjRef:26>}, 'Font': {'F1': <PDFObjRef:27>, 'F2': <PDFObjRef:31>, 'F3': <PDFObjRef:35>, 'F4': <PDFObjRef:42>, 'F5': <PDFObjRef:46>, 'F7': <PDFObjRef:55>}, 'ProcSet': [/'PDF', /'Text', /'ImageB', /'ImageC', /'ImageI']}, streams=[<PDFStream(164): raw=4273, {'Filter': /'FlateDecode', 'Length': 4271}>], ctm=(1, 0, 0, 1, 0, 0)\n",
      "Page: {'Contents': <PDFObjRef:316>, 'CropBox': [0, 0, 595.32, 841.92], 'Group': {'CS': /'DeviceRGB', 'S': /'Transparency', 'Type': /'Group'}, 'MediaBox': [0, 0, 595.32, 841.92], 'Parent': <PDFObjRef:2>, 'Resources': {'ExtGState': {'GS7': <PDFObjRef:25>, 'GS8': <PDFObjRef:26>}, 'Font': {'F1': <PDFObjRef:27>, 'F2': <PDFObjRef:31>, 'F3': <PDFObjRef:35>, 'F4': <PDFObjRef:42>, 'F5': <PDFObjRef:46>, 'F7': <PDFObjRef:55>, 'F9': <PDFObjRef:69>}, 'ProcSet': [/'PDF', /'Text', /'ImageB', /'ImageC', /'ImageI'], 'XObject': {'FFT0': <PDFObjRef:315>}}, 'Rotate': 0, 'StructParents': 80, 'Tabs': /'S', 'Type': /'Page'}\n",
      "Processing page: <PDFPage: Resources={'ExtGState': {'GS7': <PDFObjRef:25>, 'GS8': <PDFObjRef:26>}, 'Font': {'F1': <PDFObjRef:27>, 'F2': <PDFObjRef:31>, 'F3': <PDFObjRef:35>, 'F4': <PDFObjRef:42>, 'F5': <PDFObjRef:46>, 'F7': <PDFObjRef:55>, 'F9': <PDFObjRef:69>}, 'ProcSet': [/'PDF', /'Text', /'ImageB', /'ImageC', /'ImageI'], 'XObject': {'FFT0': <PDFObjRef:315>}}, MediaBox=[0, 0, 595.32, 841.92]>\n",
      "render_contents: resources={'ExtGState': {'GS7': <PDFObjRef:25>, 'GS8': <PDFObjRef:26>}, 'Font': {'F1': <PDFObjRef:27>, 'F2': <PDFObjRef:31>, 'F3': <PDFObjRef:35>, 'F4': <PDFObjRef:42>, 'F5': <PDFObjRef:46>, 'F7': <PDFObjRef:55>, 'F9': <PDFObjRef:69>}, 'ProcSet': [/'PDF', /'Text', /'ImageB', /'ImageC', /'ImageI'], 'XObject': {'FFT0': <PDFObjRef:315>}}, streams=[<PDFObjRef:167>, <PDFObjRef:317>], ctm=(1, 0, 0, 1, 0, 0)\n",
      "Processing xobj: <PDFStream(315): raw=10, {'BBox': [0, 0, 595.32, 841.92], 'Filter': /'FlateDecode', 'FormType': 1, 'Length': 8, 'Resources': {}, 'Subtype': /'Form', 'Type': /'XObject'}>\n",
      "render_contents: resources={'ExtGState': {'GS7': <PDFObjRef:25>, 'GS8': <PDFObjRef:26>}, 'Font': {'F1': <PDFObjRef:27>, 'F2': <PDFObjRef:31>, 'F3': <PDFObjRef:35>, 'F4': <PDFObjRef:42>, 'F5': <PDFObjRef:46>, 'F7': <PDFObjRef:55>, 'F9': <PDFObjRef:69>}, 'ProcSet': [/'PDF', /'Text', /'ImageB', /'ImageC', /'ImageI'], 'XObject': {'FFT0': <PDFObjRef:315>}}, streams=[<PDFStream(315): raw=10, {'BBox': [0, 0, 595.32, 841.92], 'Filter': /'FlateDecode', 'FormType': 1, 'Length': 8, 'Resources': {}, 'Subtype': /'Form', 'Type': /'XObject'}>], ctm=(1, 0, 0, 1, 0, 0)\n",
      "Page: {'Contents': <PDFObjRef:319>, 'CropBox': [0, 0, 595.32, 841.92], 'Group': {'CS': /'DeviceRGB', 'S': /'Transparency', 'Type': /'Group'}, 'MediaBox': [0, 0, 595.32, 841.92], 'Parent': <PDFObjRef:2>, 'Resources': {'ExtGState': {'GS7': <PDFObjRef:25>, 'GS8': <PDFObjRef:26>}, 'Font': {'F1': <PDFObjRef:27>, 'F2': <PDFObjRef:31>, 'F3': <PDFObjRef:35>, 'F4': <PDFObjRef:42>, 'F5': <PDFObjRef:46>, 'F7': <PDFObjRef:55>}, 'ProcSet': [/'PDF', /'Text', /'ImageB', /'ImageC', /'ImageI'], 'XObject': {'FFT0': <PDFObjRef:318>}}, 'Rotate': 0, 'StructParents': 82, 'Tabs': /'S', 'Type': /'Page'}\n",
      "Processing page: <PDFPage: Resources={'ExtGState': {'GS7': <PDFObjRef:25>, 'GS8': <PDFObjRef:26>}, 'Font': {'F1': <PDFObjRef:27>, 'F2': <PDFObjRef:31>, 'F3': <PDFObjRef:35>, 'F4': <PDFObjRef:42>, 'F5': <PDFObjRef:46>, 'F7': <PDFObjRef:55>}, 'ProcSet': [/'PDF', /'Text', /'ImageB', /'ImageC', /'ImageI'], 'XObject': {'FFT0': <PDFObjRef:318>}}, MediaBox=[0, 0, 595.32, 841.92]>\n",
      "render_contents: resources={'ExtGState': {'GS7': <PDFObjRef:25>, 'GS8': <PDFObjRef:26>}, 'Font': {'F1': <PDFObjRef:27>, 'F2': <PDFObjRef:31>, 'F3': <PDFObjRef:35>, 'F4': <PDFObjRef:42>, 'F5': <PDFObjRef:46>, 'F7': <PDFObjRef:55>}, 'ProcSet': [/'PDF', /'Text', /'ImageB', /'ImageC', /'ImageI'], 'XObject': {'FFT0': <PDFObjRef:318>}}, streams=[<PDFObjRef:170>, <PDFObjRef:320>], ctm=(1, 0, 0, 1, 0, 0)\n",
      "Processing xobj: <PDFStream(318): raw=10, {'BBox': [0, 0, 595.32, 841.92], 'Filter': /'FlateDecode', 'FormType': 1, 'Length': 8, 'Resources': {}, 'Subtype': /'Form', 'Type': /'XObject'}>\n",
      "render_contents: resources={'ExtGState': {'GS7': <PDFObjRef:25>, 'GS8': <PDFObjRef:26>}, 'Font': {'F1': <PDFObjRef:27>, 'F2': <PDFObjRef:31>, 'F3': <PDFObjRef:35>, 'F4': <PDFObjRef:42>, 'F5': <PDFObjRef:46>, 'F7': <PDFObjRef:55>}, 'ProcSet': [/'PDF', /'Text', /'ImageB', /'ImageC', /'ImageI'], 'XObject': {'FFT0': <PDFObjRef:318>}}, streams=[<PDFStream(318): raw=10, {'BBox': [0, 0, 595.32, 841.92], 'Filter': /'FlateDecode', 'FormType': 1, 'Length': 8, 'Resources': {}, 'Subtype': /'Form', 'Type': /'XObject'}>], ctm=(1, 0, 0, 1, 0, 0)\n",
      "Page: {'Contents': <PDFObjRef:322>, 'CropBox': [0, 0, 595.32, 841.92], 'Group': {'CS': /'DeviceRGB', 'S': /'Transparency', 'Type': /'Group'}, 'MediaBox': [0, 0, 595.32, 841.92], 'Parent': <PDFObjRef:2>, 'Resources': {'ExtGState': {'GS7': <PDFObjRef:25>, 'GS8': <PDFObjRef:26>}, 'Font': {'F1': <PDFObjRef:27>, 'F2': <PDFObjRef:31>, 'F3': <PDFObjRef:35>, 'F4': <PDFObjRef:42>, 'F5': <PDFObjRef:46>, 'F7': <PDFObjRef:55>}, 'ProcSet': [/'PDF', /'Text', /'ImageB', /'ImageC', /'ImageI'], 'XObject': {'FFT0': <PDFObjRef:321>}}, 'Rotate': 0, 'StructParents': 84, 'Tabs': /'S', 'Type': /'Page'}\n",
      "Processing page: <PDFPage: Resources={'ExtGState': {'GS7': <PDFObjRef:25>, 'GS8': <PDFObjRef:26>}, 'Font': {'F1': <PDFObjRef:27>, 'F2': <PDFObjRef:31>, 'F3': <PDFObjRef:35>, 'F4': <PDFObjRef:42>, 'F5': <PDFObjRef:46>, 'F7': <PDFObjRef:55>}, 'ProcSet': [/'PDF', /'Text', /'ImageB', /'ImageC', /'ImageI'], 'XObject': {'FFT0': <PDFObjRef:321>}}, MediaBox=[0, 0, 595.32, 841.92]>\n",
      "render_contents: resources={'ExtGState': {'GS7': <PDFObjRef:25>, 'GS8': <PDFObjRef:26>}, 'Font': {'F1': <PDFObjRef:27>, 'F2': <PDFObjRef:31>, 'F3': <PDFObjRef:35>, 'F4': <PDFObjRef:42>, 'F5': <PDFObjRef:46>, 'F7': <PDFObjRef:55>}, 'ProcSet': [/'PDF', /'Text', /'ImageB', /'ImageC', /'ImageI'], 'XObject': {'FFT0': <PDFObjRef:321>}}, streams=[<PDFObjRef:175>, <PDFObjRef:323>], ctm=(1, 0, 0, 1, 0, 0)\n",
      "Processing xobj: <PDFStream(321): raw=10, {'BBox': [0, 0, 595.32, 841.92], 'Filter': /'FlateDecode', 'FormType': 1, 'Length': 8, 'Resources': {}, 'Subtype': /'Form', 'Type': /'XObject'}>\n",
      "render_contents: resources={'ExtGState': {'GS7': <PDFObjRef:25>, 'GS8': <PDFObjRef:26>}, 'Font': {'F1': <PDFObjRef:27>, 'F2': <PDFObjRef:31>, 'F3': <PDFObjRef:35>, 'F4': <PDFObjRef:42>, 'F5': <PDFObjRef:46>, 'F7': <PDFObjRef:55>}, 'ProcSet': [/'PDF', /'Text', /'ImageB', /'ImageC', /'ImageI'], 'XObject': {'FFT0': <PDFObjRef:321>}}, streams=[<PDFStream(321): raw=10, {'BBox': [0, 0, 595.32, 841.92], 'Filter': /'FlateDecode', 'FormType': 1, 'Length': 8, 'Resources': {}, 'Subtype': /'Form', 'Type': /'XObject'}>], ctm=(1, 0, 0, 1, 0, 0)\n",
      "Page: {'Contents': <PDFObjRef:177>, 'CropBox': [0, 0, 595.32, 841.92], 'Group': {'CS': /'DeviceRGB', 'S': /'Transparency', 'Type': /'Group'}, 'MediaBox': [0, 0, 595.32, 841.92], 'Parent': <PDFObjRef:2>, 'Resources': {'ExtGState': {'GS7': <PDFObjRef:25>, 'GS8': <PDFObjRef:26>}, 'Font': {'F1': <PDFObjRef:27>, 'F2': <PDFObjRef:31>, 'F3': <PDFObjRef:35>, 'F4': <PDFObjRef:42>, 'F5': <PDFObjRef:46>, 'F7': <PDFObjRef:55>}, 'ProcSet': [/'PDF', /'Text', /'ImageB', /'ImageC', /'ImageI']}, 'Rotate': 0, 'StructParents': 88, 'Tabs': /'S', 'Type': /'Page'}\n",
      "Processing page: <PDFPage: Resources={'ExtGState': {'GS7': <PDFObjRef:25>, 'GS8': <PDFObjRef:26>}, 'Font': {'F1': <PDFObjRef:27>, 'F2': <PDFObjRef:31>, 'F3': <PDFObjRef:35>, 'F4': <PDFObjRef:42>, 'F5': <PDFObjRef:46>, 'F7': <PDFObjRef:55>}, 'ProcSet': [/'PDF', /'Text', /'ImageB', /'ImageC', /'ImageI']}, MediaBox=[0, 0, 595.32, 841.92]>\n",
      "render_contents: resources={'ExtGState': {'GS7': <PDFObjRef:25>, 'GS8': <PDFObjRef:26>}, 'Font': {'F1': <PDFObjRef:27>, 'F2': <PDFObjRef:31>, 'F3': <PDFObjRef:35>, 'F4': <PDFObjRef:42>, 'F5': <PDFObjRef:46>, 'F7': <PDFObjRef:55>}, 'ProcSet': [/'PDF', /'Text', /'ImageB', /'ImageC', /'ImageI']}, streams=[<PDFStream(177): raw=5912, {'Filter': /'FlateDecode', 'Length': 5910}>], ctm=(1, 0, 0, 1, 0, 0)\n",
      "Page: {'Contents': <PDFObjRef:325>, 'CropBox': [0, 0, 595.32, 841.92], 'Group': {'CS': /'DeviceRGB', 'S': /'Transparency', 'Type': /'Group'}, 'MediaBox': [0, 0, 595.32, 841.92], 'Parent': <PDFObjRef:2>, 'Resources': {'ExtGState': {'GS7': <PDFObjRef:25>, 'GS8': <PDFObjRef:26>}, 'Font': {'F1': <PDFObjRef:27>, 'F2': <PDFObjRef:31>, 'F3': <PDFObjRef:35>, 'F4': <PDFObjRef:42>, 'F5': <PDFObjRef:46>, 'F7': <PDFObjRef:55>}, 'ProcSet': [/'PDF', /'Text', /'ImageB', /'ImageC', /'ImageI'], 'XObject': {'FFT0': <PDFObjRef:324>}}, 'Rotate': 0, 'StructParents': 89, 'Tabs': /'S', 'Type': /'Page'}\n"
     ]
    },
    {
     "name": "stderr",
     "output_type": "stream",
     "text": [
      "Processing page: <PDFPage: Resources={'ExtGState': {'GS7': <PDFObjRef:25>, 'GS8': <PDFObjRef:26>}, 'Font': {'F1': <PDFObjRef:27>, 'F2': <PDFObjRef:31>, 'F3': <PDFObjRef:35>, 'F4': <PDFObjRef:42>, 'F5': <PDFObjRef:46>, 'F7': <PDFObjRef:55>}, 'ProcSet': [/'PDF', /'Text', /'ImageB', /'ImageC', /'ImageI'], 'XObject': {'FFT0': <PDFObjRef:324>}}, MediaBox=[0, 0, 595.32, 841.92]>\n",
      "render_contents: resources={'ExtGState': {'GS7': <PDFObjRef:25>, 'GS8': <PDFObjRef:26>}, 'Font': {'F1': <PDFObjRef:27>, 'F2': <PDFObjRef:31>, 'F3': <PDFObjRef:35>, 'F4': <PDFObjRef:42>, 'F5': <PDFObjRef:46>, 'F7': <PDFObjRef:55>}, 'ProcSet': [/'PDF', /'Text', /'ImageB', /'ImageC', /'ImageI'], 'XObject': {'FFT0': <PDFObjRef:324>}}, streams=[<PDFObjRef:181>, <PDFObjRef:326>], ctm=(1, 0, 0, 1, 0, 0)\n",
      "Processing xobj: <PDFStream(324): raw=10, {'BBox': [0, 0, 595.32, 841.92], 'Filter': /'FlateDecode', 'FormType': 1, 'Length': 8, 'Resources': {}, 'Subtype': /'Form', 'Type': /'XObject'}>\n",
      "render_contents: resources={'ExtGState': {'GS7': <PDFObjRef:25>, 'GS8': <PDFObjRef:26>}, 'Font': {'F1': <PDFObjRef:27>, 'F2': <PDFObjRef:31>, 'F3': <PDFObjRef:35>, 'F4': <PDFObjRef:42>, 'F5': <PDFObjRef:46>, 'F7': <PDFObjRef:55>}, 'ProcSet': [/'PDF', /'Text', /'ImageB', /'ImageC', /'ImageI'], 'XObject': {'FFT0': <PDFObjRef:324>}}, streams=[<PDFStream(324): raw=10, {'BBox': [0, 0, 595.32, 841.92], 'Filter': /'FlateDecode', 'FormType': 1, 'Length': 8, 'Resources': {}, 'Subtype': /'Form', 'Type': /'XObject'}>], ctm=(1, 0, 0, 1, 0, 0)\n",
      "Page: {'Contents': <PDFObjRef:183>, 'CropBox': [0, 0, 595.32, 841.92], 'Group': {'CS': /'DeviceRGB', 'S': /'Transparency', 'Type': /'Group'}, 'MediaBox': [0, 0, 595.32, 841.92], 'Parent': <PDFObjRef:2>, 'Resources': {'ExtGState': {'GS7': <PDFObjRef:25>, 'GS8': <PDFObjRef:26>}, 'Font': {'F1': <PDFObjRef:27>, 'F2': <PDFObjRef:31>, 'F3': <PDFObjRef:35>, 'F4': <PDFObjRef:42>, 'F5': <PDFObjRef:46>, 'F7': <PDFObjRef:55>}, 'ProcSet': [/'PDF', /'Text', /'ImageB', /'ImageC', /'ImageI']}, 'Rotate': 0, 'StructParents': 92, 'Tabs': /'S', 'Type': /'Page'}\n",
      "Processing page: <PDFPage: Resources={'ExtGState': {'GS7': <PDFObjRef:25>, 'GS8': <PDFObjRef:26>}, 'Font': {'F1': <PDFObjRef:27>, 'F2': <PDFObjRef:31>, 'F3': <PDFObjRef:35>, 'F4': <PDFObjRef:42>, 'F5': <PDFObjRef:46>, 'F7': <PDFObjRef:55>}, 'ProcSet': [/'PDF', /'Text', /'ImageB', /'ImageC', /'ImageI']}, MediaBox=[0, 0, 595.32, 841.92]>\n",
      "render_contents: resources={'ExtGState': {'GS7': <PDFObjRef:25>, 'GS8': <PDFObjRef:26>}, 'Font': {'F1': <PDFObjRef:27>, 'F2': <PDFObjRef:31>, 'F3': <PDFObjRef:35>, 'F4': <PDFObjRef:42>, 'F5': <PDFObjRef:46>, 'F7': <PDFObjRef:55>}, 'ProcSet': [/'PDF', /'Text', /'ImageB', /'ImageC', /'ImageI']}, streams=[<PDFStream(183): raw=4626, {'Filter': /'FlateDecode', 'Length': 4624}>], ctm=(1, 0, 0, 1, 0, 0)\n",
      "Page: {'Contents': <PDFObjRef:328>, 'CropBox': [0, 0, 595.32, 841.92], 'Group': {'CS': /'DeviceRGB', 'S': /'Transparency', 'Type': /'Group'}, 'MediaBox': [0, 0, 595.32, 841.92], 'Parent': <PDFObjRef:2>, 'Resources': {'ExtGState': {'GS7': <PDFObjRef:25>, 'GS8': <PDFObjRef:26>}, 'Font': {'F1': <PDFObjRef:27>, 'F2': <PDFObjRef:31>, 'F3': <PDFObjRef:35>, 'F4': <PDFObjRef:42>, 'F5': <PDFObjRef:46>, 'F7': <PDFObjRef:55>}, 'ProcSet': [/'PDF', /'Text', /'ImageB', /'ImageC', /'ImageI'], 'XObject': {'FFT0': <PDFObjRef:327>}}, 'Rotate': 0, 'StructParents': 93, 'Tabs': /'S', 'Type': /'Page'}\n",
      "Processing page: <PDFPage: Resources={'ExtGState': {'GS7': <PDFObjRef:25>, 'GS8': <PDFObjRef:26>}, 'Font': {'F1': <PDFObjRef:27>, 'F2': <PDFObjRef:31>, 'F3': <PDFObjRef:35>, 'F4': <PDFObjRef:42>, 'F5': <PDFObjRef:46>, 'F7': <PDFObjRef:55>}, 'ProcSet': [/'PDF', /'Text', /'ImageB', /'ImageC', /'ImageI'], 'XObject': {'FFT0': <PDFObjRef:327>}}, MediaBox=[0, 0, 595.32, 841.92]>\n",
      "render_contents: resources={'ExtGState': {'GS7': <PDFObjRef:25>, 'GS8': <PDFObjRef:26>}, 'Font': {'F1': <PDFObjRef:27>, 'F2': <PDFObjRef:31>, 'F3': <PDFObjRef:35>, 'F4': <PDFObjRef:42>, 'F5': <PDFObjRef:46>, 'F7': <PDFObjRef:55>}, 'ProcSet': [/'PDF', /'Text', /'ImageB', /'ImageC', /'ImageI'], 'XObject': {'FFT0': <PDFObjRef:327>}}, streams=[<PDFObjRef:186>, <PDFObjRef:329>], ctm=(1, 0, 0, 1, 0, 0)\n",
      "Processing xobj: <PDFStream(327): raw=10, {'BBox': [0, 0, 595.32, 841.92], 'Filter': /'FlateDecode', 'FormType': 1, 'Length': 8, 'Resources': {}, 'Subtype': /'Form', 'Type': /'XObject'}>\n",
      "render_contents: resources={'ExtGState': {'GS7': <PDFObjRef:25>, 'GS8': <PDFObjRef:26>}, 'Font': {'F1': <PDFObjRef:27>, 'F2': <PDFObjRef:31>, 'F3': <PDFObjRef:35>, 'F4': <PDFObjRef:42>, 'F5': <PDFObjRef:46>, 'F7': <PDFObjRef:55>}, 'ProcSet': [/'PDF', /'Text', /'ImageB', /'ImageC', /'ImageI'], 'XObject': {'FFT0': <PDFObjRef:327>}}, streams=[<PDFStream(327): raw=10, {'BBox': [0, 0, 595.32, 841.92], 'Filter': /'FlateDecode', 'FormType': 1, 'Length': 8, 'Resources': {}, 'Subtype': /'Form', 'Type': /'XObject'}>], ctm=(1, 0, 0, 1, 0, 0)\n",
      "Page: {'Contents': <PDFObjRef:331>, 'CropBox': [0, 0, 595.32, 841.92], 'Group': {'CS': /'DeviceRGB', 'S': /'Transparency', 'Type': /'Group'}, 'MediaBox': [0, 0, 595.32, 841.92], 'Parent': <PDFObjRef:2>, 'Resources': {'ExtGState': {'GS7': <PDFObjRef:25>, 'GS8': <PDFObjRef:26>}, 'Font': {'F1': <PDFObjRef:27>, 'F2': <PDFObjRef:31>, 'F3': <PDFObjRef:35>, 'F4': <PDFObjRef:42>, 'F5': <PDFObjRef:46>, 'F7': <PDFObjRef:55>}, 'ProcSet': [/'PDF', /'Text', /'ImageB', /'ImageC', /'ImageI'], 'XObject': {'FFT0': <PDFObjRef:330>}}, 'Rotate': 0, 'StructParents': 95, 'Tabs': /'S', 'Type': /'Page'}\n",
      "Processing page: <PDFPage: Resources={'ExtGState': {'GS7': <PDFObjRef:25>, 'GS8': <PDFObjRef:26>}, 'Font': {'F1': <PDFObjRef:27>, 'F2': <PDFObjRef:31>, 'F3': <PDFObjRef:35>, 'F4': <PDFObjRef:42>, 'F5': <PDFObjRef:46>, 'F7': <PDFObjRef:55>}, 'ProcSet': [/'PDF', /'Text', /'ImageB', /'ImageC', /'ImageI'], 'XObject': {'FFT0': <PDFObjRef:330>}}, MediaBox=[0, 0, 595.32, 841.92]>\n",
      "render_contents: resources={'ExtGState': {'GS7': <PDFObjRef:25>, 'GS8': <PDFObjRef:26>}, 'Font': {'F1': <PDFObjRef:27>, 'F2': <PDFObjRef:31>, 'F3': <PDFObjRef:35>, 'F4': <PDFObjRef:42>, 'F5': <PDFObjRef:46>, 'F7': <PDFObjRef:55>}, 'ProcSet': [/'PDF', /'Text', /'ImageB', /'ImageC', /'ImageI'], 'XObject': {'FFT0': <PDFObjRef:330>}}, streams=[<PDFObjRef:189>, <PDFObjRef:332>], ctm=(1, 0, 0, 1, 0, 0)\n",
      "Processing xobj: <PDFStream(330): raw=10, {'BBox': [0, 0, 595.32, 841.92], 'Filter': /'FlateDecode', 'FormType': 1, 'Length': 8, 'Resources': {}, 'Subtype': /'Form', 'Type': /'XObject'}>\n",
      "render_contents: resources={'ExtGState': {'GS7': <PDFObjRef:25>, 'GS8': <PDFObjRef:26>}, 'Font': {'F1': <PDFObjRef:27>, 'F2': <PDFObjRef:31>, 'F3': <PDFObjRef:35>, 'F4': <PDFObjRef:42>, 'F5': <PDFObjRef:46>, 'F7': <PDFObjRef:55>}, 'ProcSet': [/'PDF', /'Text', /'ImageB', /'ImageC', /'ImageI'], 'XObject': {'FFT0': <PDFObjRef:330>}}, streams=[<PDFStream(330): raw=10, {'BBox': [0, 0, 595.32, 841.92], 'Filter': /'FlateDecode', 'FormType': 1, 'Length': 8, 'Resources': {}, 'Subtype': /'Form', 'Type': /'XObject'}>], ctm=(1, 0, 0, 1, 0, 0)\n",
      "Page: {'Contents': <PDFObjRef:334>, 'CropBox': [0, 0, 595.32, 841.92], 'Group': {'CS': /'DeviceRGB', 'S': /'Transparency', 'Type': /'Group'}, 'MediaBox': [0, 0, 595.32, 841.92], 'Parent': <PDFObjRef:2>, 'Resources': {'ExtGState': {'GS7': <PDFObjRef:25>, 'GS8': <PDFObjRef:26>}, 'Font': {'F1': <PDFObjRef:27>, 'F2': <PDFObjRef:31>, 'F3': <PDFObjRef:35>, 'F4': <PDFObjRef:42>, 'F5': <PDFObjRef:46>, 'F7': <PDFObjRef:55>}, 'ProcSet': [/'PDF', /'Text', /'ImageB', /'ImageC', /'ImageI'], 'XObject': {'FFT0': <PDFObjRef:333>}}, 'Rotate': 0, 'StructParents': 97, 'Tabs': /'S', 'Type': /'Page'}\n",
      "Processing page: <PDFPage: Resources={'ExtGState': {'GS7': <PDFObjRef:25>, 'GS8': <PDFObjRef:26>}, 'Font': {'F1': <PDFObjRef:27>, 'F2': <PDFObjRef:31>, 'F3': <PDFObjRef:35>, 'F4': <PDFObjRef:42>, 'F5': <PDFObjRef:46>, 'F7': <PDFObjRef:55>}, 'ProcSet': [/'PDF', /'Text', /'ImageB', /'ImageC', /'ImageI'], 'XObject': {'FFT0': <PDFObjRef:333>}}, MediaBox=[0, 0, 595.32, 841.92]>\n",
      "render_contents: resources={'ExtGState': {'GS7': <PDFObjRef:25>, 'GS8': <PDFObjRef:26>}, 'Font': {'F1': <PDFObjRef:27>, 'F2': <PDFObjRef:31>, 'F3': <PDFObjRef:35>, 'F4': <PDFObjRef:42>, 'F5': <PDFObjRef:46>, 'F7': <PDFObjRef:55>}, 'ProcSet': [/'PDF', /'Text', /'ImageB', /'ImageC', /'ImageI'], 'XObject': {'FFT0': <PDFObjRef:333>}}, streams=[<PDFObjRef:193>, <PDFObjRef:335>], ctm=(1, 0, 0, 1, 0, 0)\n"
     ]
    },
    {
     "name": "stderr",
     "output_type": "stream",
     "text": [
      "Processing xobj: <PDFStream(333): raw=10, {'BBox': [0, 0, 595.32, 841.92], 'Filter': /'FlateDecode', 'FormType': 1, 'Length': 8, 'Resources': {}, 'Subtype': /'Form', 'Type': /'XObject'}>\n",
      "render_contents: resources={'ExtGState': {'GS7': <PDFObjRef:25>, 'GS8': <PDFObjRef:26>}, 'Font': {'F1': <PDFObjRef:27>, 'F2': <PDFObjRef:31>, 'F3': <PDFObjRef:35>, 'F4': <PDFObjRef:42>, 'F5': <PDFObjRef:46>, 'F7': <PDFObjRef:55>}, 'ProcSet': [/'PDF', /'Text', /'ImageB', /'ImageC', /'ImageI'], 'XObject': {'FFT0': <PDFObjRef:333>}}, streams=[<PDFStream(333): raw=10, {'BBox': [0, 0, 595.32, 841.92], 'Filter': /'FlateDecode', 'FormType': 1, 'Length': 8, 'Resources': {}, 'Subtype': /'Form', 'Type': /'XObject'}>], ctm=(1, 0, 0, 1, 0, 0)\n",
      "Page: {'Contents': <PDFObjRef:337>, 'CropBox': [0, 0, 595.32, 841.92], 'Group': {'CS': /'DeviceRGB', 'S': /'Transparency', 'Type': /'Group'}, 'MediaBox': [0, 0, 595.32, 841.92], 'Parent': <PDFObjRef:2>, 'Resources': {'ExtGState': {'GS7': <PDFObjRef:25>, 'GS8': <PDFObjRef:26>}, 'Font': {'F1': <PDFObjRef:27>, 'F2': <PDFObjRef:31>, 'F3': <PDFObjRef:35>, 'F4': <PDFObjRef:42>, 'F5': <PDFObjRef:46>, 'F7': <PDFObjRef:55>}, 'ProcSet': [/'PDF', /'Text', /'ImageB', /'ImageC', /'ImageI'], 'XObject': {'FFT0': <PDFObjRef:336>}}, 'Rotate': 0, 'StructParents': 100, 'Tabs': /'S', 'Type': /'Page'}\n",
      "Processing page: <PDFPage: Resources={'ExtGState': {'GS7': <PDFObjRef:25>, 'GS8': <PDFObjRef:26>}, 'Font': {'F1': <PDFObjRef:27>, 'F2': <PDFObjRef:31>, 'F3': <PDFObjRef:35>, 'F4': <PDFObjRef:42>, 'F5': <PDFObjRef:46>, 'F7': <PDFObjRef:55>}, 'ProcSet': [/'PDF', /'Text', /'ImageB', /'ImageC', /'ImageI'], 'XObject': {'FFT0': <PDFObjRef:336>}}, MediaBox=[0, 0, 595.32, 841.92]>\n",
      "render_contents: resources={'ExtGState': {'GS7': <PDFObjRef:25>, 'GS8': <PDFObjRef:26>}, 'Font': {'F1': <PDFObjRef:27>, 'F2': <PDFObjRef:31>, 'F3': <PDFObjRef:35>, 'F4': <PDFObjRef:42>, 'F5': <PDFObjRef:46>, 'F7': <PDFObjRef:55>}, 'ProcSet': [/'PDF', /'Text', /'ImageB', /'ImageC', /'ImageI'], 'XObject': {'FFT0': <PDFObjRef:336>}}, streams=[<PDFObjRef:197>, <PDFObjRef:338>], ctm=(1, 0, 0, 1, 0, 0)\n",
      "Processing xobj: <PDFStream(336): raw=10, {'BBox': [0, 0, 595.32, 841.92], 'Filter': /'FlateDecode', 'FormType': 1, 'Length': 8, 'Resources': {}, 'Subtype': /'Form', 'Type': /'XObject'}>\n",
      "render_contents: resources={'ExtGState': {'GS7': <PDFObjRef:25>, 'GS8': <PDFObjRef:26>}, 'Font': {'F1': <PDFObjRef:27>, 'F2': <PDFObjRef:31>, 'F3': <PDFObjRef:35>, 'F4': <PDFObjRef:42>, 'F5': <PDFObjRef:46>, 'F7': <PDFObjRef:55>}, 'ProcSet': [/'PDF', /'Text', /'ImageB', /'ImageC', /'ImageI'], 'XObject': {'FFT0': <PDFObjRef:336>}}, streams=[<PDFStream(336): raw=10, {'BBox': [0, 0, 595.32, 841.92], 'Filter': /'FlateDecode', 'FormType': 1, 'Length': 8, 'Resources': {}, 'Subtype': /'Form', 'Type': /'XObject'}>], ctm=(1, 0, 0, 1, 0, 0)\n",
      "Page: {'Contents': <PDFObjRef:340>, 'CropBox': [0, 0, 595.32, 841.92], 'Group': {'CS': /'DeviceRGB', 'S': /'Transparency', 'Type': /'Group'}, 'MediaBox': [0, 0, 595.32, 841.92], 'Parent': <PDFObjRef:2>, 'Resources': {'ExtGState': {'GS7': <PDFObjRef:25>, 'GS8': <PDFObjRef:26>}, 'Font': {'F1': <PDFObjRef:27>, 'F2': <PDFObjRef:31>, 'F3': <PDFObjRef:35>, 'F4': <PDFObjRef:42>, 'F5': <PDFObjRef:46>, 'F7': <PDFObjRef:55>}, 'ProcSet': [/'PDF', /'Text', /'ImageB', /'ImageC', /'ImageI'], 'XObject': {'FFT0': <PDFObjRef:339>}}, 'Rotate': 0, 'StructParents': 103, 'Tabs': /'S', 'Type': /'Page'}\n",
      "Processing page: <PDFPage: Resources={'ExtGState': {'GS7': <PDFObjRef:25>, 'GS8': <PDFObjRef:26>}, 'Font': {'F1': <PDFObjRef:27>, 'F2': <PDFObjRef:31>, 'F3': <PDFObjRef:35>, 'F4': <PDFObjRef:42>, 'F5': <PDFObjRef:46>, 'F7': <PDFObjRef:55>}, 'ProcSet': [/'PDF', /'Text', /'ImageB', /'ImageC', /'ImageI'], 'XObject': {'FFT0': <PDFObjRef:339>}}, MediaBox=[0, 0, 595.32, 841.92]>\n",
      "render_contents: resources={'ExtGState': {'GS7': <PDFObjRef:25>, 'GS8': <PDFObjRef:26>}, 'Font': {'F1': <PDFObjRef:27>, 'F2': <PDFObjRef:31>, 'F3': <PDFObjRef:35>, 'F4': <PDFObjRef:42>, 'F5': <PDFObjRef:46>, 'F7': <PDFObjRef:55>}, 'ProcSet': [/'PDF', /'Text', /'ImageB', /'ImageC', /'ImageI'], 'XObject': {'FFT0': <PDFObjRef:339>}}, streams=[<PDFObjRef:205>, <PDFObjRef:341>], ctm=(1, 0, 0, 1, 0, 0)\n",
      "Processing xobj: <PDFStream(339): raw=10, {'BBox': [0, 0, 595.32, 841.92], 'Filter': /'FlateDecode', 'FormType': 1, 'Length': 8, 'Resources': {}, 'Subtype': /'Form', 'Type': /'XObject'}>\n",
      "render_contents: resources={'ExtGState': {'GS7': <PDFObjRef:25>, 'GS8': <PDFObjRef:26>}, 'Font': {'F1': <PDFObjRef:27>, 'F2': <PDFObjRef:31>, 'F3': <PDFObjRef:35>, 'F4': <PDFObjRef:42>, 'F5': <PDFObjRef:46>, 'F7': <PDFObjRef:55>}, 'ProcSet': [/'PDF', /'Text', /'ImageB', /'ImageC', /'ImageI'], 'XObject': {'FFT0': <PDFObjRef:339>}}, streams=[<PDFStream(339): raw=10, {'BBox': [0, 0, 595.32, 841.92], 'Filter': /'FlateDecode', 'FormType': 1, 'Length': 8, 'Resources': {}, 'Subtype': /'Form', 'Type': /'XObject'}>], ctm=(1, 0, 0, 1, 0, 0)\n",
      "Page: {'Contents': <PDFObjRef:343>, 'CropBox': [0, 0, 595.32, 841.92], 'Group': {'CS': /'DeviceRGB', 'S': /'Transparency', 'Type': /'Group'}, 'MediaBox': [0, 0, 595.32, 841.92], 'Parent': <PDFObjRef:2>, 'Resources': {'ExtGState': {'GS7': <PDFObjRef:25>, 'GS8': <PDFObjRef:26>}, 'Font': {'F1': <PDFObjRef:27>, 'F10': <PDFObjRef:212>, 'F2': <PDFObjRef:31>, 'F3': <PDFObjRef:35>, 'F4': <PDFObjRef:42>, 'F5': <PDFObjRef:46>, 'F7': <PDFObjRef:55>, 'F8': <PDFObjRef:58>}, 'ProcSet': [/'PDF', /'Text', /'ImageB', /'ImageC', /'ImageI'], 'XObject': {'FFT0': <PDFObjRef:342>}}, 'Rotate': 0, 'StructParents': 110, 'Tabs': /'S', 'Type': /'Page'}\n",
      "Processing page: <PDFPage: Resources={'ExtGState': {'GS7': <PDFObjRef:25>, 'GS8': <PDFObjRef:26>}, 'Font': {'F1': <PDFObjRef:27>, 'F10': <PDFObjRef:212>, 'F2': <PDFObjRef:31>, 'F3': <PDFObjRef:35>, 'F4': <PDFObjRef:42>, 'F5': <PDFObjRef:46>, 'F7': <PDFObjRef:55>, 'F8': <PDFObjRef:58>}, 'ProcSet': [/'PDF', /'Text', /'ImageB', /'ImageC', /'ImageI'], 'XObject': {'FFT0': <PDFObjRef:342>}}, MediaBox=[0, 0, 595.32, 841.92]>\n",
      "render_contents: resources={'ExtGState': {'GS7': <PDFObjRef:25>, 'GS8': <PDFObjRef:26>}, 'Font': {'F1': <PDFObjRef:27>, 'F10': <PDFObjRef:212>, 'F2': <PDFObjRef:31>, 'F3': <PDFObjRef:35>, 'F4': <PDFObjRef:42>, 'F5': <PDFObjRef:46>, 'F7': <PDFObjRef:55>, 'F8': <PDFObjRef:58>}, 'ProcSet': [/'PDF', /'Text', /'ImageB', /'ImageC', /'ImageI'], 'XObject': {'FFT0': <PDFObjRef:342>}}, streams=[<PDFObjRef:211>, <PDFObjRef:344>], ctm=(1, 0, 0, 1, 0, 0)\n",
      "get_font: create: objid=212, spec={'BaseFont': /'ABCDEE+Calibri-Italic', 'DescendantFonts': <PDFObjRef:213>, 'Encoding': /'Identity-H', 'Subtype': /'Type0', 'ToUnicode': <PDFObjRef:218>, 'Type': /'Font'}\n",
      "get_font: create: objid=None, spec={'BaseFont': /'ABCDEE+Calibri-Italic', 'CIDSystemInfo': <PDFObjRef:215>, 'CIDToGIDMap': /'Identity', 'DW': 1000, 'FontDescriptor': <PDFObjRef:216>, 'Subtype': /'CIDFontType2', 'Type': /'Font', 'W': <PDFObjRef:217>, 'Encoding': /'Identity-H', 'ToUnicode': <PDFStream(218): raw=306, {'Filter': /'FlateDecode', 'Length': 304}>}\n",
      "Processing xobj: <PDFStream(342): raw=10, {'BBox': [0, 0, 595.32, 841.92], 'Filter': /'FlateDecode', 'FormType': 1, 'Length': 8, 'Resources': {}, 'Subtype': /'Form', 'Type': /'XObject'}>\n",
      "render_contents: resources={'ExtGState': {'GS7': <PDFObjRef:25>, 'GS8': <PDFObjRef:26>}, 'Font': {'F1': <PDFObjRef:27>, 'F10': <PDFObjRef:212>, 'F2': <PDFObjRef:31>, 'F3': <PDFObjRef:35>, 'F4': <PDFObjRef:42>, 'F5': <PDFObjRef:46>, 'F7': <PDFObjRef:55>, 'F8': <PDFObjRef:58>}, 'ProcSet': [/'PDF', /'Text', /'ImageB', /'ImageC', /'ImageI'], 'XObject': {'FFT0': <PDFObjRef:342>}}, streams=[<PDFStream(342): raw=10, {'BBox': [0, 0, 595.32, 841.92], 'Filter': /'FlateDecode', 'FormType': 1, 'Length': 8, 'Resources': {}, 'Subtype': /'Form', 'Type': /'XObject'}>], ctm=(1, 0, 0, 1, 0, 0)\n",
      "Page: {'Contents': <PDFObjRef:346>, 'CropBox': [0, 0, 595.32, 841.92], 'Group': {'CS': /'DeviceRGB', 'S': /'Transparency', 'Type': /'Group'}, 'MediaBox': [0, 0, 595.32, 841.92], 'Parent': <PDFObjRef:2>, 'Resources': {'ExtGState': {'GS7': <PDFObjRef:25>, 'GS8': <PDFObjRef:26>}, 'Font': {'F1': <PDFObjRef:27>, 'F2': <PDFObjRef:31>, 'F3': <PDFObjRef:35>, 'F4': <PDFObjRef:42>, 'F5': <PDFObjRef:46>, 'F7': <PDFObjRef:55>}, 'ProcSet': [/'PDF', /'Text', /'ImageB', /'ImageC', /'ImageI'], 'XObject': {'FFT0': <PDFObjRef:345>}}, 'Rotate': 0, 'StructParents': 115, 'Tabs': /'S', 'Type': /'Page'}\n"
     ]
    },
    {
     "name": "stderr",
     "output_type": "stream",
     "text": [
      "Processing page: <PDFPage: Resources={'ExtGState': {'GS7': <PDFObjRef:25>, 'GS8': <PDFObjRef:26>}, 'Font': {'F1': <PDFObjRef:27>, 'F2': <PDFObjRef:31>, 'F3': <PDFObjRef:35>, 'F4': <PDFObjRef:42>, 'F5': <PDFObjRef:46>, 'F7': <PDFObjRef:55>}, 'ProcSet': [/'PDF', /'Text', /'ImageB', /'ImageC', /'ImageI'], 'XObject': {'FFT0': <PDFObjRef:345>}}, MediaBox=[0, 0, 595.32, 841.92]>\n",
      "render_contents: resources={'ExtGState': {'GS7': <PDFObjRef:25>, 'GS8': <PDFObjRef:26>}, 'Font': {'F1': <PDFObjRef:27>, 'F2': <PDFObjRef:31>, 'F3': <PDFObjRef:35>, 'F4': <PDFObjRef:42>, 'F5': <PDFObjRef:46>, 'F7': <PDFObjRef:55>}, 'ProcSet': [/'PDF', /'Text', /'ImageB', /'ImageC', /'ImageI'], 'XObject': {'FFT0': <PDFObjRef:345>}}, streams=[<PDFObjRef:222>, <PDFObjRef:347>], ctm=(1, 0, 0, 1, 0, 0)\n",
      "Processing xobj: <PDFStream(345): raw=10, {'BBox': [0, 0, 595.32, 841.92], 'Filter': /'FlateDecode', 'FormType': 1, 'Length': 8, 'Resources': {}, 'Subtype': /'Form', 'Type': /'XObject'}>\n",
      "render_contents: resources={'ExtGState': {'GS7': <PDFObjRef:25>, 'GS8': <PDFObjRef:26>}, 'Font': {'F1': <PDFObjRef:27>, 'F2': <PDFObjRef:31>, 'F3': <PDFObjRef:35>, 'F4': <PDFObjRef:42>, 'F5': <PDFObjRef:46>, 'F7': <PDFObjRef:55>}, 'ProcSet': [/'PDF', /'Text', /'ImageB', /'ImageC', /'ImageI'], 'XObject': {'FFT0': <PDFObjRef:345>}}, streams=[<PDFStream(345): raw=10, {'BBox': [0, 0, 595.32, 841.92], 'Filter': /'FlateDecode', 'FormType': 1, 'Length': 8, 'Resources': {}, 'Subtype': /'Form', 'Type': /'XObject'}>], ctm=(1, 0, 0, 1, 0, 0)\n",
      "Page: {'Contents': <PDFObjRef:224>, 'CropBox': [0, 0, 595.32, 841.92], 'Group': {'CS': /'DeviceRGB', 'S': /'Transparency', 'Type': /'Group'}, 'MediaBox': [0, 0, 595.32, 841.92], 'Parent': <PDFObjRef:2>, 'Resources': {'ExtGState': {'GS7': <PDFObjRef:25>, 'GS8': <PDFObjRef:26>}, 'Font': {'F1': <PDFObjRef:27>, 'F2': <PDFObjRef:31>, 'F3': <PDFObjRef:35>, 'F4': <PDFObjRef:42>, 'F5': <PDFObjRef:46>, 'F7': <PDFObjRef:55>}, 'ProcSet': [/'PDF', /'Text', /'ImageB', /'ImageC', /'ImageI']}, 'Rotate': 0, 'StructParents': 118, 'Tabs': /'S', 'Type': /'Page'}\n",
      "Processing page: <PDFPage: Resources={'ExtGState': {'GS7': <PDFObjRef:25>, 'GS8': <PDFObjRef:26>}, 'Font': {'F1': <PDFObjRef:27>, 'F2': <PDFObjRef:31>, 'F3': <PDFObjRef:35>, 'F4': <PDFObjRef:42>, 'F5': <PDFObjRef:46>, 'F7': <PDFObjRef:55>}, 'ProcSet': [/'PDF', /'Text', /'ImageB', /'ImageC', /'ImageI']}, MediaBox=[0, 0, 595.32, 841.92]>\n",
      "render_contents: resources={'ExtGState': {'GS7': <PDFObjRef:25>, 'GS8': <PDFObjRef:26>}, 'Font': {'F1': <PDFObjRef:27>, 'F2': <PDFObjRef:31>, 'F3': <PDFObjRef:35>, 'F4': <PDFObjRef:42>, 'F5': <PDFObjRef:46>, 'F7': <PDFObjRef:55>}, 'ProcSet': [/'PDF', /'Text', /'ImageB', /'ImageC', /'ImageI']}, streams=[<PDFStream(224): raw=4512, {'Filter': /'FlateDecode', 'Length': 4510}>], ctm=(1, 0, 0, 1, 0, 0)\n",
      "Page: {'Contents': <PDFObjRef:349>, 'CropBox': [0, 0, 595.32, 841.92], 'Group': {'CS': /'DeviceRGB', 'S': /'Transparency', 'Type': /'Group'}, 'MediaBox': [0, 0, 595.32, 841.92], 'Parent': <PDFObjRef:2>, 'Resources': {'ExtGState': {'GS7': <PDFObjRef:25>, 'GS8': <PDFObjRef:26>}, 'Font': {'F1': <PDFObjRef:27>, 'F2': <PDFObjRef:31>, 'F3': <PDFObjRef:35>, 'F4': <PDFObjRef:42>, 'F5': <PDFObjRef:46>, 'F7': <PDFObjRef:55>}, 'ProcSet': [/'PDF', /'Text', /'ImageB', /'ImageC', /'ImageI'], 'XObject': {'FFT0': <PDFObjRef:348>}}, 'Rotate': 0, 'StructParents': 119, 'Tabs': /'S', 'Type': /'Page'}\n",
      "Processing page: <PDFPage: Resources={'ExtGState': {'GS7': <PDFObjRef:25>, 'GS8': <PDFObjRef:26>}, 'Font': {'F1': <PDFObjRef:27>, 'F2': <PDFObjRef:31>, 'F3': <PDFObjRef:35>, 'F4': <PDFObjRef:42>, 'F5': <PDFObjRef:46>, 'F7': <PDFObjRef:55>}, 'ProcSet': [/'PDF', /'Text', /'ImageB', /'ImageC', /'ImageI'], 'XObject': {'FFT0': <PDFObjRef:348>}}, MediaBox=[0, 0, 595.32, 841.92]>\n",
      "render_contents: resources={'ExtGState': {'GS7': <PDFObjRef:25>, 'GS8': <PDFObjRef:26>}, 'Font': {'F1': <PDFObjRef:27>, 'F2': <PDFObjRef:31>, 'F3': <PDFObjRef:35>, 'F4': <PDFObjRef:42>, 'F5': <PDFObjRef:46>, 'F7': <PDFObjRef:55>}, 'ProcSet': [/'PDF', /'Text', /'ImageB', /'ImageC', /'ImageI'], 'XObject': {'FFT0': <PDFObjRef:348>}}, streams=[<PDFObjRef:227>, <PDFObjRef:350>], ctm=(1, 0, 0, 1, 0, 0)\n",
      "Processing xobj: <PDFStream(348): raw=10, {'BBox': [0, 0, 595.32, 841.92], 'Filter': /'FlateDecode', 'FormType': 1, 'Length': 8, 'Resources': {}, 'Subtype': /'Form', 'Type': /'XObject'}>\n",
      "render_contents: resources={'ExtGState': {'GS7': <PDFObjRef:25>, 'GS8': <PDFObjRef:26>}, 'Font': {'F1': <PDFObjRef:27>, 'F2': <PDFObjRef:31>, 'F3': <PDFObjRef:35>, 'F4': <PDFObjRef:42>, 'F5': <PDFObjRef:46>, 'F7': <PDFObjRef:55>}, 'ProcSet': [/'PDF', /'Text', /'ImageB', /'ImageC', /'ImageI'], 'XObject': {'FFT0': <PDFObjRef:348>}}, streams=[<PDFStream(348): raw=10, {'BBox': [0, 0, 595.32, 841.92], 'Filter': /'FlateDecode', 'FormType': 1, 'Length': 8, 'Resources': {}, 'Subtype': /'Form', 'Type': /'XObject'}>], ctm=(1, 0, 0, 1, 0, 0)\n",
      "Page: {'Contents': <PDFObjRef:352>, 'CropBox': [0, 0, 595.32, 841.92], 'Group': {'CS': /'DeviceRGB', 'S': /'Transparency', 'Type': /'Group'}, 'MediaBox': [0, 0, 595.32, 841.92], 'Parent': <PDFObjRef:2>, 'Resources': {'ExtGState': {'GS7': <PDFObjRef:25>, 'GS8': <PDFObjRef:26>}, 'Font': {'F1': <PDFObjRef:27>, 'F2': <PDFObjRef:31>, 'F3': <PDFObjRef:35>, 'F4': <PDFObjRef:42>, 'F5': <PDFObjRef:46>, 'F7': <PDFObjRef:55>}, 'ProcSet': [/'PDF', /'Text', /'ImageB', /'ImageC', /'ImageI'], 'XObject': {'FFT0': <PDFObjRef:351>}}, 'Rotate': 0, 'StructParents': 121, 'Tabs': /'S', 'Type': /'Page'}\n",
      "Processing page: <PDFPage: Resources={'ExtGState': {'GS7': <PDFObjRef:25>, 'GS8': <PDFObjRef:26>}, 'Font': {'F1': <PDFObjRef:27>, 'F2': <PDFObjRef:31>, 'F3': <PDFObjRef:35>, 'F4': <PDFObjRef:42>, 'F5': <PDFObjRef:46>, 'F7': <PDFObjRef:55>}, 'ProcSet': [/'PDF', /'Text', /'ImageB', /'ImageC', /'ImageI'], 'XObject': {'FFT0': <PDFObjRef:351>}}, MediaBox=[0, 0, 595.32, 841.92]>\n",
      "render_contents: resources={'ExtGState': {'GS7': <PDFObjRef:25>, 'GS8': <PDFObjRef:26>}, 'Font': {'F1': <PDFObjRef:27>, 'F2': <PDFObjRef:31>, 'F3': <PDFObjRef:35>, 'F4': <PDFObjRef:42>, 'F5': <PDFObjRef:46>, 'F7': <PDFObjRef:55>}, 'ProcSet': [/'PDF', /'Text', /'ImageB', /'ImageC', /'ImageI'], 'XObject': {'FFT0': <PDFObjRef:351>}}, streams=[<PDFObjRef:231>, <PDFObjRef:353>], ctm=(1, 0, 0, 1, 0, 0)\n",
      "Processing xobj: <PDFStream(351): raw=10, {'BBox': [0, 0, 595.32, 841.92], 'Filter': /'FlateDecode', 'FormType': 1, 'Length': 8, 'Resources': {}, 'Subtype': /'Form', 'Type': /'XObject'}>\n",
      "render_contents: resources={'ExtGState': {'GS7': <PDFObjRef:25>, 'GS8': <PDFObjRef:26>}, 'Font': {'F1': <PDFObjRef:27>, 'F2': <PDFObjRef:31>, 'F3': <PDFObjRef:35>, 'F4': <PDFObjRef:42>, 'F5': <PDFObjRef:46>, 'F7': <PDFObjRef:55>}, 'ProcSet': [/'PDF', /'Text', /'ImageB', /'ImageC', /'ImageI'], 'XObject': {'FFT0': <PDFObjRef:351>}}, streams=[<PDFStream(351): raw=10, {'BBox': [0, 0, 595.32, 841.92], 'Filter': /'FlateDecode', 'FormType': 1, 'Length': 8, 'Resources': {}, 'Subtype': /'Form', 'Type': /'XObject'}>], ctm=(1, 0, 0, 1, 0, 0)\n",
      "Page: {'Contents': <PDFObjRef:233>, 'CropBox': [0, 0, 595.32, 841.92], 'Group': {'CS': /'DeviceRGB', 'S': /'Transparency', 'Type': /'Group'}, 'MediaBox': [0, 0, 595.32, 841.92], 'Parent': <PDFObjRef:2>, 'Resources': {'ExtGState': {'GS7': <PDFObjRef:25>, 'GS8': <PDFObjRef:26>}, 'Font': {'F1': <PDFObjRef:27>, 'F2': <PDFObjRef:31>, 'F3': <PDFObjRef:35>, 'F4': <PDFObjRef:42>, 'F5': <PDFObjRef:46>, 'F7': <PDFObjRef:55>}, 'ProcSet': [/'PDF', /'Text', /'ImageB', /'ImageC', /'ImageI']}, 'Rotate': 0, 'StructParents': 124, 'Tabs': /'S', 'Type': /'Page'}\n",
      "Processing page: <PDFPage: Resources={'ExtGState': {'GS7': <PDFObjRef:25>, 'GS8': <PDFObjRef:26>}, 'Font': {'F1': <PDFObjRef:27>, 'F2': <PDFObjRef:31>, 'F3': <PDFObjRef:35>, 'F4': <PDFObjRef:42>, 'F5': <PDFObjRef:46>, 'F7': <PDFObjRef:55>}, 'ProcSet': [/'PDF', /'Text', /'ImageB', /'ImageC', /'ImageI']}, MediaBox=[0, 0, 595.32, 841.92]>\n",
      "render_contents: resources={'ExtGState': {'GS7': <PDFObjRef:25>, 'GS8': <PDFObjRef:26>}, 'Font': {'F1': <PDFObjRef:27>, 'F2': <PDFObjRef:31>, 'F3': <PDFObjRef:35>, 'F4': <PDFObjRef:42>, 'F5': <PDFObjRef:46>, 'F7': <PDFObjRef:55>}, 'ProcSet': [/'PDF', /'Text', /'ImageB', /'ImageC', /'ImageI']}, streams=[<PDFStream(233): raw=4159, {'Filter': /'FlateDecode', 'Length': 4157}>], ctm=(1, 0, 0, 1, 0, 0)\n"
     ]
    },
    {
     "name": "stderr",
     "output_type": "stream",
     "text": [
      "Page: {'Contents': <PDFObjRef:355>, 'CropBox': [0, 0, 595.32, 841.92], 'Group': {'CS': /'DeviceRGB', 'S': /'Transparency', 'Type': /'Group'}, 'MediaBox': [0, 0, 595.32, 841.92], 'Parent': <PDFObjRef:2>, 'Resources': {'ExtGState': {'GS7': <PDFObjRef:25>, 'GS8': <PDFObjRef:26>}, 'Font': {'F1': <PDFObjRef:27>, 'F2': <PDFObjRef:31>, 'F3': <PDFObjRef:35>, 'F4': <PDFObjRef:42>, 'F5': <PDFObjRef:46>, 'F7': <PDFObjRef:55>}, 'ProcSet': [/'PDF', /'Text', /'ImageB', /'ImageC', /'ImageI'], 'XObject': {'FFT0': <PDFObjRef:354>}}, 'Rotate': 0, 'StructParents': 125, 'Tabs': /'S', 'Type': /'Page'}\n",
      "Processing page: <PDFPage: Resources={'ExtGState': {'GS7': <PDFObjRef:25>, 'GS8': <PDFObjRef:26>}, 'Font': {'F1': <PDFObjRef:27>, 'F2': <PDFObjRef:31>, 'F3': <PDFObjRef:35>, 'F4': <PDFObjRef:42>, 'F5': <PDFObjRef:46>, 'F7': <PDFObjRef:55>}, 'ProcSet': [/'PDF', /'Text', /'ImageB', /'ImageC', /'ImageI'], 'XObject': {'FFT0': <PDFObjRef:354>}}, MediaBox=[0, 0, 595.32, 841.92]>\n",
      "render_contents: resources={'ExtGState': {'GS7': <PDFObjRef:25>, 'GS8': <PDFObjRef:26>}, 'Font': {'F1': <PDFObjRef:27>, 'F2': <PDFObjRef:31>, 'F3': <PDFObjRef:35>, 'F4': <PDFObjRef:42>, 'F5': <PDFObjRef:46>, 'F7': <PDFObjRef:55>}, 'ProcSet': [/'PDF', /'Text', /'ImageB', /'ImageC', /'ImageI'], 'XObject': {'FFT0': <PDFObjRef:354>}}, streams=[<PDFObjRef:237>, <PDFObjRef:356>], ctm=(1, 0, 0, 1, 0, 0)\n",
      "Processing xobj: <PDFStream(354): raw=10, {'BBox': [0, 0, 595.32, 841.92], 'Filter': /'FlateDecode', 'FormType': 1, 'Length': 8, 'Resources': {}, 'Subtype': /'Form', 'Type': /'XObject'}>\n",
      "render_contents: resources={'ExtGState': {'GS7': <PDFObjRef:25>, 'GS8': <PDFObjRef:26>}, 'Font': {'F1': <PDFObjRef:27>, 'F2': <PDFObjRef:31>, 'F3': <PDFObjRef:35>, 'F4': <PDFObjRef:42>, 'F5': <PDFObjRef:46>, 'F7': <PDFObjRef:55>}, 'ProcSet': [/'PDF', /'Text', /'ImageB', /'ImageC', /'ImageI'], 'XObject': {'FFT0': <PDFObjRef:354>}}, streams=[<PDFStream(354): raw=10, {'BBox': [0, 0, 595.32, 841.92], 'Filter': /'FlateDecode', 'FormType': 1, 'Length': 8, 'Resources': {}, 'Subtype': /'Form', 'Type': /'XObject'}>], ctm=(1, 0, 0, 1, 0, 0)\n",
      "Page: {'Contents': <PDFObjRef:239>, 'CropBox': [0, 0, 595.32, 841.92], 'Group': {'CS': /'DeviceRGB', 'S': /'Transparency', 'Type': /'Group'}, 'MediaBox': [0, 0, 595.32, 841.92], 'Parent': <PDFObjRef:2>, 'Resources': {'ExtGState': {'GS7': <PDFObjRef:25>, 'GS8': <PDFObjRef:26>}, 'Font': {'F1': <PDFObjRef:27>, 'F2': <PDFObjRef:31>, 'F3': <PDFObjRef:35>, 'F4': <PDFObjRef:42>, 'F5': <PDFObjRef:46>}, 'ProcSet': [/'PDF', /'Text', /'ImageB', /'ImageC', /'ImageI']}, 'Rotate': 0, 'StructParents': 128, 'Tabs': /'S', 'Type': /'Page'}\n",
      "Processing page: <PDFPage: Resources={'ExtGState': {'GS7': <PDFObjRef:25>, 'GS8': <PDFObjRef:26>}, 'Font': {'F1': <PDFObjRef:27>, 'F2': <PDFObjRef:31>, 'F3': <PDFObjRef:35>, 'F4': <PDFObjRef:42>, 'F5': <PDFObjRef:46>}, 'ProcSet': [/'PDF', /'Text', /'ImageB', /'ImageC', /'ImageI']}, MediaBox=[0, 0, 595.32, 841.92]>\n",
      "render_contents: resources={'ExtGState': {'GS7': <PDFObjRef:25>, 'GS8': <PDFObjRef:26>}, 'Font': {'F1': <PDFObjRef:27>, 'F2': <PDFObjRef:31>, 'F3': <PDFObjRef:35>, 'F4': <PDFObjRef:42>, 'F5': <PDFObjRef:46>}, 'ProcSet': [/'PDF', /'Text', /'ImageB', /'ImageC', /'ImageI']}, streams=[<PDFStream(239): raw=4122, {'Filter': /'FlateDecode', 'Length': 4120}>], ctm=(1, 0, 0, 1, 0, 0)\n",
      "Page: {'Contents': <PDFObjRef:241>, 'CropBox': [0, 0, 595.32, 841.92], 'Group': {'CS': /'DeviceRGB', 'S': /'Transparency', 'Type': /'Group'}, 'MediaBox': [0, 0, 595.32, 841.92], 'Parent': <PDFObjRef:2>, 'Resources': {'ExtGState': {'GS7': <PDFObjRef:25>, 'GS8': <PDFObjRef:26>}, 'Font': {'F1': <PDFObjRef:27>, 'F2': <PDFObjRef:31>, 'F3': <PDFObjRef:35>, 'F4': <PDFObjRef:42>}, 'ProcSet': [/'PDF', /'Text', /'ImageB', /'ImageC', /'ImageI']}, 'Rotate': 0, 'StructParents': 129, 'Tabs': /'S', 'Type': /'Page'}\n",
      "Processing page: <PDFPage: Resources={'ExtGState': {'GS7': <PDFObjRef:25>, 'GS8': <PDFObjRef:26>}, 'Font': {'F1': <PDFObjRef:27>, 'F2': <PDFObjRef:31>, 'F3': <PDFObjRef:35>, 'F4': <PDFObjRef:42>}, 'ProcSet': [/'PDF', /'Text', /'ImageB', /'ImageC', /'ImageI']}, MediaBox=[0, 0, 595.32, 841.92]>\n",
      "render_contents: resources={'ExtGState': {'GS7': <PDFObjRef:25>, 'GS8': <PDFObjRef:26>}, 'Font': {'F1': <PDFObjRef:27>, 'F2': <PDFObjRef:31>, 'F3': <PDFObjRef:35>, 'F4': <PDFObjRef:42>}, 'ProcSet': [/'PDF', /'Text', /'ImageB', /'ImageC', /'ImageI']}, streams=[<PDFStream(241): raw=3727, {'Filter': /'FlateDecode', 'Length': 3725}>], ctm=(1, 0, 0, 1, 0, 0)\n",
      "Page: {'Contents': <PDFObjRef:243>, 'CropBox': [0, 0, 595.32, 841.92], 'Group': {'CS': /'DeviceRGB', 'S': /'Transparency', 'Type': /'Group'}, 'MediaBox': [0, 0, 595.32, 841.92], 'Parent': <PDFObjRef:2>, 'Resources': {'ExtGState': {'GS7': <PDFObjRef:25>, 'GS8': <PDFObjRef:26>}, 'Font': {'F1': <PDFObjRef:27>, 'F2': <PDFObjRef:31>, 'F3': <PDFObjRef:35>, 'F4': <PDFObjRef:42>}, 'ProcSet': [/'PDF', /'Text', /'ImageB', /'ImageC', /'ImageI']}, 'Rotate': 0, 'StructParents': 130, 'Tabs': /'S', 'Type': /'Page'}\n",
      "Processing page: <PDFPage: Resources={'ExtGState': {'GS7': <PDFObjRef:25>, 'GS8': <PDFObjRef:26>}, 'Font': {'F1': <PDFObjRef:27>, 'F2': <PDFObjRef:31>, 'F3': <PDFObjRef:35>, 'F4': <PDFObjRef:42>}, 'ProcSet': [/'PDF', /'Text', /'ImageB', /'ImageC', /'ImageI']}, MediaBox=[0, 0, 595.32, 841.92]>\n",
      "render_contents: resources={'ExtGState': {'GS7': <PDFObjRef:25>, 'GS8': <PDFObjRef:26>}, 'Font': {'F1': <PDFObjRef:27>, 'F2': <PDFObjRef:31>, 'F3': <PDFObjRef:35>, 'F4': <PDFObjRef:42>}, 'ProcSet': [/'PDF', /'Text', /'ImageB', /'ImageC', /'ImageI']}, streams=[<PDFStream(243): raw=4986, {'Filter': /'FlateDecode', 'Length': 4984}>], ctm=(1, 0, 0, 1, 0, 0)\n",
      "Page: {'Contents': <PDFObjRef:245>, 'CropBox': [0, 0, 595.32, 841.92], 'Group': {'CS': /'DeviceRGB', 'S': /'Transparency', 'Type': /'Group'}, 'MediaBox': [0, 0, 595.32, 841.92], 'Parent': <PDFObjRef:2>, 'Resources': {'ExtGState': {'GS7': <PDFObjRef:25>, 'GS8': <PDFObjRef:26>}, 'Font': {'F1': <PDFObjRef:27>, 'F2': <PDFObjRef:31>, 'F3': <PDFObjRef:35>, 'F4': <PDFObjRef:42>}, 'ProcSet': [/'PDF', /'Text', /'ImageB', /'ImageC', /'ImageI']}, 'Rotate': 0, 'StructParents': 131, 'Tabs': /'S', 'Type': /'Page'}\n",
      "Processing page: <PDFPage: Resources={'ExtGState': {'GS7': <PDFObjRef:25>, 'GS8': <PDFObjRef:26>}, 'Font': {'F1': <PDFObjRef:27>, 'F2': <PDFObjRef:31>, 'F3': <PDFObjRef:35>, 'F4': <PDFObjRef:42>}, 'ProcSet': [/'PDF', /'Text', /'ImageB', /'ImageC', /'ImageI']}, MediaBox=[0, 0, 595.32, 841.92]>\n",
      "render_contents: resources={'ExtGState': {'GS7': <PDFObjRef:25>, 'GS8': <PDFObjRef:26>}, 'Font': {'F1': <PDFObjRef:27>, 'F2': <PDFObjRef:31>, 'F3': <PDFObjRef:35>, 'F4': <PDFObjRef:42>}, 'ProcSet': [/'PDF', /'Text', /'ImageB', /'ImageC', /'ImageI']}, streams=[<PDFStream(245): raw=4315, {'Filter': /'FlateDecode', 'Length': 4313}>], ctm=(1, 0, 0, 1, 0, 0)\n",
      "Page: {'Contents': <PDFObjRef:247>, 'CropBox': [0, 0, 595.32, 841.92], 'Group': {'CS': /'DeviceRGB', 'S': /'Transparency', 'Type': /'Group'}, 'MediaBox': [0, 0, 595.32, 841.92], 'Parent': <PDFObjRef:2>, 'Resources': {'ExtGState': {'GS7': <PDFObjRef:25>, 'GS8': <PDFObjRef:26>}, 'Font': {'F1': <PDFObjRef:27>, 'F2': <PDFObjRef:31>, 'F3': <PDFObjRef:35>, 'F4': <PDFObjRef:42>}, 'ProcSet': [/'PDF', /'Text', /'ImageB', /'ImageC', /'ImageI']}, 'Rotate': 0, 'StructParents': 132, 'Tabs': /'S', 'Type': /'Page'}\n",
      "Processing page: <PDFPage: Resources={'ExtGState': {'GS7': <PDFObjRef:25>, 'GS8': <PDFObjRef:26>}, 'Font': {'F1': <PDFObjRef:27>, 'F2': <PDFObjRef:31>, 'F3': <PDFObjRef:35>, 'F4': <PDFObjRef:42>}, 'ProcSet': [/'PDF', /'Text', /'ImageB', /'ImageC', /'ImageI']}, MediaBox=[0, 0, 595.32, 841.92]>\n",
      "render_contents: resources={'ExtGState': {'GS7': <PDFObjRef:25>, 'GS8': <PDFObjRef:26>}, 'Font': {'F1': <PDFObjRef:27>, 'F2': <PDFObjRef:31>, 'F3': <PDFObjRef:35>, 'F4': <PDFObjRef:42>}, 'ProcSet': [/'PDF', /'Text', /'ImageB', /'ImageC', /'ImageI']}, streams=[<PDFStream(247): raw=1362, {'Filter': /'FlateDecode', 'Length': 1360}>], ctm=(1, 0, 0, 1, 0, 0)\n",
      "Page: {'Contents': <PDFObjRef:249>, 'CropBox': [0, 0, 595.32, 841.92], 'Group': {'CS': /'DeviceRGB', 'S': /'Transparency', 'Type': /'Group'}, 'MediaBox': [0, 0, 595.32, 841.92], 'Parent': <PDFObjRef:2>, 'Resources': {'ExtGState': {'GS7': <PDFObjRef:25>, 'GS8': <PDFObjRef:26>}, 'Font': {'F1': <PDFObjRef:27>, 'F2': <PDFObjRef:31>, 'F3': <PDFObjRef:35>, 'F4': <PDFObjRef:42>, 'F5': <PDFObjRef:46>}, 'ProcSet': [/'PDF', /'Text', /'ImageB', /'ImageC', /'ImageI']}, 'Rotate': 0, 'StructParents': 133, 'Tabs': /'S', 'Type': /'Page'}\n"
     ]
    },
    {
     "name": "stderr",
     "output_type": "stream",
     "text": [
      "Processing page: <PDFPage: Resources={'ExtGState': {'GS7': <PDFObjRef:25>, 'GS8': <PDFObjRef:26>}, 'Font': {'F1': <PDFObjRef:27>, 'F2': <PDFObjRef:31>, 'F3': <PDFObjRef:35>, 'F4': <PDFObjRef:42>, 'F5': <PDFObjRef:46>}, 'ProcSet': [/'PDF', /'Text', /'ImageB', /'ImageC', /'ImageI']}, MediaBox=[0, 0, 595.32, 841.92]>\n",
      "render_contents: resources={'ExtGState': {'GS7': <PDFObjRef:25>, 'GS8': <PDFObjRef:26>}, 'Font': {'F1': <PDFObjRef:27>, 'F2': <PDFObjRef:31>, 'F3': <PDFObjRef:35>, 'F4': <PDFObjRef:42>, 'F5': <PDFObjRef:46>}, 'ProcSet': [/'PDF', /'Text', /'ImageB', /'ImageC', /'ImageI']}, streams=[<PDFStream(249): raw=7146, {'Filter': /'FlateDecode', 'Length': 7144}>], ctm=(1, 0, 0, 1, 0, 0)\n",
      "Page: {'Contents': <PDFObjRef:251>, 'CropBox': [0, 0, 595.32, 841.92], 'Group': {'CS': /'DeviceRGB', 'S': /'Transparency', 'Type': /'Group'}, 'MediaBox': [0, 0, 595.32, 841.92], 'Parent': <PDFObjRef:2>, 'Resources': {'ExtGState': {'GS7': <PDFObjRef:25>, 'GS8': <PDFObjRef:26>}, 'Font': {'F1': <PDFObjRef:27>, 'F2': <PDFObjRef:31>, 'F3': <PDFObjRef:35>, 'F4': <PDFObjRef:42>, 'F5': <PDFObjRef:46>}, 'ProcSet': [/'PDF', /'Text', /'ImageB', /'ImageC', /'ImageI']}, 'Rotate': 0, 'StructParents': 134, 'Tabs': /'S', 'Type': /'Page'}\n",
      "Processing page: <PDFPage: Resources={'ExtGState': {'GS7': <PDFObjRef:25>, 'GS8': <PDFObjRef:26>}, 'Font': {'F1': <PDFObjRef:27>, 'F2': <PDFObjRef:31>, 'F3': <PDFObjRef:35>, 'F4': <PDFObjRef:42>, 'F5': <PDFObjRef:46>}, 'ProcSet': [/'PDF', /'Text', /'ImageB', /'ImageC', /'ImageI']}, MediaBox=[0, 0, 595.32, 841.92]>\n",
      "render_contents: resources={'ExtGState': {'GS7': <PDFObjRef:25>, 'GS8': <PDFObjRef:26>}, 'Font': {'F1': <PDFObjRef:27>, 'F2': <PDFObjRef:31>, 'F3': <PDFObjRef:35>, 'F4': <PDFObjRef:42>, 'F5': <PDFObjRef:46>}, 'ProcSet': [/'PDF', /'Text', /'ImageB', /'ImageC', /'ImageI']}, streams=[<PDFStream(251): raw=7348, {'Filter': /'FlateDecode', 'Length': 7346}>], ctm=(1, 0, 0, 1, 0, 0)\n",
      "Page: {'Contents': <PDFObjRef:253>, 'CropBox': [0, 0, 595.32, 841.92], 'Group': {'CS': /'DeviceRGB', 'S': /'Transparency', 'Type': /'Group'}, 'MediaBox': [0, 0, 595.32, 841.92], 'Parent': <PDFObjRef:2>, 'Resources': {'ExtGState': {'GS7': <PDFObjRef:25>, 'GS8': <PDFObjRef:26>}, 'Font': {'F1': <PDFObjRef:27>, 'F2': <PDFObjRef:31>, 'F3': <PDFObjRef:35>, 'F4': <PDFObjRef:42>, 'F5': <PDFObjRef:46>}, 'ProcSet': [/'PDF', /'Text', /'ImageB', /'ImageC', /'ImageI']}, 'Rotate': 0, 'StructParents': 135, 'Tabs': /'S', 'Type': /'Page'}\n",
      "Processing page: <PDFPage: Resources={'ExtGState': {'GS7': <PDFObjRef:25>, 'GS8': <PDFObjRef:26>}, 'Font': {'F1': <PDFObjRef:27>, 'F2': <PDFObjRef:31>, 'F3': <PDFObjRef:35>, 'F4': <PDFObjRef:42>, 'F5': <PDFObjRef:46>}, 'ProcSet': [/'PDF', /'Text', /'ImageB', /'ImageC', /'ImageI']}, MediaBox=[0, 0, 595.32, 841.92]>\n",
      "render_contents: resources={'ExtGState': {'GS7': <PDFObjRef:25>, 'GS8': <PDFObjRef:26>}, 'Font': {'F1': <PDFObjRef:27>, 'F2': <PDFObjRef:31>, 'F3': <PDFObjRef:35>, 'F4': <PDFObjRef:42>, 'F5': <PDFObjRef:46>}, 'ProcSet': [/'PDF', /'Text', /'ImageB', /'ImageC', /'ImageI']}, streams=[<PDFStream(253): raw=7878, {'Filter': /'FlateDecode', 'Length': 7876}>], ctm=(1, 0, 0, 1, 0, 0)\n",
      "Page: {'Contents': <PDFObjRef:255>, 'CropBox': [0, 0, 595.32, 841.92], 'Group': {'CS': /'DeviceRGB', 'S': /'Transparency', 'Type': /'Group'}, 'MediaBox': [0, 0, 595.32, 841.92], 'Parent': <PDFObjRef:2>, 'Resources': {'ExtGState': {'GS7': <PDFObjRef:25>, 'GS8': <PDFObjRef:26>}, 'Font': {'F1': <PDFObjRef:27>, 'F2': <PDFObjRef:31>, 'F3': <PDFObjRef:35>, 'F4': <PDFObjRef:42>, 'F5': <PDFObjRef:46>}, 'ProcSet': [/'PDF', /'Text', /'ImageB', /'ImageC', /'ImageI']}, 'Rotate': 0, 'StructParents': 136, 'Tabs': /'S', 'Type': /'Page'}\n",
      "Processing page: <PDFPage: Resources={'ExtGState': {'GS7': <PDFObjRef:25>, 'GS8': <PDFObjRef:26>}, 'Font': {'F1': <PDFObjRef:27>, 'F2': <PDFObjRef:31>, 'F3': <PDFObjRef:35>, 'F4': <PDFObjRef:42>, 'F5': <PDFObjRef:46>}, 'ProcSet': [/'PDF', /'Text', /'ImageB', /'ImageC', /'ImageI']}, MediaBox=[0, 0, 595.32, 841.92]>\n",
      "render_contents: resources={'ExtGState': {'GS7': <PDFObjRef:25>, 'GS8': <PDFObjRef:26>}, 'Font': {'F1': <PDFObjRef:27>, 'F2': <PDFObjRef:31>, 'F3': <PDFObjRef:35>, 'F4': <PDFObjRef:42>, 'F5': <PDFObjRef:46>}, 'ProcSet': [/'PDF', /'Text', /'ImageB', /'ImageC', /'ImageI']}, streams=[<PDFStream(255): raw=6795, {'Filter': /'FlateDecode', 'Length': 6793}>], ctm=(1, 0, 0, 1, 0, 0)\n",
      "Page: {'Contents': <PDFObjRef:257>, 'CropBox': [0, 0, 595.32, 841.92], 'Group': {'CS': /'DeviceRGB', 'S': /'Transparency', 'Type': /'Group'}, 'MediaBox': [0, 0, 595.32, 841.92], 'Parent': <PDFObjRef:2>, 'Resources': {'ExtGState': {'GS7': <PDFObjRef:25>, 'GS8': <PDFObjRef:26>}, 'Font': {'F1': <PDFObjRef:27>, 'F2': <PDFObjRef:31>, 'F3': <PDFObjRef:35>, 'F4': <PDFObjRef:42>, 'F5': <PDFObjRef:46>}, 'ProcSet': [/'PDF', /'Text', /'ImageB', /'ImageC', /'ImageI']}, 'Rotate': 0, 'StructParents': 137, 'Tabs': /'S', 'Type': /'Page'}\n",
      "Processing page: <PDFPage: Resources={'ExtGState': {'GS7': <PDFObjRef:25>, 'GS8': <PDFObjRef:26>}, 'Font': {'F1': <PDFObjRef:27>, 'F2': <PDFObjRef:31>, 'F3': <PDFObjRef:35>, 'F4': <PDFObjRef:42>, 'F5': <PDFObjRef:46>}, 'ProcSet': [/'PDF', /'Text', /'ImageB', /'ImageC', /'ImageI']}, MediaBox=[0, 0, 595.32, 841.92]>\n",
      "render_contents: resources={'ExtGState': {'GS7': <PDFObjRef:25>, 'GS8': <PDFObjRef:26>}, 'Font': {'F1': <PDFObjRef:27>, 'F2': <PDFObjRef:31>, 'F3': <PDFObjRef:35>, 'F4': <PDFObjRef:42>, 'F5': <PDFObjRef:46>}, 'ProcSet': [/'PDF', /'Text', /'ImageB', /'ImageC', /'ImageI']}, streams=[<PDFStream(257): raw=7317, {'Filter': /'FlateDecode', 'Length': 7315}>], ctm=(1, 0, 0, 1, 0, 0)\n",
      "Page: {'Contents': <PDFObjRef:259>, 'CropBox': [0, 0, 595.32, 841.92], 'Group': {'CS': /'DeviceRGB', 'S': /'Transparency', 'Type': /'Group'}, 'MediaBox': [0, 0, 595.32, 841.92], 'Parent': <PDFObjRef:2>, 'Resources': {'ExtGState': {'GS7': <PDFObjRef:25>, 'GS8': <PDFObjRef:26>}, 'Font': {'F1': <PDFObjRef:27>, 'F2': <PDFObjRef:31>, 'F3': <PDFObjRef:35>, 'F4': <PDFObjRef:42>, 'F5': <PDFObjRef:46>}, 'ProcSet': [/'PDF', /'Text', /'ImageB', /'ImageC', /'ImageI']}, 'Rotate': 0, 'StructParents': 138, 'Tabs': /'S', 'Type': /'Page'}\n",
      "Processing page: <PDFPage: Resources={'ExtGState': {'GS7': <PDFObjRef:25>, 'GS8': <PDFObjRef:26>}, 'Font': {'F1': <PDFObjRef:27>, 'F2': <PDFObjRef:31>, 'F3': <PDFObjRef:35>, 'F4': <PDFObjRef:42>, 'F5': <PDFObjRef:46>}, 'ProcSet': [/'PDF', /'Text', /'ImageB', /'ImageC', /'ImageI']}, MediaBox=[0, 0, 595.32, 841.92]>\n",
      "render_contents: resources={'ExtGState': {'GS7': <PDFObjRef:25>, 'GS8': <PDFObjRef:26>}, 'Font': {'F1': <PDFObjRef:27>, 'F2': <PDFObjRef:31>, 'F3': <PDFObjRef:35>, 'F4': <PDFObjRef:42>, 'F5': <PDFObjRef:46>}, 'ProcSet': [/'PDF', /'Text', /'ImageB', /'ImageC', /'ImageI']}, streams=[<PDFStream(259): raw=7745, {'Filter': /'FlateDecode', 'Length': 7743}>], ctm=(1, 0, 0, 1, 0, 0)\n",
      "Page: {'Contents': <PDFObjRef:261>, 'CropBox': [0, 0, 595.32, 841.92], 'Group': {'CS': /'DeviceRGB', 'S': /'Transparency', 'Type': /'Group'}, 'MediaBox': [0, 0, 595.32, 841.92], 'Parent': <PDFObjRef:2>, 'Resources': {'ExtGState': {'GS7': <PDFObjRef:25>, 'GS8': <PDFObjRef:26>}, 'Font': {'F1': <PDFObjRef:27>, 'F2': <PDFObjRef:31>, 'F3': <PDFObjRef:35>, 'F4': <PDFObjRef:42>, 'F5': <PDFObjRef:46>}, 'ProcSet': [/'PDF', /'Text', /'ImageB', /'ImageC', /'ImageI']}, 'Rotate': 0, 'StructParents': 139, 'Tabs': /'S', 'Type': /'Page'}\n",
      "Processing page: <PDFPage: Resources={'ExtGState': {'GS7': <PDFObjRef:25>, 'GS8': <PDFObjRef:26>}, 'Font': {'F1': <PDFObjRef:27>, 'F2': <PDFObjRef:31>, 'F3': <PDFObjRef:35>, 'F4': <PDFObjRef:42>, 'F5': <PDFObjRef:46>}, 'ProcSet': [/'PDF', /'Text', /'ImageB', /'ImageC', /'ImageI']}, MediaBox=[0, 0, 595.32, 841.92]>\n",
      "render_contents: resources={'ExtGState': {'GS7': <PDFObjRef:25>, 'GS8': <PDFObjRef:26>}, 'Font': {'F1': <PDFObjRef:27>, 'F2': <PDFObjRef:31>, 'F3': <PDFObjRef:35>, 'F4': <PDFObjRef:42>, 'F5': <PDFObjRef:46>}, 'ProcSet': [/'PDF', /'Text', /'ImageB', /'ImageC', /'ImageI']}, streams=[<PDFStream(261): raw=3346, {'Filter': /'FlateDecode', 'Length': 3344}>], ctm=(1, 0, 0, 1, 0, 0)\n"
     ]
    }
   ],
   "source": [
    "from pdfminer.high_level import extract_text\n",
    "\n",
    "# Extract text from the PDF file\n",
    "text = extract_text('sample.pdf')\n",
    "\n",
    "# Clean the extracted text (if needed)\n",
    "clean_text = text.replace(\"  \", \" \").replace(\"\\n\", \"; \").replace(';', ' ')"
   ]
  },
  {
   "cell_type": "code",
   "execution_count": 3,
   "id": "77b7e5e2",
   "metadata": {},
   "outputs": [
    {
     "name": "stdout",
     "output_type": "stream",
     "text": [
      "Extract key pieces of information from this regulation document.\n",
      "If a particular piece of information is not present, output \"Not specified\".\n",
      "When you extract a key piece of information, include the closest page number.\n",
      "Use the following format:\n",
      "0. Who is the author\n",
      "1. What is the amount of the \"Power Unit Cost Cap\" in USD, GBP and EUR\n",
      "2. What is the value of External Manufacturing Costs in USD\n",
      "3. What is the Capital Expenditure Limit in USD\n",
      "\n",
      "Document: \"\"\"<document>\"\"\"\n",
      "\n",
      "0. Who is the author: Tom Anderson (Page 1)\n",
      "1.\n"
     ]
    }
   ],
   "source": [
    "# Example prompt - \n",
    "document = '<document>'\n",
    "template_prompt=f'''Extract key pieces of information from this regulation document.\n",
    "If a particular piece of information is not present, output \\\"Not specified\\\".\n",
    "When you extract a key piece of information, include the closest page number.\n",
    "Use the following format:\\n0. Who is the author\\n1. What is the amount of the \"Power Unit Cost Cap\" in USD, GBP and EUR\\n2. What is the value of External Manufacturing Costs in USD\\n3. What is the Capital Expenditure Limit in USD\\n\\nDocument: \\\"\\\"\\\"{document}\\\"\\\"\\\"\\n\\n0. Who is the author: Tom Anderson (Page 1)\\n1.'''\n",
    "print(template_prompt)"
   ]
  },
  {
   "cell_type": "code",
   "execution_count": 4,
   "id": "30bc1953",
   "metadata": {},
   "outputs": [],
   "source": [
    "import openai\n",
    "openai.api_key = \"123xxxxxxxxxxxxxxxx\""
   ]
  },
  {
   "cell_type": "code",
   "execution_count": 6,
   "id": "8302edf6",
   "metadata": {},
   "outputs": [],
   "source": [
    "# Split a text into smaller chunks of size n, preferably ending at the end of a sentence\n",
    "def create_chunks(text, n, tokenizer):\n",
    "    tokens = tokenizer.encode(text)\n",
    "    \"\"\"Yield successive n-sized chunks from text.\"\"\"\n",
    "    i = 0\n",
    "    while i < len(tokens):\n",
    "        # Find the nearest end of sentence within a range of 0.5 * n and 1.5 * n tokens\n",
    "        j = min(i + int(1.5 * n), len(tokens))\n",
    "        while j > i + int(0.5 * n):\n",
    "            # Decode the tokens and check for full stop or newline\n",
    "            chunk = tokenizer.decode(tokens[i:j])\n",
    "            if chunk.endswith(\".\") or chunk.endswith(\"\\n\"):\n",
    "                break\n",
    "            j -= 1\n",
    "        # If no end of sentence found, use n tokens as the chunk size\n",
    "        if j == i + int(0.5 * n):\n",
    "            j = min(i + n, len(tokens))\n",
    "        yield tokens[i:j]\n",
    "        i = j\n",
    "\n",
    "def extract_chunk(document,template_prompt):\n",
    "    \n",
    "    prompt=template_prompt.replace('<document>',document)\n",
    "\n",
    "    response = openai.Completion.create(\n",
    "    model='text-davinci-003', \n",
    "    prompt=prompt,\n",
    "    temperature=0,\n",
    "    max_tokens=1500,\n",
    "    top_p=1,\n",
    "    frequency_penalty=0,\n",
    "    presence_penalty=0\n",
    "    )\n",
    "    return \"1.\" + response['choices'][0]['text']"
   ]
  },
  {
   "cell_type": "code",
   "execution_count": 7,
   "id": "7f383b99",
   "metadata": {},
   "outputs": [
    {
     "name": "stdout",
     "output_type": "stream",
     "text": [
      "1. What is the amount of the \"Power Unit Cost Cap\" in USD, GBP and EUR: Not specified\n",
      "2. What is the value of External Manufacturing Costs in USD: Not specified\n",
      "3. What is the Capital Expenditure Limit in USD: Not specified\n",
      "1. What is the amount of the \"Power Unit Cost Cap\" in USD, GBP and EUR: USD 95,000,000 (Page 2); GBP 76,459,000 (Page 2); EUR 90,210,000 (Page 2)\n",
      "2. What is the value of External Manufacturing Costs in USD: Not specified\n",
      "3. What is the Capital Expenditure Limit in USD: Not specified\n",
      "1. What is the amount of the \"Power Unit Cost Cap\" in USD, GBP and EUR: Not specified\n",
      "2. What is the value of External Manufacturing Costs in USD: Not specified\n",
      "3. What is the Capital Expenditure Limit in USD: Not specified\n",
      "1. What is the amount of the \"Power Unit Cost Cap\" in USD, GBP and EUR: Not specified\n",
      "2. What is the value of External Manufacturing Costs in USD: US Dollars 20,000,000 in respect of each of the Full Year Reporting Periods ending on 31 December 2023, 31 December 2024 and 31 December 2025, adjusted for Indexation (Page 10)\n",
      "3. What is the Capital Expenditure Limit in USD: Not specified\n",
      "1. What is the amount of the \"Power Unit Cost Cap\" in USD, GBP and EUR: Not specified\n",
      "2. What is the value of External Manufacturing Costs in USD: Not specified\n",
      "3. What is the Capital Expenditure Limit in USD: Not specified (Page 11)\n",
      "1. What is the amount of the \"Power Unit Cost Cap\" in USD, GBP and EUR: Not specified\n",
      "2. What is the value of External Manufacturing Costs in USD: Not specified\n",
      "3. What is the Capital Expenditure Limit in USD: Not specified\n",
      "1. What is the amount of the \"Power Unit Cost Cap\" in USD, GBP and EUR: Not specified\n",
      "2. What is the value of External Manufacturing Costs in USD: Not specified\n",
      "3. What is the Capital Expenditure Limit in USD: Not specified\n",
      "1. What is the amount of the \"Power Unit Cost Cap\" in USD, GBP and EUR: Not specified\n",
      "2. What is the value of External Manufacturing Costs in USD: Not specified\n",
      "3. What is the Capital Expenditure Limit in USD: Not specified\n",
      "1. What is the amount of the \"Power Unit Cost Cap\" in USD, GBP and EUR: Not specified\n",
      "2. What is the value of External Manufacturing Costs in USD: Not specified\n",
      "3. What is the Capital Expenditure Limit in USD: Not specified\n",
      "1. What is the amount of the \"Power Unit Cost Cap\" in USD, GBP and EUR: Not specified\n",
      "2. What is the value of External Manufacturing Costs in USD: Not specified\n",
      "3. What is the Capital Expenditure Limit in USD: Not specified\n",
      "1. What is the amount of the \"Power Unit Cost Cap\" in USD, GBP and EUR: Not specified\n",
      "2. What is the value of External Manufacturing Costs in USD: Not specified\n",
      "3. What is the Capital Expenditure Limit in USD: Not specified (Page 26)\n",
      "1. What is the amount of the \"Power Unit Cost Cap\" in USD, GBP and EUR: Not specified\n",
      "2. What is the value of External Manufacturing Costs in USD: Not specified\n",
      "3. What is the Capital Expenditure Limit in USD: Not specified\n",
      "1. What is the amount of the \"Power Unit Cost Cap\" in USD, GBP and EUR: Not specified\n",
      "2. What is the value of External Manufacturing Costs in USD: Not specified\n",
      "3. What is the Capital Expenditure Limit in USD: Not specified (Page 31)\n",
      "1. What is the amount of the \"Power Unit Cost Cap\" in USD, GBP and EUR: Not specified\n",
      "2. What is the value of External Manufacturing Costs in USD: Not specified\n",
      "3. What is the Capital Expenditure Limit in USD: US Dollars 30,000,000 (Page 32)\n",
      "1. What is the amount of the \"Power Unit Cost Cap\" in USD, GBP and EUR: Not specified\n",
      "2. What is the value of External Manufacturing Costs in USD: Not specified\n",
      "3. What is the Capital Expenditure Limit in USD: Not specified\n",
      "1. What is the amount of the \"Power Unit Cost Cap\" in USD, GBP and EUR: Not specified\n",
      "2. What is the value of External Manufacturing Costs in USD: Not specified\n",
      "3. What is the Capital Expenditure Limit in USD: Not specified\n",
      "1. What is the amount of the \"Power Unit Cost Cap\" in USD, GBP and EUR: Not specified\n",
      "2. What is the value of External Manufacturing Costs in USD: Not specified\n",
      "3. What is the Capital Expenditure Limit in USD: Not specified\n",
      "1. What is the amount of the \"Power Unit Cost Cap\" in USD, GBP and EUR: Not specified\n",
      "2. What is the value of External Manufacturing Costs in USD: Not specified\n",
      "3. What is the Capital Expenditure Limit in USD: Not specified\n",
      "1. What is the amount of the \"Power Unit Cost Cap\" in USD, GBP and EUR: Not specified (Page 44)\n",
      "2. What is the value of External Manufacturing Costs in USD: Not specified (Page 44)\n",
      "3. What is the Capital Expenditure Limit in USD: Not specified (Page 44)\n",
      "1. What is the amount of the \"Power Unit Cost Cap\" in USD, GBP and EUR: Not specified\n",
      "2. What is the value of External Manufacturing Costs in USD: Not specified\n",
      "3. What is the Capital Expenditure Limit in USD: Not specified\n",
      "1. What is the amount of the \"Power Unit Cost Cap\" in USD, GBP and EUR: Not specified\n",
      "2. What is the value of External Manufacturing Costs in USD: Not specified\n",
      "3. What is the Capital Expenditure Limit in USD: Not specified (Page 50)\n",
      "1. What is the amount of the \"Power Unit Cost Cap\" in USD, GBP and EUR: Not specified\n",
      "2. What is the value of External Manufacturing Costs in USD: Not specified\n",
      "3. What is the Capital Expenditure Limit in USD: Not specified (Page 54)\n",
      "1. What is the amount of the \"Power Unit Cost Cap\" in USD, GBP and EUR: Not specified\n",
      "2. What is the value of External Manufacturing Costs in USD: Not specified\n",
      "3. What is the Capital Expenditure Limit in USD: Not specified (Page 58)\n",
      "1. What is the amount of the \"Power Unit Cost Cap\" in USD, GBP and EUR: Not specified\n",
      "2. What is the value of External Manufacturing Costs in USD: Not specified\n",
      "3. What is the Capital Expenditure Limit in USD: Not specified\n",
      "1. What is the amount of the \"Power Unit Cost Cap\" in USD, GBP and EUR: Not specified\n",
      "2. What is the value of External Manufacturing Costs in USD: Not specified\n",
      "3. What is the Capital Expenditure Limit in USD: Not specified\n",
      "1. What is the amount of the \"Power Unit Cost Cap\" in USD, GBP and EUR: Not specified\n",
      "2. What is the value of External Manufacturing Costs in USD: Not specified\n",
      "3. What is the Capital Expenditure Limit in USD: Not specified\n"
     ]
    }
   ],
   "source": [
    "import tiktoken\n",
    "import openai\n",
    "\n",
    "# Set your OpenAI API key here\n",
    "openai.api_key = \"123xxxxxxxxxxxxxx8tvDF\"\n",
    "\n",
    "# Initialise tokenizer\n",
    "tokenizer = tiktoken.get_encoding(\"cl100k_base\")\n",
    "\n",
    "results = []\n",
    "    \n",
    "chunks = create_chunks(clean_text, 1000, tokenizer)\n",
    "text_chunks = [tokenizer.decode(chunk) for chunk in chunks]\n",
    "\n",
    "for chunk in text_chunks:\n",
    "    results.append(extract_chunk(chunk, template_prompt))\n",
    "    print(results[-1])"
   ]
  },
  {
   "cell_type": "code",
   "execution_count": 8,
   "id": "6dc5ab62",
   "metadata": {},
   "outputs": [
    {
     "data": {
      "text/plain": [
       "['1. What is the amount of the \"Power Unit Cost Cap\" in USD, GBP and EUR: USD 95,000,000 (Page 2); GBP 76,459,000 (Page 2); EUR 90,210,000 (Page 2)',\n",
       " '2. What is the value of External Manufacturing Costs in USD: US Dollars 20,000,000 in respect of each of the Full Year Reporting Periods ending on 31 December 2023, 31 December 2024 and 31 December 2025, adjusted for Indexation (Page 10)',\n",
       " '3. What is the Capital Expenditure Limit in USD: US Dollars 30,000,000 (Page 32)']"
      ]
     },
     "execution_count": 8,
     "metadata": {},
     "output_type": "execute_result"
    }
   ],
   "source": [
    "groups = [r.split('\\n') for r in results]\n",
    "\n",
    "# zip the groups together\n",
    "zipped = list(zip(*groups))\n",
    "zipped = [x for y in zipped for x in y if \"Not specified\" not in x and \"__\" not in x]\n",
    "zipped"
   ]
  },
  {
   "cell_type": "raw",
   "id": "10a0f99c",
   "metadata": {},
   "source": [
    "Complex Entity Extraction"
   ]
  },
  {
   "cell_type": "code",
   "execution_count": 9,
   "id": "f8429ec3",
   "metadata": {},
   "outputs": [
    {
     "name": "stdout",
     "output_type": "stream",
     "text": [
      "Extract key pieces of information from this regulation document.\n",
      "If a particular piece of information is not present, output \"Not specified\".\n",
      "When you extract a key piece of information, include the closest page number.\n",
      "Use the following format:\n",
      "0. Who is the author\n",
      "1. How is a Minor Overspend Breach calculated\n",
      "2. How is a Major Overspend Breach calculated\n",
      "3. Which years do these financial regulations apply to\n",
      "\n",
      "Document: \"\"\"<document>\"\"\"\n",
      "\n",
      "0. Who is the author: Tom Anderson (Page 1)\n",
      "1.\n"
     ]
    }
   ],
   "source": [
    "# Example prompt - \n",
    "template_prompt=f'''Extract key pieces of information from this regulation document.\n",
    "If a particular piece of information is not present, output \\\"Not specified\\\".\n",
    "When you extract a key piece of information, include the closest page number.\n",
    "Use the following format:\\n0. Who is the author\\n1. How is a Minor Overspend Breach calculated\\n2. How is a Major Overspend Breach calculated\\n3. Which years do these financial regulations apply to\\n\\nDocument: \\\"\\\"\\\"{document}\\\"\\\"\\\"\\n\\n0. Who is the author: Tom Anderson (Page 1)\\n1.'''\n",
    "print(template_prompt)"
   ]
  },
  {
   "cell_type": "code",
   "execution_count": 10,
   "id": "e507637f",
   "metadata": {},
   "outputs": [
    {
     "data": {
      "text/plain": [
       "['1. How is a Minor Overspend Breach calculated: A Minor Overspend Breach arises when a Power Unit Manufacturer submits its Full Year Reporting Documentation and Relevant Costs reported therein exceed the Power Unit Cost Cap by less than 5% (Page 24)',\n",
       " '2. How is a Major Overspend Breach calculated: A Material Overspend Breach arises when a Power Unit Manufacturer submits its Full Year Reporting Documentation and Relevant Costs reported therein exceed the Power Unit Cost Cap by 5% or more (Page 25)',\n",
       " '3. Which years do these financial regulations apply to: 2026 onwards (Page 1)',\n",
       " '3. Which years do these financial regulations apply to: 2023, 2024, 2025, 2026 and subsequent Full Year Reporting Periods (Page 2)',\n",
       " '3. Which years do these financial regulations apply to: 2022-2025 (Page 6)',\n",
       " '3. Which years do these financial regulations apply to: 2023, 2024, 2025, 2026 and subsequent Full Year Reporting Periods (Page 10)',\n",
       " '3. Which years do these financial regulations apply to: 2022 (Page 1)',\n",
       " '3. Which years do these financial regulations apply to: 2022 (Page 14)',\n",
       " '3. Which years do these financial regulations apply to: 2022 (Page 16)',\n",
       " '3. Which years do these financial regulations apply to: 2022 (Page 19)',\n",
       " '3. Which years do these financial regulations apply to: 2022 (Page 21)',\n",
       " '3. Which years do these financial regulations apply to: 2026 onwards (Page 26)',\n",
       " '3. Which years do these financial regulations apply to: 2026 (Page 1)',\n",
       " '3. Which years do these financial regulations apply to: 2022 (Page 30)',\n",
       " '3. Which years do these financial regulations apply to: 2022 (Page 32)',\n",
       " '3. Which years do these financial regulations apply to: 2023, 2024 and 2025 (Page 1)',\n",
       " '3. Which years do these financial regulations apply to: 2022 (Page 37)',\n",
       " '3. Which years do these financial regulations apply to: 2026 onwards (Page 40)',\n",
       " '3. Which years do these financial regulations apply to: 2022 (Page 1)',\n",
       " '3. Which years do these financial regulations apply to: 2026 to 2030 seasons (Page 46)',\n",
       " '3. Which years do these financial regulations apply to: 2022 (Page 47)',\n",
       " '3. Which years do these financial regulations apply to: 2022 (Page 1)',\n",
       " '3. Which years do these financial regulations apply to: 2022 (Page 1)',\n",
       " '3. Which years do these financial regulations apply to: 2022 (Page 56)',\n",
       " '3. Which years do these financial regulations apply to: 2022 (Page 1)',\n",
       " '3. Which years do these financial regulations apply to: 2022 (Page 16)',\n",
       " '3. Which years do these financial regulations apply to: 2022 (Page 2)']"
      ]
     },
     "execution_count": 10,
     "metadata": {},
     "output_type": "execute_result"
    }
   ],
   "source": [
    "results = []\n",
    "\n",
    "for chunk in text_chunks:\n",
    "    results.append(extract_chunk(chunk,template_prompt))\n",
    "    \n",
    "groups = [r.split('\\n') for r in results]\n",
    "\n",
    "# zip the groups together\n",
    "zipped = list(zip(*groups))\n",
    "zipped = [x for y in zipped for x in y if \"Not specified\" not in x and \"__\" not in x]\n",
    "zipped"
   ]
  },
  {
   "cell_type": "code",
   "execution_count": null,
   "id": "9e0c12ec",
   "metadata": {},
   "outputs": [],
   "source": []
  }
 ],
 "metadata": {
  "kernelspec": {
   "display_name": "Python 3 (ipykernel)",
   "language": "python",
   "name": "python3"
  },
  "language_info": {
   "codemirror_mode": {
    "name": "ipython",
    "version": 3
   },
   "file_extension": ".py",
   "mimetype": "text/x-python",
   "name": "python",
   "nbconvert_exporter": "python",
   "pygments_lexer": "ipython3",
   "version": "3.9.7"
  }
 },
 "nbformat": 4,
 "nbformat_minor": 5
}
